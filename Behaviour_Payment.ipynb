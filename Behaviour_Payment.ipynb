{
  "nbformat": 4,
  "nbformat_minor": 0,
  "metadata": {
    "colab": {
      "name": "Behaviour Payment.ipynb",
      "provenance": [],
      "collapsed_sections": [
        "O-e9OQ-IUAWi",
        "Ev9oAbYiUOCK",
        "TOSz8LoHzau3",
        "fda2EEKG2YZv",
        "E376Y9TzzpHs",
        "UALJnmQbjlvB",
        "v8rmVjeZjWd9",
        "jrPVTqxNOw-L",
        "X_tXO8xIRtIJ"
      ],
      "toc_visible": true
    },
    "kernelspec": {
      "display_name": "Python 3",
      "name": "python3"
    },
    "language_info": {
      "name": "python"
    }
  },
  "cells": [
    {
      "cell_type": "markdown",
      "metadata": {
        "id": "O-e9OQ-IUAWi"
      },
      "source": [
        "# Importing Dependencies"
      ]
    },
    {
      "cell_type": "code",
      "metadata": {
        "colab": {
          "base_uri": "https://localhost:8080/"
        },
        "id": "v0719deFT8yn",
        "outputId": "2ecfac64-3c67-4981-c04a-5c4edd7b04f8"
      },
      "source": [
        "import os\n",
        "import shutil\n",
        "\n",
        "import pandas as pd\n",
        "import numpy as np\n",
        "import matplotlib.pyplot as plt\n",
        "import seaborn as sns\n",
        "from IPython.display import clear_output\n",
        "from sklearn.metrics import classification_report\n",
        "from sklearn.metrics import confusion_matrix\n",
        "import tensorflow as tf\n",
        "\n",
        "from google.colab import drive\n",
        "drive.mount('/content/drive')"
      ],
      "execution_count": 1,
      "outputs": [
        {
          "output_type": "stream",
          "name": "stdout",
          "text": [
            "Go to this URL in a browser: https://accounts.google.com/o/oauth2/auth?client_id=947318989803-6bn6qk8qdgf4n4g3pfee6491hc0brc4i.apps.googleusercontent.com&redirect_uri=urn%3aietf%3awg%3aoauth%3a2.0%3aoob&scope=email%20https%3a%2f%2fwww.googleapis.com%2fauth%2fdocs.test%20https%3a%2f%2fwww.googleapis.com%2fauth%2fdrive%20https%3a%2f%2fwww.googleapis.com%2fauth%2fdrive.photos.readonly%20https%3a%2f%2fwww.googleapis.com%2fauth%2fpeopleapi.readonly%20https%3a%2f%2fwww.googleapis.com%2fauth%2fdrive.activity.readonly%20https%3a%2f%2fwww.googleapis.com%2fauth%2fexperimentsandconfigs%20https%3a%2f%2fwww.googleapis.com%2fauth%2fphotos.native&response_type=code\n",
            "\n",
            "Enter your authorization code:\n",
            "4/1AX4XfWgo2AvFmwzYLwu3LDUWjmzVRiul7GPmsTdzRN5nnsfiWkvK3wlrdK4\n",
            "Mounted at /content/drive\n"
          ]
        }
      ]
    },
    {
      "cell_type": "markdown",
      "metadata": {
        "id": "Ev9oAbYiUOCK"
      },
      "source": [
        "# Dataset Preparation"
      ]
    },
    {
      "cell_type": "code",
      "metadata": {
        "colab": {
          "base_uri": "https://localhost:8080/",
          "height": 36
        },
        "id": "WLJQKf3LUE3O",
        "outputId": "2bc86779-d602-483f-8372-9dd2265d6ee4"
      },
      "source": [
        "if not os.path.exists(os.getcwd() + \"/Data\"):\n",
        "    os.mkdir(os.getcwd() + \"/Data\")\n",
        "shutil.copyfile(os.getcwd() + \"/drive/MyDrive/Intern Telkom DDB/Project/Data/rpa-billing-result_100k_2021_01_01.csv\",\n",
        "                os.getcwd() + \"/Data/rpa-billing-result_100k_2021_01_01.csv\")"
      ],
      "execution_count": 2,
      "outputs": [
        {
          "output_type": "execute_result",
          "data": {
            "application/vnd.google.colaboratory.intrinsic+json": {
              "type": "string"
            },
            "text/plain": [
              "'/content/Data/rpa-billing-result_100k_2021_01_01.csv'"
            ]
          },
          "metadata": {},
          "execution_count": 2
        }
      ]
    },
    {
      "cell_type": "code",
      "metadata": {
        "colab": {
          "base_uri": "https://localhost:8080/"
        },
        "id": "mR8iPJPjUut7",
        "outputId": "c82dbba1-835a-4fa3-e72d-6a70fbff8dfd"
      },
      "source": [
        "df = pd.read_csv(os.getcwd() + \"/Data/rpa-billing-result_100k_2021_01_01.csv\")"
      ],
      "execution_count": 3,
      "outputs": [
        {
          "output_type": "stream",
          "name": "stderr",
          "text": [
            "/usr/local/lib/python3.7/dist-packages/IPython/core/interactiveshell.py:2718: DtypeWarning: Columns (1,2,3,4,9,10,11,12,13,18) have mixed types.Specify dtype option on import or set low_memory=False.\n",
            "  interactivity=interactivity, compiler=compiler, result=result)\n"
          ]
        }
      ]
    },
    {
      "cell_type": "code",
      "metadata": {
        "id": "9WOupjps4_yM"
      },
      "source": [
        "df"
      ],
      "execution_count": null,
      "outputs": []
    },
    {
      "cell_type": "code",
      "metadata": {
        "id": "URNr3_un5oEC"
      },
      "source": [
        "df = df[[\"number\", \"gladius.paketradius\",\n",
        "         \"billing_11_period\", \"billing_11_amountTotal\", \"billing_11_status\", \"billing_11_paymentDate\", \"billing_11_paymentTime\", \"billing_11_channel\",\n",
        "         \"billing_10_period\", \"billing_10_amountTotal\", \"billing_10_status\", \"billing_10_paymentDate\", \"billing_10_paymentTime\", \"billing_10_channel\",\n",
        "         \"billing_9_period\", \"billing_9_amountTotal\", \"billing_9_status\", \"billing_9_paymentDate\", \"billing_9_paymentTime\", \"billing_9_channel\",\n",
        "         \"billing_8_period\", \"billing_8_amountTotal\", \"billing_8_status\", \"billing_8_paymentDate\", \"billing_8_paymentTime\", \"billing_8_channel\",\n",
        "         \"billing_7_period\", \"billing_7_amountTotal\", \"billing_7_status\", \"billing_7_paymentDate\", \"billing_7_paymentTime\", \"billing_7_channel\",\n",
        "         \"billing_6_period\", \"billing_6_amountTotal\", \"billing_6_status\", \"billing_6_paymentDate\", \"billing_6_paymentTime\", \"billing_6_channel\",\n",
        "         \"billing_5_period\", \"billing_5_amountTotal\", \"billing_5_status\", \"billing_5_paymentDate\", \"billing_5_paymentTime\", \"billing_5_channel\",\n",
        "         \"billing_4_period\", \"billing_4_amountTotal\", \"billing_4_status\", \"billing_4_paymentDate\", \"billing_4_paymentTime\", \"billing_4_channel\",\n",
        "         \"billing_3_period\", \"billing_3_amountTotal\", \"billing_3_status\", \"billing_3_paymentDate\", \"billing_3_paymentTime\", \"billing_3_channel\",\n",
        "         \"billing_2_period\", \"billing_2_amountTotal\", \"billing_2_status\", \"billing_2_paymentDate\", \"billing_2_paymentTime\", \"billing_2_channel\",\n",
        "         \"billing_1_period\", \"billing_1_amountTotal\", \"billing_1_status\", \"billing_1_paymentDate\", \"billing_1_paymentTime\", \"billing_1_channel\",\n",
        "         \"gladius.nd\", \"gladius.portbinding\", \"gladius.statusnomor\", \"gladius.statusport\", \"last_connection_days\", \"samnas.service_name\", \"samnas.start_date\",\"samnas.end_date\", \"session_start\", \"quota\", \"sisa\", \"usage_download\", \"usage_upload\"]]"
      ],
      "execution_count": 5,
      "outputs": []
    },
    {
      "cell_type": "code",
      "metadata": {
        "colab": {
          "base_uri": "https://localhost:8080/"
        },
        "id": "VyrbNhivZmrT",
        "outputId": "29ea8557-e5d7-4580-fa8b-737347351667"
      },
      "source": [
        "# Count data each WITEL\n",
        "j = 1\n",
        "for i in range(len(df[\"billing_{}_status\".format(j)].unique())):\n",
        "    print(df[\"billing_{}_status\".format(j)].unique()[i], \":\", df.loc[df[\"billing_{}_status\".format(j)] == df[\"billing_{}_status\".format(j)].unique()[i]].count()[i])"
      ],
      "execution_count": 6,
      "outputs": [
        {
          "output_type": "stream",
          "name": "stdout",
          "text": [
            "PAID : 44558\n",
            "CT0 : 44601\n",
            "UNPAID : 5561\n",
            "PARTIAL : 776\n",
            "ZERO BILLING : 414\n",
            "nan : 0\n"
          ]
        }
      ]
    },
    {
      "cell_type": "code",
      "metadata": {
        "colab": {
          "base_uri": "https://localhost:8080/"
        },
        "id": "x73l8yqJV8JC",
        "outputId": "a7b7df72-e1b9-4f95-fe7a-68b2b3e863e5"
      },
      "source": [
        "df.info()"
      ],
      "execution_count": 7,
      "outputs": [
        {
          "output_type": "stream",
          "name": "stdout",
          "text": [
            "<class 'pandas.core.frame.DataFrame'>\n",
            "RangeIndex: 99997 entries, 0 to 99996\n",
            "Data columns (total 81 columns):\n",
            " #   Column                  Non-Null Count  Dtype  \n",
            "---  ------                  --------------  -----  \n",
            " 0   number                  99997 non-null  int64  \n",
            " 1   gladius.paketradius     91907 non-null  object \n",
            " 2   billing_11_period       79489 non-null  float64\n",
            " 3   billing_11_amountTotal  79303 non-null  object \n",
            " 4   billing_11_status       79489 non-null  object \n",
            " 5   billing_11_paymentDate  79472 non-null  float64\n",
            " 6   billing_11_paymentTime  79472 non-null  float64\n",
            " 7   billing_11_channel      79338 non-null  object \n",
            " 8   billing_10_period       87577 non-null  float64\n",
            " 9   billing_10_amountTotal  87358 non-null  object \n",
            " 10  billing_10_status       87577 non-null  object \n",
            " 11  billing_10_paymentDate  87569 non-null  float64\n",
            " 12  billing_10_paymentTime  87569 non-null  float64\n",
            " 13  billing_10_channel      87405 non-null  object \n",
            " 14  billing_9_period        93123 non-null  float64\n",
            " 15  billing_9_amountTotal   92906 non-null  object \n",
            " 16  billing_9_status        93123 non-null  object \n",
            " 17  billing_9_paymentDate   93117 non-null  float64\n",
            " 18  billing_9_paymentTime   93117 non-null  float64\n",
            " 19  billing_9_channel       93045 non-null  object \n",
            " 20  billing_8_period        98993 non-null  float64\n",
            " 21  billing_8_amountTotal   98770 non-null  object \n",
            " 22  billing_8_status        98993 non-null  object \n",
            " 23  billing_8_paymentDate   98991 non-null  float64\n",
            " 24  billing_8_paymentTime   98991 non-null  float64\n",
            " 25  billing_8_channel       98932 non-null  object \n",
            " 26  billing_7_period        99530 non-null  float64\n",
            " 27  billing_7_amountTotal   99327 non-null  object \n",
            " 28  billing_7_status        99530 non-null  object \n",
            " 29  billing_7_paymentDate   99528 non-null  float64\n",
            " 30  billing_7_paymentTime   99528 non-null  float64\n",
            " 31  billing_7_channel       99402 non-null  object \n",
            " 32  billing_6_period        99640 non-null  float64\n",
            " 33  billing_6_amountTotal   99225 non-null  object \n",
            " 34  billing_6_status        99640 non-null  object \n",
            " 35  billing_6_paymentDate   99612 non-null  float64\n",
            " 36  billing_6_paymentTime   99612 non-null  float64\n",
            " 37  billing_6_channel       99500 non-null  object \n",
            " 38  billing_5_period        99735 non-null  float64\n",
            " 39  billing_5_amountTotal   98454 non-null  object \n",
            " 40  billing_5_status        99735 non-null  object \n",
            " 41  billing_5_paymentDate   99676 non-null  float64\n",
            " 42  billing_5_paymentTime   99676 non-null  float64\n",
            " 43  billing_5_channel       99591 non-null  object \n",
            " 44  billing_4_period        99791 non-null  float64\n",
            " 45  billing_4_amountTotal   99264 non-null  object \n",
            " 46  billing_4_status        99791 non-null  object \n",
            " 47  billing_4_paymentDate   99669 non-null  float64\n",
            " 48  billing_4_paymentTime   99669 non-null  float64\n",
            " 49  billing_4_channel       99510 non-null  object \n",
            " 50  billing_3_period        99836 non-null  float64\n",
            " 51  billing_3_amountTotal   98917 non-null  object \n",
            " 52  billing_3_status        99836 non-null  object \n",
            " 53  billing_3_paymentDate   99545 non-null  float64\n",
            " 54  billing_3_paymentTime   99545 non-null  float64\n",
            " 55  billing_3_channel       99295 non-null  object \n",
            " 56  billing_2_period        99909 non-null  float64\n",
            " 57  billing_2_amountTotal   49954 non-null  object \n",
            " 58  billing_2_status        99909 non-null  object \n",
            " 59  billing_2_paymentDate   52053 non-null  float64\n",
            " 60  billing_2_paymentTime   52053 non-null  float64\n",
            " 61  billing_2_channel       51709 non-null  object \n",
            " 62  billing_1_period        99914 non-null  float64\n",
            " 63  billing_1_amountTotal   44563 non-null  object \n",
            " 64  billing_1_status        99914 non-null  object \n",
            " 65  billing_1_paymentDate   45971 non-null  float64\n",
            " 66  billing_1_paymentTime   45971 non-null  float64\n",
            " 67  billing_1_channel       45475 non-null  object \n",
            " 68  gladius.nd              91907 non-null  float64\n",
            " 69  gladius.portbinding     91907 non-null  object \n",
            " 70  gladius.statusnomor     91907 non-null  object \n",
            " 71  gladius.statusport      91907 non-null  object \n",
            " 72  last_connection_days    99997 non-null  int64  \n",
            " 73  samnas.service_name     99997 non-null  object \n",
            " 74  samnas.start_date       99997 non-null  object \n",
            " 75  samnas.end_date         99997 non-null  object \n",
            " 76  session_start           91742 non-null  object \n",
            " 77  quota                   99997 non-null  float64\n",
            " 78  sisa                    99997 non-null  float64\n",
            " 79  usage_download          91742 non-null  object \n",
            " 80  usage_upload            91742 non-null  object \n",
            "dtypes: float64(36), int64(2), object(43)\n",
            "memory usage: 61.8+ MB\n"
          ]
        }
      ]
    },
    {
      "cell_type": "code",
      "metadata": {
        "colab": {
          "base_uri": "https://localhost:8080/",
          "height": 1000
        },
        "id": "yWMr4RqVVfXV",
        "outputId": "206ebb9c-259d-4025-ab8e-4b4462f34bb2"
      },
      "source": [
        "df.describe().transpose()"
      ],
      "execution_count": 8,
      "outputs": [
        {
          "output_type": "execute_result",
          "data": {
            "text/html": [
              "<div>\n",
              "<style scoped>\n",
              "    .dataframe tbody tr th:only-of-type {\n",
              "        vertical-align: middle;\n",
              "    }\n",
              "\n",
              "    .dataframe tbody tr th {\n",
              "        vertical-align: top;\n",
              "    }\n",
              "\n",
              "    .dataframe thead th {\n",
              "        text-align: right;\n",
              "    }\n",
              "</style>\n",
              "<table border=\"1\" class=\"dataframe\">\n",
              "  <thead>\n",
              "    <tr style=\"text-align: right;\">\n",
              "      <th></th>\n",
              "      <th>count</th>\n",
              "      <th>mean</th>\n",
              "      <th>std</th>\n",
              "      <th>min</th>\n",
              "      <th>25%</th>\n",
              "      <th>50%</th>\n",
              "      <th>75%</th>\n",
              "      <th>max</th>\n",
              "    </tr>\n",
              "  </thead>\n",
              "  <tbody>\n",
              "    <tr>\n",
              "      <th>number</th>\n",
              "      <td>99997.0</td>\n",
              "      <td>1.417589e+11</td>\n",
              "      <td>2.235031e+10</td>\n",
              "      <td>1.111011e+11</td>\n",
              "      <td>1.222022e+11</td>\n",
              "      <td>1.415551e+11</td>\n",
              "      <td>1.624019e+11</td>\n",
              "      <td>1.796152e+11</td>\n",
              "    </tr>\n",
              "    <tr>\n",
              "      <th>billing_11_period</th>\n",
              "      <td>79489.0</td>\n",
              "      <td>2.020122e+05</td>\n",
              "      <td>4.461267e+00</td>\n",
              "      <td>2.017050e+05</td>\n",
              "      <td>2.020120e+05</td>\n",
              "      <td>2.020120e+05</td>\n",
              "      <td>2.020120e+05</td>\n",
              "      <td>2.021010e+05</td>\n",
              "    </tr>\n",
              "    <tr>\n",
              "      <th>billing_11_paymentDate</th>\n",
              "      <td>79472.0</td>\n",
              "      <td>2.020149e+07</td>\n",
              "      <td>1.524852e+03</td>\n",
              "      <td>2.020113e+07</td>\n",
              "      <td>2.020122e+07</td>\n",
              "      <td>2.020122e+07</td>\n",
              "      <td>2.020122e+07</td>\n",
              "      <td>2.021103e+07</td>\n",
              "    </tr>\n",
              "    <tr>\n",
              "      <th>billing_11_paymentTime</th>\n",
              "      <td>79472.0</td>\n",
              "      <td>1.399028e+05</td>\n",
              "      <td>4.746894e+04</td>\n",
              "      <td>4.320000e+02</td>\n",
              "      <td>1.014570e+05</td>\n",
              "      <td>1.403575e+05</td>\n",
              "      <td>1.826412e+05</td>\n",
              "      <td>2.357030e+05</td>\n",
              "    </tr>\n",
              "    <tr>\n",
              "      <th>billing_10_period</th>\n",
              "      <td>87577.0</td>\n",
              "      <td>2.020977e+05</td>\n",
              "      <td>1.680799e+01</td>\n",
              "      <td>2.018060e+05</td>\n",
              "      <td>2.021010e+05</td>\n",
              "      <td>2.021010e+05</td>\n",
              "      <td>2.021010e+05</td>\n",
              "      <td>2.021020e+05</td>\n",
              "    </tr>\n",
              "    <tr>\n",
              "      <th>billing_10_paymentDate</th>\n",
              "      <td>87569.0</td>\n",
              "      <td>2.020986e+07</td>\n",
              "      <td>1.504292e+03</td>\n",
              "      <td>2.020113e+07</td>\n",
              "      <td>2.021012e+07</td>\n",
              "      <td>2.021012e+07</td>\n",
              "      <td>2.021012e+07</td>\n",
              "      <td>2.021103e+07</td>\n",
              "    </tr>\n",
              "    <tr>\n",
              "      <th>billing_10_paymentTime</th>\n",
              "      <td>87569.0</td>\n",
              "      <td>1.379278e+05</td>\n",
              "      <td>4.648028e+04</td>\n",
              "      <td>9.210000e+02</td>\n",
              "      <td>1.011340e+05</td>\n",
              "      <td>1.346390e+05</td>\n",
              "      <td>1.802030e+05</td>\n",
              "      <td>2.357280e+05</td>\n",
              "    </tr>\n",
              "    <tr>\n",
              "      <th>billing_9_period</th>\n",
              "      <td>93123.0</td>\n",
              "      <td>2.021014e+05</td>\n",
              "      <td>7.286038e+00</td>\n",
              "      <td>2.019070e+05</td>\n",
              "      <td>2.021020e+05</td>\n",
              "      <td>2.021020e+05</td>\n",
              "      <td>2.021020e+05</td>\n",
              "      <td>2.021030e+05</td>\n",
              "    </tr>\n",
              "    <tr>\n",
              "      <th>billing_9_paymentDate</th>\n",
              "      <td>93117.0</td>\n",
              "      <td>2.021018e+07</td>\n",
              "      <td>6.249778e+02</td>\n",
              "      <td>2.020113e+07</td>\n",
              "      <td>2.021022e+07</td>\n",
              "      <td>2.021022e+07</td>\n",
              "      <td>2.021022e+07</td>\n",
              "      <td>2.021103e+07</td>\n",
              "    </tr>\n",
              "    <tr>\n",
              "      <th>billing_9_paymentTime</th>\n",
              "      <td>93117.0</td>\n",
              "      <td>1.393253e+05</td>\n",
              "      <td>4.682958e+04</td>\n",
              "      <td>5.800000e+01</td>\n",
              "      <td>1.016240e+05</td>\n",
              "      <td>1.359380e+05</td>\n",
              "      <td>1.815360e+05</td>\n",
              "      <td>2.358580e+05</td>\n",
              "    </tr>\n",
              "    <tr>\n",
              "      <th>billing_8_period</th>\n",
              "      <td>98993.0</td>\n",
              "      <td>2.021027e+05</td>\n",
              "      <td>4.746304e+00</td>\n",
              "      <td>2.019090e+05</td>\n",
              "      <td>2.021030e+05</td>\n",
              "      <td>2.021030e+05</td>\n",
              "      <td>2.021030e+05</td>\n",
              "      <td>2.021040e+05</td>\n",
              "    </tr>\n",
              "    <tr>\n",
              "      <th>billing_8_paymentDate</th>\n",
              "      <td>98991.0</td>\n",
              "      <td>2.021030e+07</td>\n",
              "      <td>3.963706e+02</td>\n",
              "      <td>2.020120e+07</td>\n",
              "      <td>2.021032e+07</td>\n",
              "      <td>2.021032e+07</td>\n",
              "      <td>2.021032e+07</td>\n",
              "      <td>2.021103e+07</td>\n",
              "    </tr>\n",
              "    <tr>\n",
              "      <th>billing_8_paymentTime</th>\n",
              "      <td>98991.0</td>\n",
              "      <td>1.394768e+05</td>\n",
              "      <td>4.794094e+04</td>\n",
              "      <td>3.330000e+02</td>\n",
              "      <td>1.013165e+05</td>\n",
              "      <td>1.405460e+05</td>\n",
              "      <td>1.825405e+05</td>\n",
              "      <td>2.357520e+05</td>\n",
              "    </tr>\n",
              "    <tr>\n",
              "      <th>billing_7_period</th>\n",
              "      <td>99530.0</td>\n",
              "      <td>2.021039e+05</td>\n",
              "      <td>3.039668e+00</td>\n",
              "      <td>2.020120e+05</td>\n",
              "      <td>2.021040e+05</td>\n",
              "      <td>2.021040e+05</td>\n",
              "      <td>2.021040e+05</td>\n",
              "      <td>2.021050e+05</td>\n",
              "    </tr>\n",
              "    <tr>\n",
              "      <th>billing_7_paymentDate</th>\n",
              "      <td>99528.0</td>\n",
              "      <td>2.021041e+07</td>\n",
              "      <td>2.632209e+02</td>\n",
              "      <td>2.020120e+07</td>\n",
              "      <td>2.021042e+07</td>\n",
              "      <td>2.021042e+07</td>\n",
              "      <td>2.021042e+07</td>\n",
              "      <td>2.021103e+07</td>\n",
              "    </tr>\n",
              "    <tr>\n",
              "      <th>billing_7_paymentTime</th>\n",
              "      <td>99528.0</td>\n",
              "      <td>1.389821e+05</td>\n",
              "      <td>4.938955e+04</td>\n",
              "      <td>1.070000e+02</td>\n",
              "      <td>1.013280e+05</td>\n",
              "      <td>1.400005e+05</td>\n",
              "      <td>1.828552e+05</td>\n",
              "      <td>2.357320e+05</td>\n",
              "    </tr>\n",
              "    <tr>\n",
              "      <th>billing_6_period</th>\n",
              "      <td>99640.0</td>\n",
              "      <td>2.021049e+05</td>\n",
              "      <td>1.910760e+00</td>\n",
              "      <td>2.020060e+05</td>\n",
              "      <td>2.021050e+05</td>\n",
              "      <td>2.021050e+05</td>\n",
              "      <td>2.021050e+05</td>\n",
              "      <td>2.021060e+05</td>\n",
              "    </tr>\n",
              "    <tr>\n",
              "      <th>billing_6_paymentDate</th>\n",
              "      <td>99612.0</td>\n",
              "      <td>2.021052e+07</td>\n",
              "      <td>1.704383e+02</td>\n",
              "      <td>2.020120e+07</td>\n",
              "      <td>2.021052e+07</td>\n",
              "      <td>2.021052e+07</td>\n",
              "      <td>2.021052e+07</td>\n",
              "      <td>2.021102e+07</td>\n",
              "    </tr>\n",
              "    <tr>\n",
              "      <th>billing_6_paymentTime</th>\n",
              "      <td>99612.0</td>\n",
              "      <td>1.392329e+05</td>\n",
              "      <td>4.872665e+04</td>\n",
              "      <td>2.190000e+02</td>\n",
              "      <td>1.009538e+05</td>\n",
              "      <td>1.400225e+05</td>\n",
              "      <td>1.828530e+05</td>\n",
              "      <td>2.358490e+05</td>\n",
              "    </tr>\n",
              "    <tr>\n",
              "      <th>billing_5_period</th>\n",
              "      <td>99735.0</td>\n",
              "      <td>2.021059e+05</td>\n",
              "      <td>1.976537e+00</td>\n",
              "      <td>2.019010e+05</td>\n",
              "      <td>2.021060e+05</td>\n",
              "      <td>2.021060e+05</td>\n",
              "      <td>2.021060e+05</td>\n",
              "      <td>2.021070e+05</td>\n",
              "    </tr>\n",
              "    <tr>\n",
              "      <th>billing_5_paymentDate</th>\n",
              "      <td>99676.0</td>\n",
              "      <td>2.021062e+07</td>\n",
              "      <td>1.403026e+02</td>\n",
              "      <td>2.020121e+07</td>\n",
              "      <td>2.021062e+07</td>\n",
              "      <td>2.021062e+07</td>\n",
              "      <td>2.021062e+07</td>\n",
              "      <td>2.021102e+07</td>\n",
              "    </tr>\n",
              "    <tr>\n",
              "      <th>billing_5_paymentTime</th>\n",
              "      <td>99676.0</td>\n",
              "      <td>1.396047e+05</td>\n",
              "      <td>4.869231e+04</td>\n",
              "      <td>1.100000e+01</td>\n",
              "      <td>1.010000e+05</td>\n",
              "      <td>1.400440e+05</td>\n",
              "      <td>1.826560e+05</td>\n",
              "      <td>2.359490e+05</td>\n",
              "    </tr>\n",
              "    <tr>\n",
              "      <th>billing_4_period</th>\n",
              "      <td>99791.0</td>\n",
              "      <td>2.021069e+05</td>\n",
              "      <td>2.134802e+00</td>\n",
              "      <td>2.018060e+05</td>\n",
              "      <td>2.021070e+05</td>\n",
              "      <td>2.021070e+05</td>\n",
              "      <td>2.021070e+05</td>\n",
              "      <td>2.021080e+05</td>\n",
              "    </tr>\n",
              "    <tr>\n",
              "      <th>billing_4_paymentDate</th>\n",
              "      <td>99669.0</td>\n",
              "      <td>2.021073e+07</td>\n",
              "      <td>4.260141e+01</td>\n",
              "      <td>2.020122e+07</td>\n",
              "      <td>2.021072e+07</td>\n",
              "      <td>2.021072e+07</td>\n",
              "      <td>2.021072e+07</td>\n",
              "      <td>2.021103e+07</td>\n",
              "    </tr>\n",
              "    <tr>\n",
              "      <th>billing_4_paymentTime</th>\n",
              "      <td>99669.0</td>\n",
              "      <td>1.377544e+05</td>\n",
              "      <td>4.763007e+04</td>\n",
              "      <td>3.800000e+01</td>\n",
              "      <td>1.007030e+05</td>\n",
              "      <td>1.349170e+05</td>\n",
              "      <td>1.809010e+05</td>\n",
              "      <td>2.359230e+05</td>\n",
              "    </tr>\n",
              "    <tr>\n",
              "      <th>billing_3_period</th>\n",
              "      <td>99836.0</td>\n",
              "      <td>2.021080e+05</td>\n",
              "      <td>1.600114e+00</td>\n",
              "      <td>2.018080e+05</td>\n",
              "      <td>2.021080e+05</td>\n",
              "      <td>2.021080e+05</td>\n",
              "      <td>2.021080e+05</td>\n",
              "      <td>2.021090e+05</td>\n",
              "    </tr>\n",
              "    <tr>\n",
              "      <th>billing_3_paymentDate</th>\n",
              "      <td>99545.0</td>\n",
              "      <td>2.021083e+07</td>\n",
              "      <td>2.449475e+01</td>\n",
              "      <td>2.021020e+07</td>\n",
              "      <td>2.021082e+07</td>\n",
              "      <td>2.021082e+07</td>\n",
              "      <td>2.021082e+07</td>\n",
              "      <td>2.021110e+07</td>\n",
              "    </tr>\n",
              "    <tr>\n",
              "      <th>billing_3_paymentTime</th>\n",
              "      <td>99545.0</td>\n",
              "      <td>1.346312e+05</td>\n",
              "      <td>4.842627e+04</td>\n",
              "      <td>1.000000e+00</td>\n",
              "      <td>9.504200e+04</td>\n",
              "      <td>1.314550e+05</td>\n",
              "      <td>1.757540e+05</td>\n",
              "      <td>2.359590e+05</td>\n",
              "    </tr>\n",
              "    <tr>\n",
              "      <th>billing_2_period</th>\n",
              "      <td>99909.0</td>\n",
              "      <td>2.021090e+05</td>\n",
              "      <td>5.336659e-02</td>\n",
              "      <td>2.021050e+05</td>\n",
              "      <td>2.021090e+05</td>\n",
              "      <td>2.021090e+05</td>\n",
              "      <td>2.021090e+05</td>\n",
              "      <td>2.021100e+05</td>\n",
              "    </tr>\n",
              "    <tr>\n",
              "      <th>billing_2_paymentDate</th>\n",
              "      <td>52053.0</td>\n",
              "      <td>2.021101e+07</td>\n",
              "      <td>2.671196e+01</td>\n",
              "      <td>2.021052e+07</td>\n",
              "      <td>2.021100e+07</td>\n",
              "      <td>2.021101e+07</td>\n",
              "      <td>2.021102e+07</td>\n",
              "      <td>2.021110e+07</td>\n",
              "    </tr>\n",
              "    <tr>\n",
              "      <th>billing_2_paymentTime</th>\n",
              "      <td>52053.0</td>\n",
              "      <td>1.314591e+05</td>\n",
              "      <td>4.389164e+04</td>\n",
              "      <td>4.600000e+01</td>\n",
              "      <td>9.590400e+04</td>\n",
              "      <td>1.301290e+05</td>\n",
              "      <td>1.642560e+05</td>\n",
              "      <td>2.357160e+05</td>\n",
              "    </tr>\n",
              "    <tr>\n",
              "      <th>billing_1_period</th>\n",
              "      <td>99914.0</td>\n",
              "      <td>2.021100e+05</td>\n",
              "      <td>5.173827e-02</td>\n",
              "      <td>2.021060e+05</td>\n",
              "      <td>2.021100e+05</td>\n",
              "      <td>2.021100e+05</td>\n",
              "      <td>2.021100e+05</td>\n",
              "      <td>2.021110e+05</td>\n",
              "    </tr>\n",
              "    <tr>\n",
              "      <th>billing_1_paymentDate</th>\n",
              "      <td>45971.0</td>\n",
              "      <td>2.021102e+07</td>\n",
              "      <td>1.503814e+01</td>\n",
              "      <td>2.021062e+07</td>\n",
              "      <td>2.021101e+07</td>\n",
              "      <td>2.021101e+07</td>\n",
              "      <td>2.021102e+07</td>\n",
              "      <td>2.021110e+07</td>\n",
              "    </tr>\n",
              "    <tr>\n",
              "      <th>billing_1_paymentTime</th>\n",
              "      <td>45971.0</td>\n",
              "      <td>1.360868e+05</td>\n",
              "      <td>4.338541e+04</td>\n",
              "      <td>3.108000e+03</td>\n",
              "      <td>1.018315e+05</td>\n",
              "      <td>1.334510e+05</td>\n",
              "      <td>1.722795e+05</td>\n",
              "      <td>2.356010e+05</td>\n",
              "    </tr>\n",
              "    <tr>\n",
              "      <th>gladius.nd</th>\n",
              "      <td>91907.0</td>\n",
              "      <td>1.418335e+11</td>\n",
              "      <td>2.246894e+10</td>\n",
              "      <td>1.111011e+11</td>\n",
              "      <td>1.221223e+11</td>\n",
              "      <td>1.415661e+11</td>\n",
              "      <td>1.624092e+11</td>\n",
              "      <td>1.796152e+11</td>\n",
              "    </tr>\n",
              "    <tr>\n",
              "      <th>last_connection_days</th>\n",
              "      <td>99997.0</td>\n",
              "      <td>2.136615e+01</td>\n",
              "      <td>2.215648e+01</td>\n",
              "      <td>0.000000e+00</td>\n",
              "      <td>0.000000e+00</td>\n",
              "      <td>2.400000e+01</td>\n",
              "      <td>3.700000e+01</td>\n",
              "      <td>9.100000e+01</td>\n",
              "    </tr>\n",
              "    <tr>\n",
              "      <th>quota</th>\n",
              "      <td>99997.0</td>\n",
              "      <td>6.501661e+02</td>\n",
              "      <td>3.986823e+02</td>\n",
              "      <td>0.000000e+00</td>\n",
              "      <td>3.500000e+02</td>\n",
              "      <td>7.500000e+02</td>\n",
              "      <td>7.500000e+02</td>\n",
              "      <td>4.050000e+03</td>\n",
              "    </tr>\n",
              "    <tr>\n",
              "      <th>sisa</th>\n",
              "      <td>99997.0</td>\n",
              "      <td>6.477733e+02</td>\n",
              "      <td>3.976365e+02</td>\n",
              "      <td>0.000000e+00</td>\n",
              "      <td>3.500000e+02</td>\n",
              "      <td>7.496800e+02</td>\n",
              "      <td>7.500000e+02</td>\n",
              "      <td>4.050000e+03</td>\n",
              "    </tr>\n",
              "  </tbody>\n",
              "</table>\n",
              "</div>"
            ],
            "text/plain": [
              "                          count          mean  ...           75%           max\n",
              "number                  99997.0  1.417589e+11  ...  1.624019e+11  1.796152e+11\n",
              "billing_11_period       79489.0  2.020122e+05  ...  2.020120e+05  2.021010e+05\n",
              "billing_11_paymentDate  79472.0  2.020149e+07  ...  2.020122e+07  2.021103e+07\n",
              "billing_11_paymentTime  79472.0  1.399028e+05  ...  1.826412e+05  2.357030e+05\n",
              "billing_10_period       87577.0  2.020977e+05  ...  2.021010e+05  2.021020e+05\n",
              "billing_10_paymentDate  87569.0  2.020986e+07  ...  2.021012e+07  2.021103e+07\n",
              "billing_10_paymentTime  87569.0  1.379278e+05  ...  1.802030e+05  2.357280e+05\n",
              "billing_9_period        93123.0  2.021014e+05  ...  2.021020e+05  2.021030e+05\n",
              "billing_9_paymentDate   93117.0  2.021018e+07  ...  2.021022e+07  2.021103e+07\n",
              "billing_9_paymentTime   93117.0  1.393253e+05  ...  1.815360e+05  2.358580e+05\n",
              "billing_8_period        98993.0  2.021027e+05  ...  2.021030e+05  2.021040e+05\n",
              "billing_8_paymentDate   98991.0  2.021030e+07  ...  2.021032e+07  2.021103e+07\n",
              "billing_8_paymentTime   98991.0  1.394768e+05  ...  1.825405e+05  2.357520e+05\n",
              "billing_7_period        99530.0  2.021039e+05  ...  2.021040e+05  2.021050e+05\n",
              "billing_7_paymentDate   99528.0  2.021041e+07  ...  2.021042e+07  2.021103e+07\n",
              "billing_7_paymentTime   99528.0  1.389821e+05  ...  1.828552e+05  2.357320e+05\n",
              "billing_6_period        99640.0  2.021049e+05  ...  2.021050e+05  2.021060e+05\n",
              "billing_6_paymentDate   99612.0  2.021052e+07  ...  2.021052e+07  2.021102e+07\n",
              "billing_6_paymentTime   99612.0  1.392329e+05  ...  1.828530e+05  2.358490e+05\n",
              "billing_5_period        99735.0  2.021059e+05  ...  2.021060e+05  2.021070e+05\n",
              "billing_5_paymentDate   99676.0  2.021062e+07  ...  2.021062e+07  2.021102e+07\n",
              "billing_5_paymentTime   99676.0  1.396047e+05  ...  1.826560e+05  2.359490e+05\n",
              "billing_4_period        99791.0  2.021069e+05  ...  2.021070e+05  2.021080e+05\n",
              "billing_4_paymentDate   99669.0  2.021073e+07  ...  2.021072e+07  2.021103e+07\n",
              "billing_4_paymentTime   99669.0  1.377544e+05  ...  1.809010e+05  2.359230e+05\n",
              "billing_3_period        99836.0  2.021080e+05  ...  2.021080e+05  2.021090e+05\n",
              "billing_3_paymentDate   99545.0  2.021083e+07  ...  2.021082e+07  2.021110e+07\n",
              "billing_3_paymentTime   99545.0  1.346312e+05  ...  1.757540e+05  2.359590e+05\n",
              "billing_2_period        99909.0  2.021090e+05  ...  2.021090e+05  2.021100e+05\n",
              "billing_2_paymentDate   52053.0  2.021101e+07  ...  2.021102e+07  2.021110e+07\n",
              "billing_2_paymentTime   52053.0  1.314591e+05  ...  1.642560e+05  2.357160e+05\n",
              "billing_1_period        99914.0  2.021100e+05  ...  2.021100e+05  2.021110e+05\n",
              "billing_1_paymentDate   45971.0  2.021102e+07  ...  2.021102e+07  2.021110e+07\n",
              "billing_1_paymentTime   45971.0  1.360868e+05  ...  1.722795e+05  2.356010e+05\n",
              "gladius.nd              91907.0  1.418335e+11  ...  1.624092e+11  1.796152e+11\n",
              "last_connection_days    99997.0  2.136615e+01  ...  3.700000e+01  9.100000e+01\n",
              "quota                   99997.0  6.501661e+02  ...  7.500000e+02  4.050000e+03\n",
              "sisa                    99997.0  6.477733e+02  ...  7.500000e+02  4.050000e+03\n",
              "\n",
              "[38 rows x 8 columns]"
            ]
          },
          "metadata": {},
          "execution_count": 8
        }
      ]
    },
    {
      "cell_type": "code",
      "metadata": {
        "colab": {
          "base_uri": "https://localhost:8080/",
          "height": 721
        },
        "id": "hRUPNgFuCMgc",
        "outputId": "d3f76427-4d05-4baa-9255-1825b61422a0"
      },
      "source": [
        "df"
      ],
      "execution_count": 9,
      "outputs": [
        {
          "output_type": "execute_result",
          "data": {
            "text/html": [
              "<div>\n",
              "<style scoped>\n",
              "    .dataframe tbody tr th:only-of-type {\n",
              "        vertical-align: middle;\n",
              "    }\n",
              "\n",
              "    .dataframe tbody tr th {\n",
              "        vertical-align: top;\n",
              "    }\n",
              "\n",
              "    .dataframe thead th {\n",
              "        text-align: right;\n",
              "    }\n",
              "</style>\n",
              "<table border=\"1\" class=\"dataframe\">\n",
              "  <thead>\n",
              "    <tr style=\"text-align: right;\">\n",
              "      <th></th>\n",
              "      <th>number</th>\n",
              "      <th>gladius.paketradius</th>\n",
              "      <th>billing_11_period</th>\n",
              "      <th>billing_11_amountTotal</th>\n",
              "      <th>billing_11_status</th>\n",
              "      <th>billing_11_paymentDate</th>\n",
              "      <th>billing_11_paymentTime</th>\n",
              "      <th>billing_11_channel</th>\n",
              "      <th>billing_10_period</th>\n",
              "      <th>billing_10_amountTotal</th>\n",
              "      <th>billing_10_status</th>\n",
              "      <th>billing_10_paymentDate</th>\n",
              "      <th>billing_10_paymentTime</th>\n",
              "      <th>billing_10_channel</th>\n",
              "      <th>billing_9_period</th>\n",
              "      <th>billing_9_amountTotal</th>\n",
              "      <th>billing_9_status</th>\n",
              "      <th>billing_9_paymentDate</th>\n",
              "      <th>billing_9_paymentTime</th>\n",
              "      <th>billing_9_channel</th>\n",
              "      <th>billing_8_period</th>\n",
              "      <th>billing_8_amountTotal</th>\n",
              "      <th>billing_8_status</th>\n",
              "      <th>billing_8_paymentDate</th>\n",
              "      <th>billing_8_paymentTime</th>\n",
              "      <th>billing_8_channel</th>\n",
              "      <th>billing_7_period</th>\n",
              "      <th>billing_7_amountTotal</th>\n",
              "      <th>billing_7_status</th>\n",
              "      <th>billing_7_paymentDate</th>\n",
              "      <th>billing_7_paymentTime</th>\n",
              "      <th>billing_7_channel</th>\n",
              "      <th>billing_6_period</th>\n",
              "      <th>billing_6_amountTotal</th>\n",
              "      <th>billing_6_status</th>\n",
              "      <th>billing_6_paymentDate</th>\n",
              "      <th>billing_6_paymentTime</th>\n",
              "      <th>billing_6_channel</th>\n",
              "      <th>billing_5_period</th>\n",
              "      <th>billing_5_amountTotal</th>\n",
              "      <th>...</th>\n",
              "      <th>billing_5_paymentDate</th>\n",
              "      <th>billing_5_paymentTime</th>\n",
              "      <th>billing_5_channel</th>\n",
              "      <th>billing_4_period</th>\n",
              "      <th>billing_4_amountTotal</th>\n",
              "      <th>billing_4_status</th>\n",
              "      <th>billing_4_paymentDate</th>\n",
              "      <th>billing_4_paymentTime</th>\n",
              "      <th>billing_4_channel</th>\n",
              "      <th>billing_3_period</th>\n",
              "      <th>billing_3_amountTotal</th>\n",
              "      <th>billing_3_status</th>\n",
              "      <th>billing_3_paymentDate</th>\n",
              "      <th>billing_3_paymentTime</th>\n",
              "      <th>billing_3_channel</th>\n",
              "      <th>billing_2_period</th>\n",
              "      <th>billing_2_amountTotal</th>\n",
              "      <th>billing_2_status</th>\n",
              "      <th>billing_2_paymentDate</th>\n",
              "      <th>billing_2_paymentTime</th>\n",
              "      <th>billing_2_channel</th>\n",
              "      <th>billing_1_period</th>\n",
              "      <th>billing_1_amountTotal</th>\n",
              "      <th>billing_1_status</th>\n",
              "      <th>billing_1_paymentDate</th>\n",
              "      <th>billing_1_paymentTime</th>\n",
              "      <th>billing_1_channel</th>\n",
              "      <th>gladius.nd</th>\n",
              "      <th>gladius.portbinding</th>\n",
              "      <th>gladius.statusnomor</th>\n",
              "      <th>gladius.statusport</th>\n",
              "      <th>last_connection_days</th>\n",
              "      <th>samnas.service_name</th>\n",
              "      <th>samnas.start_date</th>\n",
              "      <th>samnas.end_date</th>\n",
              "      <th>session_start</th>\n",
              "      <th>quota</th>\n",
              "      <th>sisa</th>\n",
              "      <th>usage_download</th>\n",
              "      <th>usage_upload</th>\n",
              "    </tr>\n",
              "  </thead>\n",
              "  <tbody>\n",
              "    <tr>\n",
              "      <th>0</th>\n",
              "      <td>131177120756</td>\n",
              "      <td>INETNLOY10</td>\n",
              "      <td>202012.0</td>\n",
              "      <td>344.000,00</td>\n",
              "      <td>PAID</td>\n",
              "      <td>20201217.0</td>\n",
              "      <td>164344.0</td>\n",
              "      <td>FINNET BANK - BANK CENTRAL ASIA</td>\n",
              "      <td>202101.0</td>\n",
              "      <td>341.000,00</td>\n",
              "      <td>PAID</td>\n",
              "      <td>20210115.0</td>\n",
              "      <td>112813.0</td>\n",
              "      <td>FINNET BANK - BANK CENTRAL ASIA</td>\n",
              "      <td>202102.0</td>\n",
              "      <td>341.000,00</td>\n",
              "      <td>PAID</td>\n",
              "      <td>20210216.0</td>\n",
              "      <td>161843.0</td>\n",
              "      <td>FINNET BANK - BANK CENTRAL ASIA</td>\n",
              "      <td>202103.0</td>\n",
              "      <td>341.000,00</td>\n",
              "      <td>PAID</td>\n",
              "      <td>20210316.0</td>\n",
              "      <td>161636.0</td>\n",
              "      <td>FINNET BANK - BANK CENTRAL ASIA</td>\n",
              "      <td>202104.0</td>\n",
              "      <td>341.000,00</td>\n",
              "      <td>PAID</td>\n",
              "      <td>20210416.0</td>\n",
              "      <td>91139.0</td>\n",
              "      <td>FINNET BANK - BANK CENTRAL ASIA</td>\n",
              "      <td>202105.0</td>\n",
              "      <td>341.000,00</td>\n",
              "      <td>PAID</td>\n",
              "      <td>20210517.0</td>\n",
              "      <td>162151.0</td>\n",
              "      <td>FINNET BANK - BANK CENTRAL ASIA</td>\n",
              "      <td>202106.0</td>\n",
              "      <td>341.000,00</td>\n",
              "      <td>...</td>\n",
              "      <td>20210618.0</td>\n",
              "      <td>113136.0</td>\n",
              "      <td>FINNET BANK - BANK CENTRAL ASIA</td>\n",
              "      <td>202107.0</td>\n",
              "      <td>341.000,00</td>\n",
              "      <td>PAID</td>\n",
              "      <td>20210713.0</td>\n",
              "      <td>104622.0</td>\n",
              "      <td>FINNET BANK - BANK CENTRAL ASIA</td>\n",
              "      <td>202108.0</td>\n",
              "      <td>341.000,00</td>\n",
              "      <td>PAID</td>\n",
              "      <td>20210819.0</td>\n",
              "      <td>105030.0</td>\n",
              "      <td>FINNET BANK - BANK CENTRAL ASIA</td>\n",
              "      <td>202109.0</td>\n",
              "      <td>341.000,00</td>\n",
              "      <td>PAID</td>\n",
              "      <td>20211018.0</td>\n",
              "      <td>155946.0</td>\n",
              "      <td>FINNET BANK - BANK CENTRAL ASIA</td>\n",
              "      <td>202110.0</td>\n",
              "      <td>341.000,00</td>\n",
              "      <td>PAID</td>\n",
              "      <td>20211018.0</td>\n",
              "      <td>155946.0</td>\n",
              "      <td>FINNET BANK - BANK CENTRAL ASIA</td>\n",
              "      <td>1.311771e+11</td>\n",
              "      <td>GPON10-D3-RJW-2 xpon 0/7/0/13:6.3.200</td>\n",
              "      <td>enable</td>\n",
              "      <td>enable</td>\n",
              "      <td>0</td>\n",
              "      <td>-</td>\n",
              "      <td>-</td>\n",
              "      <td>-</td>\n",
              "      <td>2021-11-01 03:49:45</td>\n",
              "      <td>350.000000</td>\n",
              "      <td>345.81</td>\n",
              "      <td>1.46 GB</td>\n",
              "      <td>317.37 MB</td>\n",
              "    </tr>\n",
              "    <tr>\n",
              "      <th>1</th>\n",
              "      <td>131177105296</td>\n",
              "      <td>INETLOY20</td>\n",
              "      <td>202012.0</td>\n",
              "      <td>327.500,00</td>\n",
              "      <td>PAID</td>\n",
              "      <td>20201217.0</td>\n",
              "      <td>141735.0</td>\n",
              "      <td>FINNET SUBCA - TOKOPEDIA</td>\n",
              "      <td>202101.0</td>\n",
              "      <td>324.500,00</td>\n",
              "      <td>PAID</td>\n",
              "      <td>20210117.0</td>\n",
              "      <td>220950.0</td>\n",
              "      <td>FINNET SUBCA - TOKOPEDIA</td>\n",
              "      <td>202102.0</td>\n",
              "      <td>324.500,00</td>\n",
              "      <td>PAID</td>\n",
              "      <td>20210218.0</td>\n",
              "      <td>91347.0</td>\n",
              "      <td>FINNET SUBCA - TOKOPEDIA</td>\n",
              "      <td>202103.0</td>\n",
              "      <td>324.500,00</td>\n",
              "      <td>PAID</td>\n",
              "      <td>20210318.0</td>\n",
              "      <td>140634.0</td>\n",
              "      <td>FINNET SUBCA - TOKOPEDIA</td>\n",
              "      <td>202104.0</td>\n",
              "      <td>324.500,00</td>\n",
              "      <td>PAID</td>\n",
              "      <td>20210419.0</td>\n",
              "      <td>84944.0</td>\n",
              "      <td>FINNET SUBCA - TOKOPEDIA</td>\n",
              "      <td>202105.0</td>\n",
              "      <td>324.500,00</td>\n",
              "      <td>PAID</td>\n",
              "      <td>20210518.0</td>\n",
              "      <td>83904.0</td>\n",
              "      <td>FINNET SUBCA - TOKOPEDIA</td>\n",
              "      <td>202106.0</td>\n",
              "      <td>339.250,00</td>\n",
              "      <td>...</td>\n",
              "      <td>20210621.0</td>\n",
              "      <td>65716.0</td>\n",
              "      <td>FINNET SUBCA - TOKOPEDIA</td>\n",
              "      <td>202107.0</td>\n",
              "      <td>324.500,00</td>\n",
              "      <td>PAID</td>\n",
              "      <td>20210719.0</td>\n",
              "      <td>65627.0</td>\n",
              "      <td>FINNET SUBCA - TOKOPEDIA</td>\n",
              "      <td>202108.0</td>\n",
              "      <td>324.500,00</td>\n",
              "      <td>PAID</td>\n",
              "      <td>20210821.0</td>\n",
              "      <td>63220.0</td>\n",
              "      <td>FINNET BANK - BANK CENTRAL ASIA</td>\n",
              "      <td>202109.0</td>\n",
              "      <td>NaN</td>\n",
              "      <td>UNPAID</td>\n",
              "      <td>NaN</td>\n",
              "      <td>NaN</td>\n",
              "      <td>NaN</td>\n",
              "      <td>202110.0</td>\n",
              "      <td>NaN</td>\n",
              "      <td>CT0</td>\n",
              "      <td>NaN</td>\n",
              "      <td>NaN</td>\n",
              "      <td>NaN</td>\n",
              "      <td>1.311771e+11</td>\n",
              "      <td>GPON13-D3-RJW-2 xpon 0/8/0/9:10.3.200</td>\n",
              "      <td>disable</td>\n",
              "      <td>enable</td>\n",
              "      <td>41</td>\n",
              "      <td>ISOLIRAN</td>\n",
              "      <td>20210927002447</td>\n",
              "      <td>20371231235959</td>\n",
              "      <td>2021-09-21 03:47:11</td>\n",
              "      <td>750.000000</td>\n",
              "      <td>750.00</td>\n",
              "      <td>776.02 MB</td>\n",
              "      <td>702.54 MB</td>\n",
              "    </tr>\n",
              "    <tr>\n",
              "      <th>2</th>\n",
              "      <td>131167100072</td>\n",
              "      <td>INETSSQ20</td>\n",
              "      <td>202012.0</td>\n",
              "      <td>145.145,00</td>\n",
              "      <td>PAID</td>\n",
              "      <td>20201208.0</td>\n",
              "      <td>200459.0</td>\n",
              "      <td>FINNET BANK - BANK MANDIRI</td>\n",
              "      <td>202101.0</td>\n",
              "      <td>146.355,00</td>\n",
              "      <td>PAID</td>\n",
              "      <td>20210105.0</td>\n",
              "      <td>214430.0</td>\n",
              "      <td>FINNET BANK - BANK MANDIRI</td>\n",
              "      <td>202102.0</td>\n",
              "      <td>143.385,00</td>\n",
              "      <td>PAID</td>\n",
              "      <td>20210205.0</td>\n",
              "      <td>214735.0</td>\n",
              "      <td>FINNET BANK - BANK MANDIRI</td>\n",
              "      <td>202103.0</td>\n",
              "      <td>143.385,00</td>\n",
              "      <td>PAID</td>\n",
              "      <td>20210305.0</td>\n",
              "      <td>215315.0</td>\n",
              "      <td>FINNET BANK - BANK MANDIRI</td>\n",
              "      <td>202104.0</td>\n",
              "      <td>143.715,00</td>\n",
              "      <td>PAID</td>\n",
              "      <td>20210405.0</td>\n",
              "      <td>215609.0</td>\n",
              "      <td>FINNET BANK - BANK MANDIRI</td>\n",
              "      <td>202105.0</td>\n",
              "      <td>143.385,00</td>\n",
              "      <td>PAID</td>\n",
              "      <td>20210505.0</td>\n",
              "      <td>215736.0</td>\n",
              "      <td>FINNET BANK - BANK MANDIRI</td>\n",
              "      <td>202106.0</td>\n",
              "      <td>143.385,00</td>\n",
              "      <td>...</td>\n",
              "      <td>20210608.0</td>\n",
              "      <td>194914.0</td>\n",
              "      <td>FINNET BANK - BANK MANDIRI</td>\n",
              "      <td>202107.0</td>\n",
              "      <td>143.385,00</td>\n",
              "      <td>PAID</td>\n",
              "      <td>20210705.0</td>\n",
              "      <td>220307.0</td>\n",
              "      <td>FINNET BANK - BANK MANDIRI</td>\n",
              "      <td>202108.0</td>\n",
              "      <td>143.385,00</td>\n",
              "      <td>PAID</td>\n",
              "      <td>20210805.0</td>\n",
              "      <td>214559.0</td>\n",
              "      <td>FINNET BANK - BANK MANDIRI</td>\n",
              "      <td>202109.0</td>\n",
              "      <td>NaN</td>\n",
              "      <td>UNPAID</td>\n",
              "      <td>NaN</td>\n",
              "      <td>NaN</td>\n",
              "      <td>NaN</td>\n",
              "      <td>202110.0</td>\n",
              "      <td>NaN</td>\n",
              "      <td>CT0</td>\n",
              "      <td>NaN</td>\n",
              "      <td>NaN</td>\n",
              "      <td>NaN</td>\n",
              "      <td>1.311671e+11</td>\n",
              "      <td>GPON13-D3-LBG-2 xpon 0/2/0/10:7.3.200</td>\n",
              "      <td>disable</td>\n",
              "      <td>enable</td>\n",
              "      <td>39</td>\n",
              "      <td>ISOLIRAN</td>\n",
              "      <td>20210927002250</td>\n",
              "      <td>20371231235959</td>\n",
              "      <td>2021-09-23 10:23:20</td>\n",
              "      <td>95.367432</td>\n",
              "      <td>95.37</td>\n",
              "      <td>247.48 MB</td>\n",
              "      <td>60.86 MB</td>\n",
              "    </tr>\n",
              "    <tr>\n",
              "      <th>3</th>\n",
              "      <td>131177150031</td>\n",
              "      <td>INET10Q10</td>\n",
              "      <td>202012.0</td>\n",
              "      <td>209.660,00</td>\n",
              "      <td>PAID</td>\n",
              "      <td>20201221.0</td>\n",
              "      <td>65812.0</td>\n",
              "      <td>FINNET BANK - BANK RAKYAT INDONESIA</td>\n",
              "      <td>202101.0</td>\n",
              "      <td>209.660,00</td>\n",
              "      <td>PAID</td>\n",
              "      <td>20210108.0</td>\n",
              "      <td>44305.0</td>\n",
              "      <td>FINNET BANK - BANK RAKYAT INDONESIA</td>\n",
              "      <td>202102.0</td>\n",
              "      <td>209.660,00</td>\n",
              "      <td>PAID</td>\n",
              "      <td>20210212.0</td>\n",
              "      <td>102541.0</td>\n",
              "      <td>FINNET BANK - BANK RAKYAT INDONESIA</td>\n",
              "      <td>202103.0</td>\n",
              "      <td>209.660,00</td>\n",
              "      <td>PAID</td>\n",
              "      <td>20210303.0</td>\n",
              "      <td>54303.0</td>\n",
              "      <td>FINNET BANK - BANK RAKYAT INDONESIA</td>\n",
              "      <td>202104.0</td>\n",
              "      <td>219.190,00</td>\n",
              "      <td>PAID</td>\n",
              "      <td>20210422.0</td>\n",
              "      <td>94656.0</td>\n",
              "      <td>FINNET BANK - BANK RAKYAT INDONESIA</td>\n",
              "      <td>202105.0</td>\n",
              "      <td>219.190,00</td>\n",
              "      <td>PAID</td>\n",
              "      <td>20210522.0</td>\n",
              "      <td>62652.0</td>\n",
              "      <td>FINNET BANK - BANK RAKYAT INDONESIA</td>\n",
              "      <td>202106.0</td>\n",
              "      <td>219.190,00</td>\n",
              "      <td>...</td>\n",
              "      <td>20210623.0</td>\n",
              "      <td>143557.0</td>\n",
              "      <td>FINNET BANK - BANK RAKYAT INDONESIA</td>\n",
              "      <td>202107.0</td>\n",
              "      <td>219.190,00</td>\n",
              "      <td>PAID</td>\n",
              "      <td>20210728.0</td>\n",
              "      <td>135208.0</td>\n",
              "      <td>FINNET BANK - BANK RAKYAT INDONESIA</td>\n",
              "      <td>202108.0</td>\n",
              "      <td>219.190,00</td>\n",
              "      <td>PAID</td>\n",
              "      <td>20210824.0</td>\n",
              "      <td>115834.0</td>\n",
              "      <td>FINNET BANK - BANK RAKYAT INDONESIA</td>\n",
              "      <td>202109.0</td>\n",
              "      <td>209.660,00</td>\n",
              "      <td>PAID</td>\n",
              "      <td>20211012.0</td>\n",
              "      <td>102534.0</td>\n",
              "      <td>FINNET BANK - BANK RAKYAT INDONESIA</td>\n",
              "      <td>202110.0</td>\n",
              "      <td>209.660,00</td>\n",
              "      <td>PAID</td>\n",
              "      <td>20211012.0</td>\n",
              "      <td>102534.0</td>\n",
              "      <td>FINNET BANK - BANK RAKYAT INDONESIA</td>\n",
              "      <td>1.311772e+11</td>\n",
              "      <td>GPON09-D3-RJW-2 xpon 0/6/0/9:1.3.200</td>\n",
              "      <td>enable</td>\n",
              "      <td>enable</td>\n",
              "      <td>0</td>\n",
              "      <td>-</td>\n",
              "      <td>-</td>\n",
              "      <td>-</td>\n",
              "      <td>2021-11-01 00:22:22</td>\n",
              "      <td>10.000000</td>\n",
              "      <td>10.00</td>\n",
              "      <td>451.13 MB</td>\n",
              "      <td>49.34 MB</td>\n",
              "    </tr>\n",
              "    <tr>\n",
              "      <th>4</th>\n",
              "      <td>131167101164</td>\n",
              "      <td>INETNLOY20</td>\n",
              "      <td>202012.0</td>\n",
              "      <td>275.000,00</td>\n",
              "      <td>PAID</td>\n",
              "      <td>20201203.0</td>\n",
              "      <td>160239.0</td>\n",
              "      <td>FINNET BANK - BANK CENTRAL ASIA</td>\n",
              "      <td>202101.0</td>\n",
              "      <td>275.000,00</td>\n",
              "      <td>PAID</td>\n",
              "      <td>20210105.0</td>\n",
              "      <td>142414.0</td>\n",
              "      <td>FINNET BANK - BANK CENTRAL ASIA</td>\n",
              "      <td>202102.0</td>\n",
              "      <td>275.000,00</td>\n",
              "      <td>PAID</td>\n",
              "      <td>20210202.0</td>\n",
              "      <td>170431.0</td>\n",
              "      <td>FINNET SUBCA - TOKOPEDIA</td>\n",
              "      <td>202103.0</td>\n",
              "      <td>275.000,00</td>\n",
              "      <td>PAID</td>\n",
              "      <td>20210303.0</td>\n",
              "      <td>123550.0</td>\n",
              "      <td>FINNET BANK - BANK CENTRAL ASIA</td>\n",
              "      <td>202104.0</td>\n",
              "      <td>275.000,00</td>\n",
              "      <td>PAID</td>\n",
              "      <td>20210408.0</td>\n",
              "      <td>53537.0</td>\n",
              "      <td>FINNET SUBCA - TOKOPEDIA</td>\n",
              "      <td>202105.0</td>\n",
              "      <td>275.000,00</td>\n",
              "      <td>PAID</td>\n",
              "      <td>20210508.0</td>\n",
              "      <td>43852.0</td>\n",
              "      <td>FINNET SUBCA - TOKOPEDIA</td>\n",
              "      <td>202106.0</td>\n",
              "      <td>275.000,00</td>\n",
              "      <td>...</td>\n",
              "      <td>20210605.0</td>\n",
              "      <td>121539.0</td>\n",
              "      <td>FINNET SUBCA - TOKOPEDIA</td>\n",
              "      <td>202107.0</td>\n",
              "      <td>275.000,00</td>\n",
              "      <td>PAID</td>\n",
              "      <td>20210707.0</td>\n",
              "      <td>152805.0</td>\n",
              "      <td>FINNET SUBCA - TOKOPEDIA</td>\n",
              "      <td>202108.0</td>\n",
              "      <td>63.250,00</td>\n",
              "      <td>PAID</td>\n",
              "      <td>20210805.0</td>\n",
              "      <td>143121.0</td>\n",
              "      <td>FINNET BANK - BANK CENTRAL ASIA</td>\n",
              "      <td>202109.0</td>\n",
              "      <td>203.500,00</td>\n",
              "      <td>PAID</td>\n",
              "      <td>20211014.0</td>\n",
              "      <td>142203.0</td>\n",
              "      <td>FINNET BANK - BANK CENTRAL ASIA</td>\n",
              "      <td>202110.0</td>\n",
              "      <td>275.000,00</td>\n",
              "      <td>PAID</td>\n",
              "      <td>20211014.0</td>\n",
              "      <td>142203.0</td>\n",
              "      <td>FINNET BANK - BANK CENTRAL ASIA</td>\n",
              "      <td>1.311671e+11</td>\n",
              "      <td>GPON13-D3-LBG-2 xpon 0/1/0/3:14.3.200</td>\n",
              "      <td>enable</td>\n",
              "      <td>enable</td>\n",
              "      <td>0</td>\n",
              "      <td>-</td>\n",
              "      <td>-</td>\n",
              "      <td>-</td>\n",
              "      <td>2021-11-01 09:44:32</td>\n",
              "      <td>750.000000</td>\n",
              "      <td>743.94</td>\n",
              "      <td>1.86 GB</td>\n",
              "      <td>342.70 MB</td>\n",
              "    </tr>\n",
              "    <tr>\n",
              "      <th>...</th>\n",
              "      <td>...</td>\n",
              "      <td>...</td>\n",
              "      <td>...</td>\n",
              "      <td>...</td>\n",
              "      <td>...</td>\n",
              "      <td>...</td>\n",
              "      <td>...</td>\n",
              "      <td>...</td>\n",
              "      <td>...</td>\n",
              "      <td>...</td>\n",
              "      <td>...</td>\n",
              "      <td>...</td>\n",
              "      <td>...</td>\n",
              "      <td>...</td>\n",
              "      <td>...</td>\n",
              "      <td>...</td>\n",
              "      <td>...</td>\n",
              "      <td>...</td>\n",
              "      <td>...</td>\n",
              "      <td>...</td>\n",
              "      <td>...</td>\n",
              "      <td>...</td>\n",
              "      <td>...</td>\n",
              "      <td>...</td>\n",
              "      <td>...</td>\n",
              "      <td>...</td>\n",
              "      <td>...</td>\n",
              "      <td>...</td>\n",
              "      <td>...</td>\n",
              "      <td>...</td>\n",
              "      <td>...</td>\n",
              "      <td>...</td>\n",
              "      <td>...</td>\n",
              "      <td>...</td>\n",
              "      <td>...</td>\n",
              "      <td>...</td>\n",
              "      <td>...</td>\n",
              "      <td>...</td>\n",
              "      <td>...</td>\n",
              "      <td>...</td>\n",
              "      <td>...</td>\n",
              "      <td>...</td>\n",
              "      <td>...</td>\n",
              "      <td>...</td>\n",
              "      <td>...</td>\n",
              "      <td>...</td>\n",
              "      <td>...</td>\n",
              "      <td>...</td>\n",
              "      <td>...</td>\n",
              "      <td>...</td>\n",
              "      <td>...</td>\n",
              "      <td>...</td>\n",
              "      <td>...</td>\n",
              "      <td>...</td>\n",
              "      <td>...</td>\n",
              "      <td>...</td>\n",
              "      <td>...</td>\n",
              "      <td>...</td>\n",
              "      <td>...</td>\n",
              "      <td>...</td>\n",
              "      <td>...</td>\n",
              "      <td>...</td>\n",
              "      <td>...</td>\n",
              "      <td>...</td>\n",
              "      <td>...</td>\n",
              "      <td>...</td>\n",
              "      <td>...</td>\n",
              "      <td>...</td>\n",
              "      <td>...</td>\n",
              "      <td>...</td>\n",
              "      <td>...</td>\n",
              "      <td>...</td>\n",
              "      <td>...</td>\n",
              "      <td>...</td>\n",
              "      <td>...</td>\n",
              "      <td>...</td>\n",
              "      <td>...</td>\n",
              "      <td>...</td>\n",
              "      <td>...</td>\n",
              "      <td>...</td>\n",
              "      <td>...</td>\n",
              "    </tr>\n",
              "    <tr>\n",
              "      <th>99992</th>\n",
              "      <td>152649203685</td>\n",
              "      <td>INETNLOY20</td>\n",
              "      <td>NaN</td>\n",
              "      <td>NaN</td>\n",
              "      <td>NaN</td>\n",
              "      <td>NaN</td>\n",
              "      <td>NaN</td>\n",
              "      <td>NaN</td>\n",
              "      <td>NaN</td>\n",
              "      <td>NaN</td>\n",
              "      <td>NaN</td>\n",
              "      <td>NaN</td>\n",
              "      <td>NaN</td>\n",
              "      <td>NaN</td>\n",
              "      <td>NaN</td>\n",
              "      <td>NaN</td>\n",
              "      <td>NaN</td>\n",
              "      <td>NaN</td>\n",
              "      <td>NaN</td>\n",
              "      <td>NaN</td>\n",
              "      <td>NaN</td>\n",
              "      <td>NaN</td>\n",
              "      <td>NaN</td>\n",
              "      <td>NaN</td>\n",
              "      <td>NaN</td>\n",
              "      <td>NaN</td>\n",
              "      <td>202104.0</td>\n",
              "      <td>315.000,00</td>\n",
              "      <td>PAID</td>\n",
              "      <td>20210408.0</td>\n",
              "      <td>203453.0</td>\n",
              "      <td>FINNET SUBCA - INDOMART</td>\n",
              "      <td>202105.0</td>\n",
              "      <td>524.209,00</td>\n",
              "      <td>PAID</td>\n",
              "      <td>20210521.0</td>\n",
              "      <td>90342.0</td>\n",
              "      <td>FINNET SUBCA - INDOMART</td>\n",
              "      <td>202106.0</td>\n",
              "      <td>362.250,00</td>\n",
              "      <td>...</td>\n",
              "      <td>20210621.0</td>\n",
              "      <td>92218.0</td>\n",
              "      <td>FINNET SUBCA - INDOMART</td>\n",
              "      <td>202107.0</td>\n",
              "      <td>346.500,00</td>\n",
              "      <td>PAID</td>\n",
              "      <td>20210720.0</td>\n",
              "      <td>160903.0</td>\n",
              "      <td>FINNET SUBCA - INDOMART</td>\n",
              "      <td>202108.0</td>\n",
              "      <td>346.500,00</td>\n",
              "      <td>PAID</td>\n",
              "      <td>20210821.0</td>\n",
              "      <td>70144.0</td>\n",
              "      <td>FINNET SUBCA - INDOMART</td>\n",
              "      <td>202109.0</td>\n",
              "      <td>346.500,00</td>\n",
              "      <td>PAID</td>\n",
              "      <td>20211020.0</td>\n",
              "      <td>141345.0</td>\n",
              "      <td>FPC - FINNET KOPEGTEL</td>\n",
              "      <td>202110.0</td>\n",
              "      <td>NaN</td>\n",
              "      <td>UNPAID</td>\n",
              "      <td>NaN</td>\n",
              "      <td>NaN</td>\n",
              "      <td>NaN</td>\n",
              "      <td>1.526492e+11</td>\n",
              "      <td>GPON01-D5-KRK-2 xpon 0/1/0/3:23.3.200</td>\n",
              "      <td>disable</td>\n",
              "      <td>enable</td>\n",
              "      <td>33</td>\n",
              "      <td>ISOLIRAN</td>\n",
              "      <td>20211021020316</td>\n",
              "      <td>20371231235959</td>\n",
              "      <td>2021-09-29 17:40:10</td>\n",
              "      <td>750.000000</td>\n",
              "      <td>750.00</td>\n",
              "      <td>13.03 MB</td>\n",
              "      <td>85.99 MB</td>\n",
              "    </tr>\n",
              "    <tr>\n",
              "      <th>99993</th>\n",
              "      <td>172705214301</td>\n",
              "      <td>INETF20M</td>\n",
              "      <td>NaN</td>\n",
              "      <td>NaN</td>\n",
              "      <td>NaN</td>\n",
              "      <td>NaN</td>\n",
              "      <td>NaN</td>\n",
              "      <td>NaN</td>\n",
              "      <td>NaN</td>\n",
              "      <td>NaN</td>\n",
              "      <td>NaN</td>\n",
              "      <td>NaN</td>\n",
              "      <td>NaN</td>\n",
              "      <td>NaN</td>\n",
              "      <td>NaN</td>\n",
              "      <td>NaN</td>\n",
              "      <td>NaN</td>\n",
              "      <td>NaN</td>\n",
              "      <td>NaN</td>\n",
              "      <td>NaN</td>\n",
              "      <td>NaN</td>\n",
              "      <td>NaN</td>\n",
              "      <td>NaN</td>\n",
              "      <td>NaN</td>\n",
              "      <td>NaN</td>\n",
              "      <td>NaN</td>\n",
              "      <td>202104.0</td>\n",
              "      <td>315.000,00</td>\n",
              "      <td>PAID</td>\n",
              "      <td>20210402.0</td>\n",
              "      <td>163318.0</td>\n",
              "      <td>FINNET BANK - BANK MANDIRI</td>\n",
              "      <td>202105.0</td>\n",
              "      <td>501.417,00</td>\n",
              "      <td>PAID</td>\n",
              "      <td>20210507.0</td>\n",
              "      <td>121848.0</td>\n",
              "      <td>FINNET BANK - BANK MANDIRI</td>\n",
              "      <td>202106.0</td>\n",
              "      <td>362.250,00</td>\n",
              "      <td>...</td>\n",
              "      <td>20210622.0</td>\n",
              "      <td>171037.0</td>\n",
              "      <td>FINNET BANK - BANK MANDIRI</td>\n",
              "      <td>202107.0</td>\n",
              "      <td>362.250,00</td>\n",
              "      <td>PAID</td>\n",
              "      <td>20210723.0</td>\n",
              "      <td>122015.0</td>\n",
              "      <td>FINNET BANK - BANK MANDIRI</td>\n",
              "      <td>202108.0</td>\n",
              "      <td>362.250,00</td>\n",
              "      <td>PAID</td>\n",
              "      <td>20210823.0</td>\n",
              "      <td>21205.0</td>\n",
              "      <td>FINNET BANK - BANK MANDIRI</td>\n",
              "      <td>202109.0</td>\n",
              "      <td>346.500,00</td>\n",
              "      <td>PAID</td>\n",
              "      <td>20211004.0</td>\n",
              "      <td>144226.0</td>\n",
              "      <td>FINNET BANK - BANK MANDIRI</td>\n",
              "      <td>202110.0</td>\n",
              "      <td>346.500,00</td>\n",
              "      <td>PAID</td>\n",
              "      <td>20211004.0</td>\n",
              "      <td>144226.0</td>\n",
              "      <td>FINNET BANK - BANK MANDIRI</td>\n",
              "      <td>1.727052e+11</td>\n",
              "      <td>GPON04-D7-PLB-4 pon 0/2/14/26:2447</td>\n",
              "      <td>enable</td>\n",
              "      <td>enable</td>\n",
              "      <td>0</td>\n",
              "      <td>-</td>\n",
              "      <td>-</td>\n",
              "      <td>-</td>\n",
              "      <td>2021-11-01 22:15:35</td>\n",
              "      <td>750.000000</td>\n",
              "      <td>740.84</td>\n",
              "      <td>1.93 MB</td>\n",
              "      <td>977.78 KB</td>\n",
              "    </tr>\n",
              "    <tr>\n",
              "      <th>99994</th>\n",
              "      <td>111213018472</td>\n",
              "      <td>NaN</td>\n",
              "      <td>NaN</td>\n",
              "      <td>NaN</td>\n",
              "      <td>NaN</td>\n",
              "      <td>NaN</td>\n",
              "      <td>NaN</td>\n",
              "      <td>NaN</td>\n",
              "      <td>NaN</td>\n",
              "      <td>NaN</td>\n",
              "      <td>NaN</td>\n",
              "      <td>NaN</td>\n",
              "      <td>NaN</td>\n",
              "      <td>NaN</td>\n",
              "      <td>NaN</td>\n",
              "      <td>NaN</td>\n",
              "      <td>NaN</td>\n",
              "      <td>NaN</td>\n",
              "      <td>NaN</td>\n",
              "      <td>NaN</td>\n",
              "      <td>202103.0</td>\n",
              "      <td>329.000,00</td>\n",
              "      <td>PAID</td>\n",
              "      <td>20210331.0</td>\n",
              "      <td>213539.0</td>\n",
              "      <td>FINNET BANK - BANK NEGARA INDONESIA</td>\n",
              "      <td>202104.0</td>\n",
              "      <td>NaN</td>\n",
              "      <td>ZERO BILLING</td>\n",
              "      <td>20210403.0</td>\n",
              "      <td>203811.0</td>\n",
              "      <td>System</td>\n",
              "      <td>202105.0</td>\n",
              "      <td>378.350,00</td>\n",
              "      <td>PAID</td>\n",
              "      <td>20210521.0</td>\n",
              "      <td>120340.0</td>\n",
              "      <td>FINNET SUBCA - ALFAMART</td>\n",
              "      <td>202106.0</td>\n",
              "      <td>378.350,00</td>\n",
              "      <td>...</td>\n",
              "      <td>20210621.0</td>\n",
              "      <td>115633.0</td>\n",
              "      <td>FINNET SUBCA - MAGNA KARSA MULIA</td>\n",
              "      <td>202107.0</td>\n",
              "      <td>378.350,00</td>\n",
              "      <td>PAID</td>\n",
              "      <td>20210725.0</td>\n",
              "      <td>132455.0</td>\n",
              "      <td>FINNET BANK - BANK SYARIAH MANDIRI</td>\n",
              "      <td>202108.0</td>\n",
              "      <td>394.800,00</td>\n",
              "      <td>PAID</td>\n",
              "      <td>20210909.0</td>\n",
              "      <td>153526.0</td>\n",
              "      <td>FINNET BANK - BANK SYARIAH MANDIRI</td>\n",
              "      <td>202109.0</td>\n",
              "      <td>361.900,00</td>\n",
              "      <td>PAID</td>\n",
              "      <td>20211008.0</td>\n",
              "      <td>190549.0</td>\n",
              "      <td>FINNET BANK - BANK SYARIAH MANDIRI</td>\n",
              "      <td>202110.0</td>\n",
              "      <td>NaN</td>\n",
              "      <td>UNPAID</td>\n",
              "      <td>NaN</td>\n",
              "      <td>NaN</td>\n",
              "      <td>NaN</td>\n",
              "      <td>NaN</td>\n",
              "      <td>NaN</td>\n",
              "      <td>NaN</td>\n",
              "      <td>NaN</td>\n",
              "      <td>0</td>\n",
              "      <td>-</td>\n",
              "      <td>-</td>\n",
              "      <td>-</td>\n",
              "      <td>NaN</td>\n",
              "      <td>0.000000</td>\n",
              "      <td>0.00</td>\n",
              "      <td>NaN</td>\n",
              "      <td>NaN</td>\n",
              "    </tr>\n",
              "    <tr>\n",
              "      <th>99995</th>\n",
              "      <td>142401123696</td>\n",
              "      <td>NaN</td>\n",
              "      <td>NaN</td>\n",
              "      <td>NaN</td>\n",
              "      <td>NaN</td>\n",
              "      <td>NaN</td>\n",
              "      <td>NaN</td>\n",
              "      <td>NaN</td>\n",
              "      <td>NaN</td>\n",
              "      <td>NaN</td>\n",
              "      <td>NaN</td>\n",
              "      <td>NaN</td>\n",
              "      <td>NaN</td>\n",
              "      <td>NaN</td>\n",
              "      <td>NaN</td>\n",
              "      <td>NaN</td>\n",
              "      <td>NaN</td>\n",
              "      <td>NaN</td>\n",
              "      <td>NaN</td>\n",
              "      <td>NaN</td>\n",
              "      <td>202103.0</td>\n",
              "      <td>329.000,00</td>\n",
              "      <td>PAID</td>\n",
              "      <td>20210402.0</td>\n",
              "      <td>101056.0</td>\n",
              "      <td>FINNET BANK - BANK BUKOPIN</td>\n",
              "      <td>202104.0</td>\n",
              "      <td>NaN</td>\n",
              "      <td>ZERO BILLING</td>\n",
              "      <td>20210403.0</td>\n",
              "      <td>214506.0</td>\n",
              "      <td>System</td>\n",
              "      <td>202105.0</td>\n",
              "      <td>361.900,00</td>\n",
              "      <td>PAID</td>\n",
              "      <td>20210504.0</td>\n",
              "      <td>111342.0</td>\n",
              "      <td>FINNET BANK - BANK NEGARA INDONESIA</td>\n",
              "      <td>202106.0</td>\n",
              "      <td>361.900,00</td>\n",
              "      <td>...</td>\n",
              "      <td>20210603.0</td>\n",
              "      <td>131110.0</td>\n",
              "      <td>FINNET WAY4 - FINNET</td>\n",
              "      <td>202107.0</td>\n",
              "      <td>361.900,00</td>\n",
              "      <td>PAID</td>\n",
              "      <td>20210703.0</td>\n",
              "      <td>210948.0</td>\n",
              "      <td>FINNET SUBCA - TOKOPEDIA</td>\n",
              "      <td>202108.0</td>\n",
              "      <td>361.900,00</td>\n",
              "      <td>PAID</td>\n",
              "      <td>20210803.0</td>\n",
              "      <td>103322.0</td>\n",
              "      <td>FINNET BANK - BANK BUKOPIN</td>\n",
              "      <td>202109.0</td>\n",
              "      <td>361.900,00</td>\n",
              "      <td>PAID</td>\n",
              "      <td>20211013.0</td>\n",
              "      <td>155454.0</td>\n",
              "      <td>FPC - FINNET KOPEGTEL</td>\n",
              "      <td>202110.0</td>\n",
              "      <td>238.100,00</td>\n",
              "      <td>PAID</td>\n",
              "      <td>20211013.0</td>\n",
              "      <td>155454.0</td>\n",
              "      <td>FPC - FINNET KOPEGTEL</td>\n",
              "      <td>NaN</td>\n",
              "      <td>NaN</td>\n",
              "      <td>NaN</td>\n",
              "      <td>NaN</td>\n",
              "      <td>0</td>\n",
              "      <td>-</td>\n",
              "      <td>-</td>\n",
              "      <td>-</td>\n",
              "      <td>NaN</td>\n",
              "      <td>0.000000</td>\n",
              "      <td>0.00</td>\n",
              "      <td>NaN</td>\n",
              "      <td>NaN</td>\n",
              "    </tr>\n",
              "    <tr>\n",
              "      <th>99996</th>\n",
              "      <td>111301109609</td>\n",
              "      <td>INETF20M</td>\n",
              "      <td>NaN</td>\n",
              "      <td>NaN</td>\n",
              "      <td>NaN</td>\n",
              "      <td>NaN</td>\n",
              "      <td>NaN</td>\n",
              "      <td>NaN</td>\n",
              "      <td>NaN</td>\n",
              "      <td>NaN</td>\n",
              "      <td>NaN</td>\n",
              "      <td>NaN</td>\n",
              "      <td>NaN</td>\n",
              "      <td>NaN</td>\n",
              "      <td>NaN</td>\n",
              "      <td>NaN</td>\n",
              "      <td>NaN</td>\n",
              "      <td>NaN</td>\n",
              "      <td>NaN</td>\n",
              "      <td>NaN</td>\n",
              "      <td>NaN</td>\n",
              "      <td>NaN</td>\n",
              "      <td>NaN</td>\n",
              "      <td>NaN</td>\n",
              "      <td>NaN</td>\n",
              "      <td>NaN</td>\n",
              "      <td>202104.0</td>\n",
              "      <td>235.000,00</td>\n",
              "      <td>PAID</td>\n",
              "      <td>20210401.0</td>\n",
              "      <td>213900.0</td>\n",
              "      <td>FINNET SUBCA - INDOMART</td>\n",
              "      <td>202105.0</td>\n",
              "      <td>423.500,00</td>\n",
              "      <td>PAID</td>\n",
              "      <td>20210508.0</td>\n",
              "      <td>210031.0</td>\n",
              "      <td>FINNET SUBCA - ALFAMART</td>\n",
              "      <td>202106.0</td>\n",
              "      <td>258.500,00</td>\n",
              "      <td>...</td>\n",
              "      <td>20210620.0</td>\n",
              "      <td>191240.0</td>\n",
              "      <td>FINNET WAY4 - FINNET</td>\n",
              "      <td>202107.0</td>\n",
              "      <td>270.250,00</td>\n",
              "      <td>PAID</td>\n",
              "      <td>20210721.0</td>\n",
              "      <td>111749.0</td>\n",
              "      <td>FINNET WAY4 - FINNET</td>\n",
              "      <td>202108.0</td>\n",
              "      <td>258.500,00</td>\n",
              "      <td>PAID</td>\n",
              "      <td>20210821.0</td>\n",
              "      <td>194741.0</td>\n",
              "      <td>FINNET WAY4 - FINNET</td>\n",
              "      <td>202109.0</td>\n",
              "      <td>NaN</td>\n",
              "      <td>UNPAID</td>\n",
              "      <td>NaN</td>\n",
              "      <td>NaN</td>\n",
              "      <td>NaN</td>\n",
              "      <td>202110.0</td>\n",
              "      <td>NaN</td>\n",
              "      <td>CT0</td>\n",
              "      <td>NaN</td>\n",
              "      <td>NaN</td>\n",
              "      <td>NaN</td>\n",
              "      <td>1.113011e+11</td>\n",
              "      <td>GPON01-D1-RBM-2 xpon 0/1/0/7:7.3.200</td>\n",
              "      <td>disable</td>\n",
              "      <td>enable</td>\n",
              "      <td>0</td>\n",
              "      <td>ISOLIRAN</td>\n",
              "      <td>20210927020135</td>\n",
              "      <td>20371231235959</td>\n",
              "      <td>NaN</td>\n",
              "      <td>750.000000</td>\n",
              "      <td>750.00</td>\n",
              "      <td>NaN</td>\n",
              "      <td>NaN</td>\n",
              "    </tr>\n",
              "  </tbody>\n",
              "</table>\n",
              "<p>99997 rows × 81 columns</p>\n",
              "</div>"
            ],
            "text/plain": [
              "             number gladius.paketradius  ...  usage_download usage_upload\n",
              "0      131177120756          INETNLOY10  ...         1.46 GB    317.37 MB\n",
              "1      131177105296           INETLOY20  ...       776.02 MB    702.54 MB\n",
              "2      131167100072           INETSSQ20  ...       247.48 MB     60.86 MB\n",
              "3      131177150031           INET10Q10  ...       451.13 MB     49.34 MB\n",
              "4      131167101164          INETNLOY20  ...         1.86 GB    342.70 MB\n",
              "...             ...                 ...  ...             ...          ...\n",
              "99992  152649203685          INETNLOY20  ...        13.03 MB     85.99 MB\n",
              "99993  172705214301            INETF20M  ...         1.93 MB    977.78 KB\n",
              "99994  111213018472                 NaN  ...             NaN          NaN\n",
              "99995  142401123696                 NaN  ...             NaN          NaN\n",
              "99996  111301109609            INETF20M  ...             NaN          NaN\n",
              "\n",
              "[99997 rows x 81 columns]"
            ]
          },
          "metadata": {},
          "execution_count": 9
        }
      ]
    },
    {
      "cell_type": "markdown",
      "metadata": {
        "id": "w5JG-50FpGXB"
      },
      "source": [
        "# Dataset Preprocessing"
      ]
    },
    {
      "cell_type": "markdown",
      "metadata": {
        "id": "cTKqTT0-aV-C"
      },
      "source": [
        "## Preprocessing"
      ]
    },
    {
      "cell_type": "code",
      "metadata": {
        "colab": {
          "base_uri": "https://localhost:8080/",
          "height": 210
        },
        "id": "kJorAEYm6unk",
        "outputId": "e60c8e3f-1dda-4c5e-ed54-556b70dcd023"
      },
      "source": [
        "# Drop 21 data\n",
        "df = df.drop(df.loc[(df[\"billing_1_status\"] == \"CT0\") & (df[\"billing_2_status\"] != \"UNPAID\")].index)\n",
        "df = df.reset_index(drop = True)\n",
        "\n",
        "# Drop 91 data\n",
        "df = df.drop(df.loc[(df[\"billing_1_status\"] == \"ZERO BILLING\") &\n",
        "                    (df[\"billing_2_status\"] == \"ZERO BILLING\") &\n",
        "                    (df[\"billing_3_status\"] == \"ZERO BILLING\") &\n",
        "                    (df[\"billing_4_status\"] == \"ZERO BILLING\") &\n",
        "                    (df[\"billing_5_status\"] == \"ZERO BILLING\") &\n",
        "                    (df[\"billing_6_status\"] == \"ZERO BILLING\") &\n",
        "                    (df[\"billing_7_status\"] == \"ZERO BILLING\") &\n",
        "                    (df[\"billing_8_status\"] == \"ZERO BILLING\") &\n",
        "                    (df[\"billing_9_status\"] == \"ZERO BILLING\") &\n",
        "                    (df[\"billing_10_status\"] == \"ZERO BILLING\") &\n",
        "                    (df[\"billing_11_status\"] == \"ZERO BILLING\")].index)\n",
        "df = df.reset_index(drop = True)\n",
        "\n",
        "# Drop 1624 data\n",
        "df = df.drop(df.loc[(df[\"billing_1_status\"] == \"CT0\") & (df[\"samnas.service_name\"] != \"ISOLIRAN\")].index)\n",
        "df = df.reset_index(drop = True)\n",
        "\n",
        "# Drop 2840 data\n",
        "df = df.drop(df.loc[(df[\"billing_1_status\"] == \"PARTIAL\") |\n",
        "                    (df[\"billing_2_status\"] == \"PARTIAL\") | \n",
        "                    (df[\"billing_3_status\"] == \"PARTIAL\") | \n",
        "                    (df[\"billing_4_status\"] == \"PARTIAL\") | \n",
        "                    (df[\"billing_5_status\"] == \"PARTIAL\") | \n",
        "                    (df[\"billing_6_status\"] == \"PARTIAL\") | \n",
        "                    (df[\"billing_7_status\"] == \"PARTIAL\") | \n",
        "                    (df[\"billing_8_status\"] == \"PARTIAL\") | \n",
        "                    (df[\"billing_9_status\"] == \"PARTIAL\") | \n",
        "                    (df[\"billing_10_status\"] == \"PARTIAL\") | \n",
        "                    (df[\"billing_11_status\"] == \"PARTIAL\")].index)\n",
        "df = df.reset_index(drop = True)\n",
        "\n",
        "# Fill NaN value with 0 or \"-\"\n",
        "for month in [1, 2, 3, 4, 5, 6, 7, 8, 9, 10, 11]:\n",
        "    df[\"billing_{}_status\".format(month)].loc[df[\"billing_{}_status\".format(month)].isnull()] = \"ZERO BILLING\" # CHECK AGAIN\n",
        "    df[\"billing_{}_period\".format(month)].loc[df[\"billing_{}_period\".format(month)].isnull()] = 0 # CHECK AGAIN\n",
        "    df[\"billing_{}_paymentDate\".format(month)].loc[df[\"billing_{}_paymentDate\".format(month)].isnull()] = 0 # CHECK AGAIN\n",
        "    df[[\"billing_{}_paymentDate\".format(month)]] = df[[\"billing_{}_paymentDate\".format(month)]].astype(float).astype(int)\n",
        "    df[[\"billing_{}_amountTotal\".format(month)]] = df[\"billing_{}_amountTotal\".format(month)].apply(lambda x: float(str(x).replace(\".\", \"\").replace(\",\", \".\")))\n",
        "    df[[\"billing_{}_amountTotal\".format(month)]] = df[\"billing_{}_amountTotal\".format(month)].apply(lambda x: -1 * x if x < 0 else x)\n",
        "    df[\"billing_{}_amountTotal\".format(month)].loc[df[\"billing_{}_amountTotal\".format(month)].isnull()] = 0 # CHECK AGAIN\n",
        "    df[[\"billing_{}_paymentDate\".format(month)]] = df[\"billing_{}_paymentDate\".format(month)].apply(lambda x: int(str(x)[-2:]))\n",
        "    df[\"billing_{}_paymentTime\".format(month)].loc[df[\"billing_{}_paymentTime\".format(month)].isnull()] = 0 # CHECK AGAIN\n",
        "    df[\"billing_{}_channel\".format(month)].loc[df[\"billing_{}_channel\".format(month)].isnull()] = \"-\" # CHECK AGAIN\n",
        "df[\"gladius.nd\"].loc[df[\"gladius.nd\"].isnull()] = 0 # CHECK AGAIN\n",
        "df[\"gladius.paketradius\"].loc[df[\"gladius.paketradius\"].isnull()] = \"-\" # CHECK AGAIN\n",
        "df[\"gladius.portbinding\"].loc[df[\"gladius.portbinding\"].isnull()] = \"-\" # CHECK AGAIN\n",
        "df[\"gladius.statusnomor\"].loc[df[\"gladius.statusnomor\"].isnull()] = \"-\" # CHECK AGAIN\n",
        "df[\"gladius.statusport\"].loc[df[\"gladius.statusport\"].isnull()] = \"-\" # CHECK AGAIN\n",
        "df[\"session_start\"].loc[df[\"session_start\"].isnull()] = \"-\" # CHECK AGAIN\n",
        "df[\"usage_download\"].loc[df[\"usage_download\"].isnull()] = \"-\" # CHECK AGAIN\n",
        "df[\"usage_upload\"].loc[df[\"usage_upload\"].isnull()] = \"-\" # CHECK AGAIN\n",
        "\n",
        "# Fill missing value samnas.service_name == \"ISOLIRAN\" when gladius.statusnomor == \"isolir\" and gladius.statusnomo == \"isolir\" when samnas.service_name == \"ISOLIRAN\"\n",
        "#df[\"samnas.service_name\"].loc[(df[\"gladius.statusnomor\"] == \"isolir\") & (df[\"samnas.service_name\"] == \"-\")] = \"ISOLIRAN\" # CHECK AGAIN\n",
        "#df[\"gladius.statusnomor\"].loc[(df[\"gladius.statusnomor\"] == \"-\") & (df[\"samnas.service_name\"] == \"ISOLIRAN\")] = \"isolir\" # CHECK AGAIN\n",
        "\n",
        "# Create New Feature\n",
        "'''\n",
        "df[\"count_paid\"] = (df[[\"billing_12_status\", \n",
        "                        \"billing_11_status\",\n",
        "                        \"billing_10_status\",\n",
        "                        \"billing_9_status\",\n",
        "                        \"billing_8_status\",\n",
        "                        \"billing_7_status\",\n",
        "                        \"billing_6_status\",\n",
        "                        \"billing_5_status\",\n",
        "                        \"billing_4_status\",\n",
        "                        \"billing_3_status\",\n",
        "                        \"billing_2_status\",\n",
        "                        \"billing_1_status\"]] == \"PAID\").sum(axis = 1).values\n",
        "df[\"count_unpaid\"] = (df[[\"billing_12_status\", \n",
        "                        \"billing_11_status\",\n",
        "                        \"billing_10_status\",\n",
        "                        \"billing_9_status\",\n",
        "                        \"billing_8_status\",\n",
        "                        \"billing_7_status\",\n",
        "                        \"billing_6_status\",\n",
        "                        \"billing_5_status\",\n",
        "                        \"billing_4_status\",\n",
        "                        \"billing_3_status\",\n",
        "                        \"billing_2_status\",\n",
        "                        \"billing_1_status\"]] == \"UNPAID\").sum(axis = 1).values\n",
        "df[\"count_partial\"] = (df[[\"billing_12_status\", \n",
        "                        \"billing_11_status\",\n",
        "                        \"billing_10_status\",\n",
        "                        \"billing_9_status\",\n",
        "                        \"billing_8_status\",\n",
        "                        \"billing_7_status\",\n",
        "                        \"billing_6_status\",\n",
        "                        \"billing_5_status\",\n",
        "                        \"billing_4_status\",\n",
        "                        \"billing_3_status\",\n",
        "                        \"billing_2_status\",\n",
        "                        \"billing_1_status\"]] == \"PARTIAL\").sum(axis = 1).values\n",
        "df[\"count_zero_billing\"] = (df[[\"billing_12_status\", \n",
        "                        \"billing_11_status\",\n",
        "                        \"billing_10_status\",\n",
        "                        \"billing_9_status\",\n",
        "                        \"billing_8_status\",\n",
        "                        \"billing_7_status\",\n",
        "                        \"billing_6_status\",\n",
        "                        \"billing_5_status\",\n",
        "                        \"billing_4_status\",\n",
        "                        \"billing_3_status\",\n",
        "                        \"billing_2_status\",\n",
        "                        \"billing_1_status\"]] == \"ZERO BILLING\").sum(axis = 1).values\n",
        "df[\"count_ct0\"] = (df[[\"billing_12_status\", \n",
        "                        \"billing_11_status\",\n",
        "                        \"billing_10_status\",\n",
        "                        \"billing_9_status\",\n",
        "                        \"billing_8_status\",\n",
        "                        \"billing_7_status\",\n",
        "                        \"billing_6_status\",\n",
        "                        \"billing_5_status\",\n",
        "                        \"billing_4_status\",\n",
        "                        \"billing_3_status\",\n",
        "                        \"billing_2_status\",\n",
        "                        \"billing_1_status\"]] == \"CT0\").sum(axis = 1).values\n",
        "'''"
      ],
      "execution_count": 10,
      "outputs": [
        {
          "output_type": "stream",
          "name": "stderr",
          "text": [
            "/usr/local/lib/python3.7/dist-packages/pandas/core/indexing.py:670: SettingWithCopyWarning: \n",
            "A value is trying to be set on a copy of a slice from a DataFrame\n",
            "\n",
            "See the caveats in the documentation: https://pandas.pydata.org/pandas-docs/stable/user_guide/indexing.html#returning-a-view-versus-a-copy\n",
            "  iloc._setitem_with_indexer(indexer, value)\n"
          ]
        },
        {
          "output_type": "execute_result",
          "data": {
            "application/vnd.google.colaboratory.intrinsic+json": {
              "type": "string"
            },
            "text/plain": [
              "'\\ndf[\"count_paid\"] = (df[[\"billing_12_status\", \\n                        \"billing_11_status\",\\n                        \"billing_10_status\",\\n                        \"billing_9_status\",\\n                        \"billing_8_status\",\\n                        \"billing_7_status\",\\n                        \"billing_6_status\",\\n                        \"billing_5_status\",\\n                        \"billing_4_status\",\\n                        \"billing_3_status\",\\n                        \"billing_2_status\",\\n                        \"billing_1_status\"]] == \"PAID\").sum(axis = 1).values\\ndf[\"count_unpaid\"] = (df[[\"billing_12_status\", \\n                        \"billing_11_status\",\\n                        \"billing_10_status\",\\n                        \"billing_9_status\",\\n                        \"billing_8_status\",\\n                        \"billing_7_status\",\\n                        \"billing_6_status\",\\n                        \"billing_5_status\",\\n                        \"billing_4_status\",\\n                        \"billing_3_status\",\\n                        \"billing_2_status\",\\n                        \"billing_1_status\"]] == \"UNPAID\").sum(axis = 1).values\\ndf[\"count_partial\"] = (df[[\"billing_12_status\", \\n                        \"billing_11_status\",\\n                        \"billing_10_status\",\\n                        \"billing_9_status\",\\n                        \"billing_8_status\",\\n                        \"billing_7_status\",\\n                        \"billing_6_status\",\\n                        \"billing_5_status\",\\n                        \"billing_4_status\",\\n                        \"billing_3_status\",\\n                        \"billing_2_status\",\\n                        \"billing_1_status\"]] == \"PARTIAL\").sum(axis = 1).values\\ndf[\"count_zero_billing\"] = (df[[\"billing_12_status\", \\n                        \"billing_11_status\",\\n                        \"billing_10_status\",\\n                        \"billing_9_status\",\\n                        \"billing_8_status\",\\n                        \"billing_7_status\",\\n                        \"billing_6_status\",\\n                        \"billing_5_status\",\\n                        \"billing_4_status\",\\n                        \"billing_3_status\",\\n                        \"billing_2_status\",\\n                        \"billing_1_status\"]] == \"ZERO BILLING\").sum(axis = 1).values\\ndf[\"count_ct0\"] = (df[[\"billing_12_status\", \\n                        \"billing_11_status\",\\n                        \"billing_10_status\",\\n                        \"billing_9_status\",\\n                        \"billing_8_status\",\\n                        \"billing_7_status\",\\n                        \"billing_6_status\",\\n                        \"billing_5_status\",\\n                        \"billing_4_status\",\\n                        \"billing_3_status\",\\n                        \"billing_2_status\",\\n                        \"billing_1_status\"]] == \"CT0\").sum(axis = 1).values\\n'"
            ]
          },
          "metadata": {},
          "execution_count": 10
        }
      ]
    },
    {
      "cell_type": "code",
      "metadata": {
        "id": "Rh43StZTAIed"
      },
      "source": [
        "df"
      ],
      "execution_count": null,
      "outputs": []
    },
    {
      "cell_type": "code",
      "metadata": {
        "colab": {
          "base_uri": "https://localhost:8080/"
        },
        "id": "LD2ZhcmILbBg",
        "outputId": "60a7667d-f29e-4902-b89c-65d933920c01"
      },
      "source": [
        "df[\"gladius.paketradius\"].unique()"
      ],
      "execution_count": 12,
      "outputs": [
        {
          "output_type": "execute_result",
          "data": {
            "text/plain": [
              "array(['INETNLOY10', 'INETLOY20', 'INETSSQ20', 'INET10Q10', 'INETNLOY20',\n",
              "       'INET10Q050', 'INET10Q50', 'INETSSQ100', 'INETNLOY50', 'INETF20M',\n",
              "       'INETNLOY30', 'INETF10M', 'INETF30M', '-', 'INETSSQ5',\n",
              "       'INETNLOY100', 'INET10Q20', 'INETR5M', 'INETNLOYL20', 'INETMBQ50',\n",
              "       'INET10Q100', 'INETLOY40', 'INETFL20M', 'INETLOY30', 'INETFL10M',\n",
              "       'INETR10M', 'INETMBSP10', 'INET SOD', 'INETF40M', 'INETR20M',\n",
              "       'INETR512K', 'INETNLOY40', 'INETFN30M', 'INETR1M', 'INETBHOME',\n",
              "       'INET U2M', 'INETF100M', 'INETG1M', 'INETF50M', 'INETNLOYL10',\n",
              "       'INETG3M', 'INETNLOY200', 'INETFN20M', 'INETR2M', 'INET U3M',\n",
              "       'INET U384K', 'INETR3M', 'INET U1M', 'INETLOY10', 'INET_1MB_H',\n",
              "       'INETSS2M', 'INET_3MB_H', 'INET1000S', 'INETG10M', 'HSSP4',\n",
              "       'INET1000H', 'INET U512R', 'INET U512K', 'INETSSQ50', 'INETLOY50',\n",
              "       'INET L15H', 'INET L50H', 'INETSS1M', 'INETTBASE', 'INETSS10M',\n",
              "       'INETSS3M', 'INETNLOY300', 'INETFN10M', 'INETLOY100', 'INETHYBRID',\n",
              "       'INET TBS15', 'INET PERSO', 'INETOFFIC', 'INET_2MB_H',\n",
              "       'INET U384R', 'INETG512K', 'INETR50M', 'INET10M', 'INETF200M',\n",
              "       'INETF300M', 'INETFN50M', 'INETC100M', 'INETLOY300', 'INETLOY200',\n",
              "       'INETFL30M', 'INETFL40M', 'INETC20M', 'INETC10M', 'INETP50M',\n",
              "       'INETF10ML', 'INETC50M', 'INETFN100M', 'INETFN40M', 'INET512RH'],\n",
              "      dtype=object)"
            ]
          },
          "metadata": {},
          "execution_count": 12
        }
      ]
    },
    {
      "cell_type": "markdown",
      "metadata": {
        "id": "xB3E95gSQW0g"
      },
      "source": [
        "# Exploratory Data Analysis"
      ]
    },
    {
      "cell_type": "code",
      "metadata": {
        "id": "ZaSqT4bieFhl"
      },
      "source": [
        "df_temp = df.copy()\n",
        "df_temp.loc[(df_temp[\"billing_1_status\"] == \"CT0\") | (df_temp[\"billing_1_status\"] == \"ZERO BILLING\") | ((df_temp[\"billing_2_status\"] == \"UNPAID\") & (df_temp[\"billing_1_status\"] == \"UNPAID\")), \"subscribe_status\"] = \"UNSUBSCRIBE\"\n",
        "df_temp[\"subscribe_status\"] = df_temp[\"subscribe_status\"].fillna(\"SUBSCRIBE\")\n",
        "df_temp[\"sisa_%\"] = df_temp[\"sisa\"] / df_temp[\"quota\"]\n",
        "df_temp[\"sisa_%\"].loc[df_temp[\"sisa_%\"].isnull()] = 1 # CHECK AGAIN\n",
        "df_temp[\"billing_mean_paymentDate\"] = df_temp[[\"billing_11_paymentDate\",\n",
        "                                               \"billing_10_paymentDate\",\n",
        "                                               \"billing_9_paymentDate\",\n",
        "                                               \"billing_8_paymentDate\",\n",
        "                                               \"billing_7_paymentDate\",\n",
        "                                               \"billing_6_paymentDate\",\n",
        "                                               \"billing_5_paymentDate\",\n",
        "                                               \"billing_4_paymentDate\",\n",
        "                                               \"billing_3_paymentDate\",\n",
        "                                               \"billing_2_paymentDate\"]].mean(axis = 1)\n",
        "\n",
        "df_temp[\"billing_std_paymentDate\"] = df_temp[[\"billing_11_paymentDate\",\n",
        "                                              \"billing_10_paymentDate\",\n",
        "                                              \"billing_9_paymentDate\",\n",
        "                                              \"billing_8_paymentDate\",\n",
        "                                              \"billing_7_paymentDate\",\n",
        "                                              \"billing_6_paymentDate\",\n",
        "                                              \"billing_5_paymentDate\",\n",
        "                                              \"billing_4_paymentDate\",\n",
        "                                              \"billing_3_paymentDate\",\n",
        "                                              \"billing_2_paymentDate\"]].std(axis = 1)\n",
        "\n",
        "df_temp[\"billing_slope(3-1)_paymentDate\"] = (df_temp[\"billing_1_paymentDate\"] - df_temp[\"billing_3_paymentDate\"]) / 2\n",
        "df_temp[\"billing_slope(4-2)_paymentDate\"] = (df_temp[\"billing_2_paymentDate\"] - df_temp[\"billing_4_paymentDate\"]) / 2\n",
        "\n",
        "df_temp[\"billing_mean_amountTotal\"] = df_temp[[\"billing_11_amountTotal\",\n",
        "                                               \"billing_10_amountTotal\",\n",
        "                                               \"billing_9_amountTotal\",\n",
        "                                               \"billing_8_amountTotal\",\n",
        "                                               \"billing_7_amountTotal\",\n",
        "                                               \"billing_6_amountTotal\",\n",
        "                                               \"billing_5_amountTotal\",\n",
        "                                               \"billing_4_amountTotal\",\n",
        "                                               \"billing_3_amountTotal\",\n",
        "                                               \"billing_2_amountTotal\"]].mean(axis = 1)\n",
        "\n",
        "df_temp[\"billing_std_amountTotal\"] =  df_temp[[\"billing_11_amountTotal\",\n",
        "                                               \"billing_10_amountTotal\",\n",
        "                                               \"billing_9_amountTotal\",\n",
        "                                               \"billing_8_amountTotal\",\n",
        "                                               \"billing_7_amountTotal\",\n",
        "                                               \"billing_6_amountTotal\",\n",
        "                                               \"billing_5_amountTotal\",\n",
        "                                               \"billing_4_amountTotal\",\n",
        "                                               \"billing_3_amountTotal\",\n",
        "                                               \"billing_2_amountTotal\"]].std(axis = 1)\n",
        "\n",
        "df_temp[\"billing_slope(3-1)_amountTotal\"] = (df_temp[\"billing_1_amountTotal\"] - df_temp[\"billing_3_amountTotal\"]) / 2\n",
        "df_temp[\"billing_slope(4-2)_amountTotal\"] = (df_temp[\"billing_2_amountTotal\"] - df_temp[\"billing_4_amountTotal\"]) / 2\n",
        "\n",
        "# Drop 21 data\n",
        "df_temp = df_temp.drop(df_temp.loc[((df_temp[\"billing_11_status\"] == \"ZERO BILLING\") & \n",
        "                     (df_temp[\"billing_10_status\"] == \"ZERO BILLING\") & \n",
        "                     (df_temp[\"billing_9_status\"] == \"ZERO BILLING\") & \n",
        "                     (df_temp[\"billing_8_status\"] == \"ZERO BILLING\") & \n",
        "                     (df_temp[\"billing_7_status\"] == \"ZERO BILLING\") & \n",
        "                     (df_temp[\"billing_6_status\"] == \"ZERO BILLING\") & \n",
        "                     (df_temp[\"billing_5_status\"] == \"ZERO BILLING\") & \n",
        "                     (df_temp[\"billing_4_status\"] == \"ZERO BILLING\") & \n",
        "                     (df_temp[\"billing_3_status\"] == \"ZERO BILLING\") & \n",
        "                     (df_temp[\"billing_2_status\"] == \"ZERO BILLING\")) |\n",
        "                    ((df_temp[\"billing_11_status\"] == \"ZERO BILLING\") & \n",
        "                     (df_temp[\"billing_10_status\"] == \"ZERO BILLING\") & \n",
        "                     (df_temp[\"billing_9_status\"] == \"ZERO BILLING\") & \n",
        "                     (df_temp[\"billing_8_status\"] == \"ZERO BILLING\") & \n",
        "                     (df_temp[\"billing_7_status\"] == \"ZERO BILLING\") & \n",
        "                     (df_temp[\"billing_6_status\"] == \"ZERO BILLING\") & \n",
        "                     (df_temp[\"billing_5_status\"] == \"ZERO BILLING\") & \n",
        "                     (df_temp[\"billing_4_status\"] == \"ZERO BILLING\") & \n",
        "                     (df_temp[\"billing_3_status\"] == \"ZERO BILLING\")) |\n",
        "                    ((df_temp[\"billing_11_status\"] == \"ZERO BILLING\") & \n",
        "                     (df_temp[\"billing_10_status\"] == \"ZERO BILLING\") & \n",
        "                     (df_temp[\"billing_9_status\"] == \"ZERO BILLING\") & \n",
        "                     (df_temp[\"billing_8_status\"] == \"ZERO BILLING\") & \n",
        "                     (df_temp[\"billing_7_status\"] == \"ZERO BILLING\") & \n",
        "                     (df_temp[\"billing_6_status\"] == \"ZERO BILLING\") & \n",
        "                     (df_temp[\"billing_5_status\"] == \"ZERO BILLING\") & \n",
        "                     (df_temp[\"billing_4_status\"] == \"ZERO BILLING\")) |\n",
        "                    ((df_temp[\"billing_11_status\"] == \"ZERO BILLING\") & \n",
        "                     (df_temp[\"billing_10_status\"] == \"ZERO BILLING\") & \n",
        "                     (df_temp[\"billing_9_status\"] == \"ZERO BILLING\") & \n",
        "                     (df_temp[\"billing_8_status\"] == \"ZERO BILLING\") & \n",
        "                     (df_temp[\"billing_7_status\"] == \"ZERO BILLING\") & \n",
        "                     (df_temp[\"billing_6_status\"] == \"ZERO BILLING\") & \n",
        "                     (df_temp[\"billing_5_status\"] == \"ZERO BILLING\")) |\n",
        "                    ((df_temp[\"billing_11_status\"] == \"ZERO BILLING\") & \n",
        "                     (df_temp[\"billing_10_status\"] == \"ZERO BILLING\") & \n",
        "                     (df_temp[\"billing_9_status\"] == \"ZERO BILLING\") & \n",
        "                     (df_temp[\"billing_8_status\"] == \"ZERO BILLING\") & \n",
        "                     (df_temp[\"billing_7_status\"] == \"ZERO BILLING\") & \n",
        "                     (df_temp[\"billing_6_status\"] == \"ZERO BILLING\")) |\n",
        "                    ((df_temp[\"billing_11_status\"] == \"ZERO BILLING\") & \n",
        "                     (df_temp[\"billing_10_status\"] == \"ZERO BILLING\") & \n",
        "                     (df_temp[\"billing_9_status\"] == \"ZERO BILLING\") & \n",
        "                     (df_temp[\"billing_8_status\"] == \"ZERO BILLING\") & \n",
        "                     (df_temp[\"billing_7_status\"] == \"ZERO BILLING\")) |\n",
        "                    ((df_temp[\"billing_11_status\"] == \"ZERO BILLING\") & \n",
        "                     (df_temp[\"billing_10_status\"] == \"ZERO BILLING\") & \n",
        "                     (df_temp[\"billing_9_status\"] == \"ZERO BILLING\") & \n",
        "                     (df_temp[\"billing_8_status\"] == \"ZERO BILLING\")) |\n",
        "                    ((df_temp[\"billing_11_status\"] == \"ZERO BILLING\") & \n",
        "                     (df_temp[\"billing_10_status\"] == \"ZERO BILLING\") & \n",
        "                     (df_temp[\"billing_9_status\"] == \"ZERO BILLING\")) |\n",
        "                    ((df_temp[\"billing_11_status\"] == \"ZERO BILLING\") & \n",
        "                     (df_temp[\"billing_10_status\"] == \"ZERO BILLING\")) |\n",
        "                    ((df_temp[\"billing_11_status\"] == \"ZERO BILLING\"))].index)\n",
        "df_temp = df_temp.reset_index(drop = True)\n",
        "\n",
        "df_temp"
      ],
      "execution_count": null,
      "outputs": []
    },
    {
      "cell_type": "markdown",
      "metadata": {
        "id": "qCaBqPCnx9Yf"
      },
      "source": [
        "#### Last Connection Days"
      ]
    },
    {
      "cell_type": "code",
      "metadata": {
        "colab": {
          "base_uri": "https://localhost:8080/",
          "height": 457
        },
        "id": "a5UVVdP2xYxP",
        "outputId": "3d76c821-8ed5-4fc6-85e5-2ed96edd1b99"
      },
      "source": [
        "from sklearn.cluster import KMeans\n",
        "\n",
        "X = df_temp[[\"last_connection_days\"]].values\n",
        "kmeans = KMeans(n_clusters = 10, random_state = 42).fit(X)\n",
        "df_temp[\"cluster\"] = kmeans.labels_\n",
        "\n",
        "list_a = np.array([df_temp[[\"last_connection_days\"]].loc[df_temp[\"cluster\"] == df_temp[\"cluster\"].unique()[0]].min()[0],\n",
        "                   df_temp[[\"last_connection_days\"]].loc[df_temp[\"cluster\"] == df_temp[\"cluster\"].unique()[1]].min()[0],\n",
        "                   df_temp[[\"last_connection_days\"]].loc[df_temp[\"cluster\"] == df_temp[\"cluster\"].unique()[2]].min()[0],\n",
        "                   df_temp[[\"last_connection_days\"]].loc[df_temp[\"cluster\"] == df_temp[\"cluster\"].unique()[3]].min()[0],\n",
        "                   df_temp[[\"last_connection_days\"]].loc[df_temp[\"cluster\"] == df_temp[\"cluster\"].unique()[4]].min()[0],\n",
        "                   df_temp[[\"last_connection_days\"]].loc[df_temp[\"cluster\"] == df_temp[\"cluster\"].unique()[5]].min()[0],\n",
        "                   df_temp[[\"last_connection_days\"]].loc[df_temp[\"cluster\"] == df_temp[\"cluster\"].unique()[6]].min()[0],\n",
        "                   df_temp[[\"last_connection_days\"]].loc[df_temp[\"cluster\"] == df_temp[\"cluster\"].unique()[7]].min()[0],\n",
        "                   df_temp[[\"last_connection_days\"]].loc[df_temp[\"cluster\"] == df_temp[\"cluster\"].unique()[8]].min()[0],\n",
        "                   df_temp[[\"last_connection_days\"]].loc[df_temp[\"cluster\"] == df_temp[\"cluster\"].unique()[9]].min()[0]])\n",
        "list_b = np.array([df_temp[[\"last_connection_days\"]].loc[df_temp[\"cluster\"] == df_temp[\"cluster\"].unique()[0]].max()[0],\n",
        "                   df_temp[[\"last_connection_days\"]].loc[df_temp[\"cluster\"] == df_temp[\"cluster\"].unique()[1]].max()[0],\n",
        "                   df_temp[[\"last_connection_days\"]].loc[df_temp[\"cluster\"] == df_temp[\"cluster\"].unique()[2]].max()[0],\n",
        "                   df_temp[[\"last_connection_days\"]].loc[df_temp[\"cluster\"] == df_temp[\"cluster\"].unique()[3]].max()[0],\n",
        "                   df_temp[[\"last_connection_days\"]].loc[df_temp[\"cluster\"] == df_temp[\"cluster\"].unique()[4]].max()[0],\n",
        "                   df_temp[[\"last_connection_days\"]].loc[df_temp[\"cluster\"] == df_temp[\"cluster\"].unique()[5]].max()[0],\n",
        "                   df_temp[[\"last_connection_days\"]].loc[df_temp[\"cluster\"] == df_temp[\"cluster\"].unique()[6]].max()[0],\n",
        "                   df_temp[[\"last_connection_days\"]].loc[df_temp[\"cluster\"] == df_temp[\"cluster\"].unique()[7]].max()[0],\n",
        "                   df_temp[[\"last_connection_days\"]].loc[df_temp[\"cluster\"] == df_temp[\"cluster\"].unique()[8]].max()[0],\n",
        "                   df_temp[[\"last_connection_days\"]].loc[df_temp[\"cluster\"] == df_temp[\"cluster\"].unique()[9]].max()[0]])\n",
        "\n",
        "\n",
        "name = [\"{}-{}\".format(list_a[list_a.argsort()[0]], list_b[list_b.argsort()[0]]),\n",
        "        \"{}-{}\".format(list_a[list_a.argsort()[1]], list_b[list_b.argsort()[1]]),\n",
        "        \"{}-{}\".format(list_a[list_a.argsort()[2]], list_b[list_b.argsort()[2]]),\n",
        "        \"{}-{}\".format(list_a[list_a.argsort()[3]], list_b[list_b.argsort()[3]]),\n",
        "        \"{}-{}\".format(list_a[list_a.argsort()[4]], list_b[list_b.argsort()[4]]),\n",
        "        \"{}-{}\".format(list_a[list_a.argsort()[5]], list_b[list_b.argsort()[5]]),\n",
        "        \"{}-{}\".format(list_a[list_a.argsort()[6]], list_b[list_b.argsort()[6]]),\n",
        "        \"{}-{}\".format(list_a[list_a.argsort()[7]], list_b[list_b.argsort()[7]]),\n",
        "        \"{}-{}\".format(list_a[list_a.argsort()[8]], list_b[list_b.argsort()[8]]),\n",
        "        \"{}-{}\".format(list_a[list_a.argsort()[9]], list_b[list_b.argsort()[9]])]\n",
        "\n",
        "valueA = [df_temp[[\"last_connection_days\"]].loc[(df_temp[\"cluster\"] == df_temp[\"cluster\"].unique()[list_a.argsort()[0]]) & (df_temp[\"subscribe_status\"] == \"UNSUBSCRIBE\")].sort_values(by = [\"last_connection_days\"]).count()[0],\n",
        "          df_temp[[\"last_connection_days\"]].loc[(df_temp[\"cluster\"] == df_temp[\"cluster\"].unique()[list_a.argsort()[1]]) & (df_temp[\"subscribe_status\"] == \"UNSUBSCRIBE\")].sort_values(by = [\"last_connection_days\"]).count()[0],\n",
        "          df_temp[[\"last_connection_days\"]].loc[(df_temp[\"cluster\"] == df_temp[\"cluster\"].unique()[list_a.argsort()[2]]) & (df_temp[\"subscribe_status\"] == \"UNSUBSCRIBE\")].sort_values(by = [\"last_connection_days\"]).count()[0],\n",
        "          df_temp[[\"last_connection_days\"]].loc[(df_temp[\"cluster\"] == df_temp[\"cluster\"].unique()[list_a.argsort()[3]]) & (df_temp[\"subscribe_status\"] == \"UNSUBSCRIBE\")].sort_values(by = [\"last_connection_days\"]).count()[0],\n",
        "          df_temp[[\"last_connection_days\"]].loc[(df_temp[\"cluster\"] == df_temp[\"cluster\"].unique()[list_a.argsort()[4]]) & (df_temp[\"subscribe_status\"] == \"UNSUBSCRIBE\")].sort_values(by = [\"last_connection_days\"]).count()[0],\n",
        "          df_temp[[\"last_connection_days\"]].loc[(df_temp[\"cluster\"] == df_temp[\"cluster\"].unique()[list_a.argsort()[5]]) & (df_temp[\"subscribe_status\"] == \"UNSUBSCRIBE\")].sort_values(by = [\"last_connection_days\"]).count()[0],\n",
        "          df_temp[[\"last_connection_days\"]].loc[(df_temp[\"cluster\"] == df_temp[\"cluster\"].unique()[list_a.argsort()[6]]) & (df_temp[\"subscribe_status\"] == \"UNSUBSCRIBE\")].sort_values(by = [\"last_connection_days\"]).count()[0],\n",
        "          df_temp[[\"last_connection_days\"]].loc[(df_temp[\"cluster\"] == df_temp[\"cluster\"].unique()[list_a.argsort()[7]]) & (df_temp[\"subscribe_status\"] == \"UNSUBSCRIBE\")].sort_values(by = [\"last_connection_days\"]).count()[0],\n",
        "          df_temp[[\"last_connection_days\"]].loc[(df_temp[\"cluster\"] == df_temp[\"cluster\"].unique()[list_a.argsort()[8]]) & (df_temp[\"subscribe_status\"] == \"UNSUBSCRIBE\")].sort_values(by = [\"last_connection_days\"]).count()[0],\n",
        "          df_temp[[\"last_connection_days\"]].loc[(df_temp[\"cluster\"] == df_temp[\"cluster\"].unique()[list_a.argsort()[9]]) & (df_temp[\"subscribe_status\"] == \"UNSUBSCRIBE\")].sort_values(by = [\"last_connection_days\"]).count()[0]]\n",
        "\n",
        "valueB = [df_temp[[\"last_connection_days\"]].loc[(df_temp[\"cluster\"] == df_temp[\"cluster\"].unique()[list_b.argsort()[0]]) & (df_temp[\"subscribe_status\"] == \"SUBSCRIBE\")].sort_values(by = [\"last_connection_days\"]).count()[0],\n",
        "          df_temp[[\"last_connection_days\"]].loc[(df_temp[\"cluster\"] == df_temp[\"cluster\"].unique()[list_b.argsort()[1]]) & (df_temp[\"subscribe_status\"] == \"SUBSCRIBE\")].sort_values(by = [\"last_connection_days\"]).count()[0],\n",
        "          df_temp[[\"last_connection_days\"]].loc[(df_temp[\"cluster\"] == df_temp[\"cluster\"].unique()[list_b.argsort()[2]]) & (df_temp[\"subscribe_status\"] == \"SUBSCRIBE\")].sort_values(by = [\"last_connection_days\"]).count()[0],\n",
        "          df_temp[[\"last_connection_days\"]].loc[(df_temp[\"cluster\"] == df_temp[\"cluster\"].unique()[list_b.argsort()[3]]) & (df_temp[\"subscribe_status\"] == \"SUBSCRIBE\")].sort_values(by = [\"last_connection_days\"]).count()[0],\n",
        "          df_temp[[\"last_connection_days\"]].loc[(df_temp[\"cluster\"] == df_temp[\"cluster\"].unique()[list_b.argsort()[4]]) & (df_temp[\"subscribe_status\"] == \"SUBSCRIBE\")].sort_values(by = [\"last_connection_days\"]).count()[0],\n",
        "          df_temp[[\"last_connection_days\"]].loc[(df_temp[\"cluster\"] == df_temp[\"cluster\"].unique()[list_b.argsort()[5]]) & (df_temp[\"subscribe_status\"] == \"SUBSCRIBE\")].sort_values(by = [\"last_connection_days\"]).count()[0],\n",
        "          df_temp[[\"last_connection_days\"]].loc[(df_temp[\"cluster\"] == df_temp[\"cluster\"].unique()[list_b.argsort()[6]]) & (df_temp[\"subscribe_status\"] == \"SUBSCRIBE\")].sort_values(by = [\"last_connection_days\"]).count()[0],\n",
        "          df_temp[[\"last_connection_days\"]].loc[(df_temp[\"cluster\"] == df_temp[\"cluster\"].unique()[list_b.argsort()[7]]) & (df_temp[\"subscribe_status\"] == \"SUBSCRIBE\")].sort_values(by = [\"last_connection_days\"]).count()[0],\n",
        "          df_temp[[\"last_connection_days\"]].loc[(df_temp[\"cluster\"] == df_temp[\"cluster\"].unique()[list_b.argsort()[8]]) & (df_temp[\"subscribe_status\"] == \"SUBSCRIBE\")].sort_values(by = [\"last_connection_days\"]).count()[0],\n",
        "          df_temp[[\"last_connection_days\"]].loc[(df_temp[\"cluster\"] == df_temp[\"cluster\"].unique()[list_b.argsort()[9]]) & (df_temp[\"subscribe_status\"] == \"SUBSCRIBE\")].sort_values(by = [\"last_connection_days\"]).count()[0]]\n",
        "\n",
        "fig = plt.figure(figsize = (21, 7))  \n",
        "X_axis = np.arange(len(name))\n",
        "plt.bar(X_axis - 0.2, valueA, 0.4, label = \"Unsubscribe\")\n",
        "plt.bar(X_axis + 0.2, valueB, 0.4, label = \"Subscribe\")\n",
        "  \n",
        "plt.xticks(X_axis, name)\n",
        "plt.xlabel(\"Last Connection Days Segmentation\")\n",
        "plt.title(\"Last Connection Days\")\n",
        "plt.legend()\n",
        "plt.show()"
      ],
      "execution_count": 16,
      "outputs": [
        {
          "output_type": "display_data",
          "data": {
            "image/png": "[encoded data removed]",
            "text/plain": [
              "<Figure size 1512x504 with 1 Axes>"
            ]
          },
          "metadata": {
            "needs_background": "light"
          }
        }
      ]
    },
    {
      "cell_type": "markdown",
      "metadata": {
        "id": "TOSz8LoHzau3"
      },
      "source": [
        "#### Payment Date Mean"
      ]
    },
    {
      "cell_type": "code",
      "metadata": {
        "id": "Jr50M03HyQBu",
        "colab": {
          "base_uri": "https://localhost:8080/",
          "height": 0
        },
        "outputId": "6226e2ac-52df-4ad0-e206-e017c355c237"
      },
      "source": [
        "from sklearn.cluster import KMeans\n",
        "\n",
        "X = df_temp[[\"billing_mean_paymentDate\"]].values\n",
        "kmeans = KMeans(n_clusters = 10, random_state = 42).fit(X)\n",
        "df_temp[\"cluster\"] = kmeans.labels_\n",
        "\n",
        "list_a = np.array([df_temp[[\"billing_mean_paymentDate\"]].loc[df_temp[\"cluster\"] == df_temp[\"cluster\"].unique()[0]].min()[0],\n",
        "                   df_temp[[\"billing_mean_paymentDate\"]].loc[df_temp[\"cluster\"] == df_temp[\"cluster\"].unique()[1]].min()[0],\n",
        "                   df_temp[[\"billing_mean_paymentDate\"]].loc[df_temp[\"cluster\"] == df_temp[\"cluster\"].unique()[2]].min()[0],\n",
        "                   df_temp[[\"billing_mean_paymentDate\"]].loc[df_temp[\"cluster\"] == df_temp[\"cluster\"].unique()[3]].min()[0],\n",
        "                   df_temp[[\"billing_mean_paymentDate\"]].loc[df_temp[\"cluster\"] == df_temp[\"cluster\"].unique()[4]].min()[0],\n",
        "                   df_temp[[\"billing_mean_paymentDate\"]].loc[df_temp[\"cluster\"] == df_temp[\"cluster\"].unique()[5]].min()[0],\n",
        "                   df_temp[[\"billing_mean_paymentDate\"]].loc[df_temp[\"cluster\"] == df_temp[\"cluster\"].unique()[6]].min()[0],\n",
        "                   df_temp[[\"billing_mean_paymentDate\"]].loc[df_temp[\"cluster\"] == df_temp[\"cluster\"].unique()[7]].min()[0],\n",
        "                   df_temp[[\"billing_mean_paymentDate\"]].loc[df_temp[\"cluster\"] == df_temp[\"cluster\"].unique()[8]].min()[0],\n",
        "                   df_temp[[\"billing_mean_paymentDate\"]].loc[df_temp[\"cluster\"] == df_temp[\"cluster\"].unique()[9]].min()[0]])\n",
        "list_b = np.array([df_temp[[\"billing_mean_paymentDate\"]].loc[df_temp[\"cluster\"] == df_temp[\"cluster\"].unique()[0]].max()[0],\n",
        "                   df_temp[[\"billing_mean_paymentDate\"]].loc[df_temp[\"cluster\"] == df_temp[\"cluster\"].unique()[1]].max()[0],\n",
        "                   df_temp[[\"billing_mean_paymentDate\"]].loc[df_temp[\"cluster\"] == df_temp[\"cluster\"].unique()[2]].max()[0],\n",
        "                   df_temp[[\"billing_mean_paymentDate\"]].loc[df_temp[\"cluster\"] == df_temp[\"cluster\"].unique()[3]].max()[0],\n",
        "                   df_temp[[\"billing_mean_paymentDate\"]].loc[df_temp[\"cluster\"] == df_temp[\"cluster\"].unique()[4]].max()[0],\n",
        "                   df_temp[[\"billing_mean_paymentDate\"]].loc[df_temp[\"cluster\"] == df_temp[\"cluster\"].unique()[5]].max()[0],\n",
        "                   df_temp[[\"billing_mean_paymentDate\"]].loc[df_temp[\"cluster\"] == df_temp[\"cluster\"].unique()[6]].max()[0],\n",
        "                   df_temp[[\"billing_mean_paymentDate\"]].loc[df_temp[\"cluster\"] == df_temp[\"cluster\"].unique()[7]].max()[0],\n",
        "                   df_temp[[\"billing_mean_paymentDate\"]].loc[df_temp[\"cluster\"] == df_temp[\"cluster\"].unique()[8]].max()[0],\n",
        "                   df_temp[[\"billing_mean_paymentDate\"]].loc[df_temp[\"cluster\"] == df_temp[\"cluster\"].unique()[9]].max()[0]])\n",
        "\n",
        "\n",
        "name = [\"{}-{}\".format(round(list_a[list_a.argsort()[0]]), round(list_b[list_b.argsort()[0]])),\n",
        "        \"{}-{}\".format(round(list_a[list_a.argsort()[1]]), round(list_b[list_b.argsort()[1]])),\n",
        "        \"{}-{}\".format(round(list_a[list_a.argsort()[2]]), round(list_b[list_b.argsort()[2]])),\n",
        "        \"{}-{}\".format(round(list_a[list_a.argsort()[3]]), round(list_b[list_b.argsort()[3]])),\n",
        "        \"{}-{}\".format(round(list_a[list_a.argsort()[4]]), round(list_b[list_b.argsort()[4]])),\n",
        "        \"{}-{}\".format(round(list_a[list_a.argsort()[5]]), round(list_b[list_b.argsort()[5]])),\n",
        "        \"{}-{}\".format(round(list_a[list_a.argsort()[6]]), round(list_b[list_b.argsort()[6]])),\n",
        "        \"{}-{}\".format(round(list_a[list_a.argsort()[7]]), round(list_b[list_b.argsort()[7]])),\n",
        "        \"{}-{}\".format(round(list_a[list_a.argsort()[8]]), round(list_b[list_b.argsort()[8]])),\n",
        "        \"{}-{}\".format(round(list_a[list_a.argsort()[9]]), round(list_b[list_b.argsort()[9]]))]\n",
        "\n",
        "valueA = [df_temp[[\"billing_mean_paymentDate\"]].loc[(df_temp[\"cluster\"] == df_temp[\"cluster\"].unique()[list_a.argsort()[0]]) & (df_temp[\"subscribe_status\"] == \"UNSUBSCRIBE\")].sort_values(by = [\"billing_mean_paymentDate\"]).count()[0],\n",
        "          df_temp[[\"billing_mean_paymentDate\"]].loc[(df_temp[\"cluster\"] == df_temp[\"cluster\"].unique()[list_a.argsort()[1]]) & (df_temp[\"subscribe_status\"] == \"UNSUBSCRIBE\")].sort_values(by = [\"billing_mean_paymentDate\"]).count()[0],\n",
        "          df_temp[[\"billing_mean_paymentDate\"]].loc[(df_temp[\"cluster\"] == df_temp[\"cluster\"].unique()[list_a.argsort()[2]]) & (df_temp[\"subscribe_status\"] == \"UNSUBSCRIBE\")].sort_values(by = [\"billing_mean_paymentDate\"]).count()[0],\n",
        "          df_temp[[\"billing_mean_paymentDate\"]].loc[(df_temp[\"cluster\"] == df_temp[\"cluster\"].unique()[list_a.argsort()[3]]) & (df_temp[\"subscribe_status\"] == \"UNSUBSCRIBE\")].sort_values(by = [\"billing_mean_paymentDate\"]).count()[0],\n",
        "          df_temp[[\"billing_mean_paymentDate\"]].loc[(df_temp[\"cluster\"] == df_temp[\"cluster\"].unique()[list_a.argsort()[4]]) & (df_temp[\"subscribe_status\"] == \"UNSUBSCRIBE\")].sort_values(by = [\"billing_mean_paymentDate\"]).count()[0],\n",
        "          df_temp[[\"billing_mean_paymentDate\"]].loc[(df_temp[\"cluster\"] == df_temp[\"cluster\"].unique()[list_a.argsort()[5]]) & (df_temp[\"subscribe_status\"] == \"UNSUBSCRIBE\")].sort_values(by = [\"billing_mean_paymentDate\"]).count()[0],\n",
        "          df_temp[[\"billing_mean_paymentDate\"]].loc[(df_temp[\"cluster\"] == df_temp[\"cluster\"].unique()[list_a.argsort()[6]]) & (df_temp[\"subscribe_status\"] == \"UNSUBSCRIBE\")].sort_values(by = [\"billing_mean_paymentDate\"]).count()[0],\n",
        "          df_temp[[\"billing_mean_paymentDate\"]].loc[(df_temp[\"cluster\"] == df_temp[\"cluster\"].unique()[list_a.argsort()[7]]) & (df_temp[\"subscribe_status\"] == \"UNSUBSCRIBE\")].sort_values(by = [\"billing_mean_paymentDate\"]).count()[0],\n",
        "          df_temp[[\"billing_mean_paymentDate\"]].loc[(df_temp[\"cluster\"] == df_temp[\"cluster\"].unique()[list_a.argsort()[8]]) & (df_temp[\"subscribe_status\"] == \"UNSUBSCRIBE\")].sort_values(by = [\"billing_mean_paymentDate\"]).count()[0],\n",
        "          df_temp[[\"billing_mean_paymentDate\"]].loc[(df_temp[\"cluster\"] == df_temp[\"cluster\"].unique()[list_a.argsort()[9]]) & (df_temp[\"subscribe_status\"] == \"UNSUBSCRIBE\")].sort_values(by = [\"billing_mean_paymentDate\"]).count()[0]]\n",
        "\n",
        "valueB = [df_temp[[\"billing_mean_paymentDate\"]].loc[(df_temp[\"cluster\"] == df_temp[\"cluster\"].unique()[list_b.argsort()[0]]) & (df_temp[\"subscribe_status\"] == \"SUBSCRIBE\")].sort_values(by = [\"billing_mean_paymentDate\"]).count()[0],\n",
        "          df_temp[[\"billing_mean_paymentDate\"]].loc[(df_temp[\"cluster\"] == df_temp[\"cluster\"].unique()[list_b.argsort()[1]]) & (df_temp[\"subscribe_status\"] == \"SUBSCRIBE\")].sort_values(by = [\"billing_mean_paymentDate\"]).count()[0],\n",
        "          df_temp[[\"billing_mean_paymentDate\"]].loc[(df_temp[\"cluster\"] == df_temp[\"cluster\"].unique()[list_b.argsort()[2]]) & (df_temp[\"subscribe_status\"] == \"SUBSCRIBE\")].sort_values(by = [\"billing_mean_paymentDate\"]).count()[0],\n",
        "          df_temp[[\"billing_mean_paymentDate\"]].loc[(df_temp[\"cluster\"] == df_temp[\"cluster\"].unique()[list_b.argsort()[3]]) & (df_temp[\"subscribe_status\"] == \"SUBSCRIBE\")].sort_values(by = [\"billing_mean_paymentDate\"]).count()[0],\n",
        "          df_temp[[\"billing_mean_paymentDate\"]].loc[(df_temp[\"cluster\"] == df_temp[\"cluster\"].unique()[list_b.argsort()[4]]) & (df_temp[\"subscribe_status\"] == \"SUBSCRIBE\")].sort_values(by = [\"billing_mean_paymentDate\"]).count()[0],\n",
        "          df_temp[[\"billing_mean_paymentDate\"]].loc[(df_temp[\"cluster\"] == df_temp[\"cluster\"].unique()[list_b.argsort()[5]]) & (df_temp[\"subscribe_status\"] == \"SUBSCRIBE\")].sort_values(by = [\"billing_mean_paymentDate\"]).count()[0],\n",
        "          df_temp[[\"billing_mean_paymentDate\"]].loc[(df_temp[\"cluster\"] == df_temp[\"cluster\"].unique()[list_b.argsort()[6]]) & (df_temp[\"subscribe_status\"] == \"SUBSCRIBE\")].sort_values(by = [\"billing_mean_paymentDate\"]).count()[0],\n",
        "          df_temp[[\"billing_mean_paymentDate\"]].loc[(df_temp[\"cluster\"] == df_temp[\"cluster\"].unique()[list_b.argsort()[7]]) & (df_temp[\"subscribe_status\"] == \"SUBSCRIBE\")].sort_values(by = [\"billing_mean_paymentDate\"]).count()[0],\n",
        "          df_temp[[\"billing_mean_paymentDate\"]].loc[(df_temp[\"cluster\"] == df_temp[\"cluster\"].unique()[list_b.argsort()[8]]) & (df_temp[\"subscribe_status\"] == \"SUBSCRIBE\")].sort_values(by = [\"billing_mean_paymentDate\"]).count()[0],\n",
        "          df_temp[[\"billing_mean_paymentDate\"]].loc[(df_temp[\"cluster\"] == df_temp[\"cluster\"].unique()[list_b.argsort()[9]]) & (df_temp[\"subscribe_status\"] == \"SUBSCRIBE\")].sort_values(by = [\"billing_mean_paymentDate\"]).count()[0]]\n",
        "\n",
        "fig = plt.figure(figsize = (21, 7))  \n",
        "X_axis = np.arange(len(name))\n",
        "plt.bar(X_axis - 0.2, valueA, 0.4, label = \"Unsubscribe\")\n",
        "plt.bar(X_axis + 0.2, valueB, 0.4, label = \"Subscribe\")\n",
        "  \n",
        "plt.xticks(X_axis, name)\n",
        "plt.xlabel(\"Payment Date Segmentation\")\n",
        "plt.title(\"Payment Date Mean\")\n",
        "plt.legend()\n",
        "plt.show()"
      ],
      "execution_count": 17,
      "outputs": [
        {
          "output_type": "display_data",
          "data": {
            "image/png": "[encoded data removed]",
            "text/plain": [
              "<Figure size 1512x504 with 1 Axes>"
            ]
          },
          "metadata": {
            "needs_background": "light"
          }
        }
      ]
    },
    {
      "cell_type": "markdown",
      "metadata": {
        "id": "fda2EEKG2YZv"
      },
      "source": [
        "#### Payment Date Std"
      ]
    },
    {
      "cell_type": "code",
      "metadata": {
        "id": "9g7CnyW42YZw",
        "colab": {
          "base_uri": "https://localhost:8080/",
          "height": 0
        },
        "outputId": "c613bf11-a0ad-487e-8309-ff5ab32338a8"
      },
      "source": [
        "from sklearn.cluster import KMeans\n",
        "\n",
        "X = df_temp[[\"billing_std_paymentDate\"]].values\n",
        "kmeans = KMeans(n_clusters = 10, random_state = 42).fit(X)\n",
        "df_temp[\"cluster\"] = kmeans.labels_\n",
        "\n",
        "list_a = np.array([df_temp[[\"billing_std_paymentDate\"]].loc[df_temp[\"cluster\"] == df_temp[\"cluster\"].unique()[0]].min()[0],\n",
        "                   df_temp[[\"billing_std_paymentDate\"]].loc[df_temp[\"cluster\"] == df_temp[\"cluster\"].unique()[1]].min()[0],\n",
        "                   df_temp[[\"billing_std_paymentDate\"]].loc[df_temp[\"cluster\"] == df_temp[\"cluster\"].unique()[2]].min()[0],\n",
        "                   df_temp[[\"billing_std_paymentDate\"]].loc[df_temp[\"cluster\"] == df_temp[\"cluster\"].unique()[3]].min()[0],\n",
        "                   df_temp[[\"billing_std_paymentDate\"]].loc[df_temp[\"cluster\"] == df_temp[\"cluster\"].unique()[4]].min()[0],\n",
        "                   df_temp[[\"billing_std_paymentDate\"]].loc[df_temp[\"cluster\"] == df_temp[\"cluster\"].unique()[5]].min()[0],\n",
        "                   df_temp[[\"billing_std_paymentDate\"]].loc[df_temp[\"cluster\"] == df_temp[\"cluster\"].unique()[6]].min()[0],\n",
        "                   df_temp[[\"billing_std_paymentDate\"]].loc[df_temp[\"cluster\"] == df_temp[\"cluster\"].unique()[7]].min()[0],\n",
        "                   df_temp[[\"billing_std_paymentDate\"]].loc[df_temp[\"cluster\"] == df_temp[\"cluster\"].unique()[8]].min()[0],\n",
        "                   df_temp[[\"billing_std_paymentDate\"]].loc[df_temp[\"cluster\"] == df_temp[\"cluster\"].unique()[9]].min()[0]])\n",
        "list_b = np.array([df_temp[[\"billing_std_paymentDate\"]].loc[df_temp[\"cluster\"] == df_temp[\"cluster\"].unique()[0]].max()[0],\n",
        "                   df_temp[[\"billing_std_paymentDate\"]].loc[df_temp[\"cluster\"] == df_temp[\"cluster\"].unique()[1]].max()[0],\n",
        "                   df_temp[[\"billing_std_paymentDate\"]].loc[df_temp[\"cluster\"] == df_temp[\"cluster\"].unique()[2]].max()[0],\n",
        "                   df_temp[[\"billing_std_paymentDate\"]].loc[df_temp[\"cluster\"] == df_temp[\"cluster\"].unique()[3]].max()[0],\n",
        "                   df_temp[[\"billing_std_paymentDate\"]].loc[df_temp[\"cluster\"] == df_temp[\"cluster\"].unique()[4]].max()[0],\n",
        "                   df_temp[[\"billing_std_paymentDate\"]].loc[df_temp[\"cluster\"] == df_temp[\"cluster\"].unique()[5]].max()[0],\n",
        "                   df_temp[[\"billing_std_paymentDate\"]].loc[df_temp[\"cluster\"] == df_temp[\"cluster\"].unique()[6]].max()[0],\n",
        "                   df_temp[[\"billing_std_paymentDate\"]].loc[df_temp[\"cluster\"] == df_temp[\"cluster\"].unique()[7]].max()[0],\n",
        "                   df_temp[[\"billing_std_paymentDate\"]].loc[df_temp[\"cluster\"] == df_temp[\"cluster\"].unique()[8]].max()[0],\n",
        "                   df_temp[[\"billing_std_paymentDate\"]].loc[df_temp[\"cluster\"] == df_temp[\"cluster\"].unique()[9]].max()[0]])\n",
        "\n",
        "\n",
        "name = [\"{}-{}\".format(round(list_a[list_a.argsort()[0]], 2), round(list_b[list_b.argsort()[0]], 2)),\n",
        "        \"{}-{}\".format(round(list_a[list_a.argsort()[1]], 2), round(list_b[list_b.argsort()[1]], 2)),\n",
        "        \"{}-{}\".format(round(list_a[list_a.argsort()[2]], 2), round(list_b[list_b.argsort()[2]], 2)),\n",
        "        \"{}-{}\".format(round(list_a[list_a.argsort()[3]], 2), round(list_b[list_b.argsort()[3]], 2)),\n",
        "        \"{}-{}\".format(round(list_a[list_a.argsort()[4]], 2), round(list_b[list_b.argsort()[4]], 2)),\n",
        "        \"{}-{}\".format(round(list_a[list_a.argsort()[5]], 2), round(list_b[list_b.argsort()[5]], 2)),\n",
        "        \"{}-{}\".format(round(list_a[list_a.argsort()[6]], 2), round(list_b[list_b.argsort()[6]], 2)),\n",
        "        \"{}-{}\".format(round(list_a[list_a.argsort()[7]], 2), round(list_b[list_b.argsort()[7]], 2)),\n",
        "        \"{}-{}\".format(round(list_a[list_a.argsort()[8]], 2), round(list_b[list_b.argsort()[8]], 2)),\n",
        "        \"{}-{}\".format(round(list_a[list_a.argsort()[9]], 2), round(list_b[list_b.argsort()[9]], 2))]\n",
        "\n",
        "valueA = [df_temp[[\"billing_std_paymentDate\"]].loc[(df_temp[\"cluster\"] == df_temp[\"cluster\"].unique()[list_a.argsort()[0]]) & (df_temp[\"subscribe_status\"] == \"UNSUBSCRIBE\")].sort_values(by = [\"billing_std_paymentDate\"]).count()[0],\n",
        "          df_temp[[\"billing_std_paymentDate\"]].loc[(df_temp[\"cluster\"] == df_temp[\"cluster\"].unique()[list_a.argsort()[1]]) & (df_temp[\"subscribe_status\"] == \"UNSUBSCRIBE\")].sort_values(by = [\"billing_std_paymentDate\"]).count()[0],\n",
        "          df_temp[[\"billing_std_paymentDate\"]].loc[(df_temp[\"cluster\"] == df_temp[\"cluster\"].unique()[list_a.argsort()[2]]) & (df_temp[\"subscribe_status\"] == \"UNSUBSCRIBE\")].sort_values(by = [\"billing_std_paymentDate\"]).count()[0],\n",
        "          df_temp[[\"billing_std_paymentDate\"]].loc[(df_temp[\"cluster\"] == df_temp[\"cluster\"].unique()[list_a.argsort()[3]]) & (df_temp[\"subscribe_status\"] == \"UNSUBSCRIBE\")].sort_values(by = [\"billing_std_paymentDate\"]).count()[0],\n",
        "          df_temp[[\"billing_std_paymentDate\"]].loc[(df_temp[\"cluster\"] == df_temp[\"cluster\"].unique()[list_a.argsort()[4]]) & (df_temp[\"subscribe_status\"] == \"UNSUBSCRIBE\")].sort_values(by = [\"billing_std_paymentDate\"]).count()[0],\n",
        "          df_temp[[\"billing_std_paymentDate\"]].loc[(df_temp[\"cluster\"] == df_temp[\"cluster\"].unique()[list_a.argsort()[5]]) & (df_temp[\"subscribe_status\"] == \"UNSUBSCRIBE\")].sort_values(by = [\"billing_std_paymentDate\"]).count()[0],\n",
        "          df_temp[[\"billing_std_paymentDate\"]].loc[(df_temp[\"cluster\"] == df_temp[\"cluster\"].unique()[list_a.argsort()[6]]) & (df_temp[\"subscribe_status\"] == \"UNSUBSCRIBE\")].sort_values(by = [\"billing_std_paymentDate\"]).count()[0],\n",
        "          df_temp[[\"billing_std_paymentDate\"]].loc[(df_temp[\"cluster\"] == df_temp[\"cluster\"].unique()[list_a.argsort()[7]]) & (df_temp[\"subscribe_status\"] == \"UNSUBSCRIBE\")].sort_values(by = [\"billing_std_paymentDate\"]).count()[0],\n",
        "          df_temp[[\"billing_std_paymentDate\"]].loc[(df_temp[\"cluster\"] == df_temp[\"cluster\"].unique()[list_a.argsort()[8]]) & (df_temp[\"subscribe_status\"] == \"UNSUBSCRIBE\")].sort_values(by = [\"billing_std_paymentDate\"]).count()[0],\n",
        "          df_temp[[\"billing_std_paymentDate\"]].loc[(df_temp[\"cluster\"] == df_temp[\"cluster\"].unique()[list_a.argsort()[9]]) & (df_temp[\"subscribe_status\"] == \"UNSUBSCRIBE\")].sort_values(by = [\"billing_std_paymentDate\"]).count()[0]]\n",
        "\n",
        "valueB = [df_temp[[\"billing_std_paymentDate\"]].loc[(df_temp[\"cluster\"] == df_temp[\"cluster\"].unique()[list_b.argsort()[0]]) & (df_temp[\"subscribe_status\"] == \"SUBSCRIBE\")].sort_values(by = [\"billing_std_paymentDate\"]).count()[0],\n",
        "          df_temp[[\"billing_std_paymentDate\"]].loc[(df_temp[\"cluster\"] == df_temp[\"cluster\"].unique()[list_b.argsort()[1]]) & (df_temp[\"subscribe_status\"] == \"SUBSCRIBE\")].sort_values(by = [\"billing_std_paymentDate\"]).count()[0],\n",
        "          df_temp[[\"billing_std_paymentDate\"]].loc[(df_temp[\"cluster\"] == df_temp[\"cluster\"].unique()[list_b.argsort()[2]]) & (df_temp[\"subscribe_status\"] == \"SUBSCRIBE\")].sort_values(by = [\"billing_std_paymentDate\"]).count()[0],\n",
        "          df_temp[[\"billing_std_paymentDate\"]].loc[(df_temp[\"cluster\"] == df_temp[\"cluster\"].unique()[list_b.argsort()[3]]) & (df_temp[\"subscribe_status\"] == \"SUBSCRIBE\")].sort_values(by = [\"billing_std_paymentDate\"]).count()[0],\n",
        "          df_temp[[\"billing_std_paymentDate\"]].loc[(df_temp[\"cluster\"] == df_temp[\"cluster\"].unique()[list_b.argsort()[4]]) & (df_temp[\"subscribe_status\"] == \"SUBSCRIBE\")].sort_values(by = [\"billing_std_paymentDate\"]).count()[0],\n",
        "          df_temp[[\"billing_std_paymentDate\"]].loc[(df_temp[\"cluster\"] == df_temp[\"cluster\"].unique()[list_b.argsort()[5]]) & (df_temp[\"subscribe_status\"] == \"SUBSCRIBE\")].sort_values(by = [\"billing_std_paymentDate\"]).count()[0],\n",
        "          df_temp[[\"billing_std_paymentDate\"]].loc[(df_temp[\"cluster\"] == df_temp[\"cluster\"].unique()[list_b.argsort()[6]]) & (df_temp[\"subscribe_status\"] == \"SUBSCRIBE\")].sort_values(by = [\"billing_std_paymentDate\"]).count()[0],\n",
        "          df_temp[[\"billing_std_paymentDate\"]].loc[(df_temp[\"cluster\"] == df_temp[\"cluster\"].unique()[list_b.argsort()[7]]) & (df_temp[\"subscribe_status\"] == \"SUBSCRIBE\")].sort_values(by = [\"billing_std_paymentDate\"]).count()[0],\n",
        "          df_temp[[\"billing_std_paymentDate\"]].loc[(df_temp[\"cluster\"] == df_temp[\"cluster\"].unique()[list_b.argsort()[8]]) & (df_temp[\"subscribe_status\"] == \"SUBSCRIBE\")].sort_values(by = [\"billing_std_paymentDate\"]).count()[0],\n",
        "          df_temp[[\"billing_std_paymentDate\"]].loc[(df_temp[\"cluster\"] == df_temp[\"cluster\"].unique()[list_b.argsort()[9]]) & (df_temp[\"subscribe_status\"] == \"SUBSCRIBE\")].sort_values(by = [\"billing_std_paymentDate\"]).count()[0]]\n",
        "\n",
        "fig = plt.figure(figsize = (21, 7))  \n",
        "X_axis = np.arange(len(name))\n",
        "plt.bar(X_axis - 0.2, valueA, 0.4, label = \"Unsubscribe\")\n",
        "plt.bar(X_axis + 0.2, valueB, 0.4, label = \"Subscribe\")\n",
        "  \n",
        "plt.xticks(X_axis, name)\n",
        "plt.xlabel(\"Payment Date Segmentation\")\n",
        "plt.title(\"Payment Date Std\")\n",
        "plt.legend()\n",
        "plt.show()"
      ],
      "execution_count": 18,
      "outputs": [
        {
          "output_type": "display_data",
          "data": {
            "image/png": "[encoded data removed]",
            "text/plain": [
              "<Figure size 1512x504 with 1 Axes>"
            ]
          },
          "metadata": {
            "needs_background": "light"
          }
        }
      ]
    },
    {
      "cell_type": "code",
      "metadata": {
        "id": "nJu7ox8sGRdK",
        "colab": {
          "base_uri": "https://localhost:8080/"
        },
        "outputId": "12b73404-f455-454e-b2b2-85132fe06163"
      },
      "source": [
        "print(\"TP : {} \".format(df_temp[[\"billing_std_paymentDate\"]].loc[(df_temp[\"subscribe_status\"] == \"UNSUBSCRIBE\") & (df_temp[\"billing_std_paymentDate\"] >= 7.6)].count()[0]))\n",
        "print(\"FP : {} \".format(df_temp[[\"billing_std_paymentDate\"]].loc[(df_temp[\"subscribe_status\"] == \"SUBSCRIBE\") & (df_temp[\"billing_std_paymentDate\"] >= 7.6)].count()[0]))\n",
        "\n",
        "print(\"TN : {} \".format(df_temp[[\"billing_std_paymentDate\"]].loc[(df_temp[\"subscribe_status\"] == \"SUBSCRIBE\") & (df_temp[\"billing_std_paymentDate\"] < 7.6)].count()[0]))\n",
        "print(\"FN : {} \".format(df_temp[[\"billing_std_paymentDate\"]].loc[(df_temp[\"subscribe_status\"] == \"UNSUBSCRIBE\") & (df_temp[\"billing_std_paymentDate\"] < 7.6)].count()[0]))\n",
        "\n",
        "TP = df_temp[[\"billing_std_paymentDate\"]].loc[(df_temp[\"subscribe_status\"] == \"UNSUBSCRIBE\") & (df_temp[\"billing_std_paymentDate\"] >= 7.6)].count()[0]\n",
        "FP = df_temp[[\"billing_std_paymentDate\"]].loc[(df_temp[\"subscribe_status\"] == \"SUBSCRIBE\") & (df_temp[\"billing_std_paymentDate\"] >= 7.6)].count()[0]\n",
        "FN = df_temp[[\"billing_std_paymentDate\"]].loc[(df_temp[\"subscribe_status\"] == \"UNSUBSCRIBE\") & (df_temp[\"billing_std_paymentDate\"] < 7.6)].count()[0]\n",
        "TN = df_temp[[\"billing_std_paymentDate\"]].loc[(df_temp[\"subscribe_status\"] == \"SUBSCRIBE\") & (df_temp[\"billing_std_paymentDate\"] < 7.6)].count()[0]\n",
        "\n",
        "print(\"Sensitivity : {} \".format((TN)/(TN+FP)))\n",
        "print(\"Recall : {} \".format((TP)/(TP+FN)))\n",
        "print(\"Precision : {} \".format((TP)/(TP+FP)))\n",
        "print(\"Accuracy : {} \".format((TP+TN)/(TP+FP+TN+FN)))"
      ],
      "execution_count": 19,
      "outputs": [
        {
          "output_type": "stream",
          "name": "stdout",
          "text": [
            "TP : 11768 \n",
            "FP : 7883 \n",
            "TN : 32384 \n",
            "FN : 23683 \n",
            "Sensitivity : 0.8042317530484019 \n",
            "Recall : 0.33195114383233193 \n",
            "Precision : 0.598849931301206 \n",
            "Accuracy : 0.5831110171953828 \n"
          ]
        }
      ]
    },
    {
      "cell_type": "markdown",
      "metadata": {
        "id": "jFvWiPj5hs9n"
      },
      "source": [
        "#### Payment Date Slope"
      ]
    },
    {
      "cell_type": "code",
      "metadata": {
        "colab": {
          "base_uri": "https://localhost:8080/",
          "height": 457
        },
        "id": "1Z4wu9BWhs9o",
        "outputId": "0cdee540-db79-43d8-8eb8-0f7dc2745685"
      },
      "source": [
        "from sklearn.cluster import KMeans\n",
        "\n",
        "X = df_temp[[\"billing_slope(3-1)_paymentDate\"]].values\n",
        "kmeans = KMeans(n_clusters = 5, random_state = 42).fit(X)\n",
        "df_temp[\"cluster\"] = kmeans.labels_\n",
        "\n",
        "list_a = np.array([df_temp[[\"billing_slope(3-1)_paymentDate\"]].loc[df_temp[\"cluster\"] == df_temp[\"cluster\"].unique()[0]].min()[0],\n",
        "                   df_temp[[\"billing_slope(3-1)_paymentDate\"]].loc[df_temp[\"cluster\"] == df_temp[\"cluster\"].unique()[1]].min()[0],\n",
        "                   df_temp[[\"billing_slope(3-1)_paymentDate\"]].loc[df_temp[\"cluster\"] == df_temp[\"cluster\"].unique()[2]].min()[0],\n",
        "                   df_temp[[\"billing_slope(3-1)_paymentDate\"]].loc[df_temp[\"cluster\"] == df_temp[\"cluster\"].unique()[3]].min()[0],\n",
        "                   df_temp[[\"billing_slope(3-1)_paymentDate\"]].loc[df_temp[\"cluster\"] == df_temp[\"cluster\"].unique()[4]].min()[0]])\n",
        "list_b = np.array([df_temp[[\"billing_slope(3-1)_paymentDate\"]].loc[df_temp[\"cluster\"] == df_temp[\"cluster\"].unique()[0]].max()[0],\n",
        "                   df_temp[[\"billing_slope(3-1)_paymentDate\"]].loc[df_temp[\"cluster\"] == df_temp[\"cluster\"].unique()[1]].max()[0],\n",
        "                   df_temp[[\"billing_slope(3-1)_paymentDate\"]].loc[df_temp[\"cluster\"] == df_temp[\"cluster\"].unique()[2]].max()[0],\n",
        "                   df_temp[[\"billing_slope(3-1)_paymentDate\"]].loc[df_temp[\"cluster\"] == df_temp[\"cluster\"].unique()[3]].max()[0],\n",
        "                   df_temp[[\"billing_slope(3-1)_paymentDate\"]].loc[df_temp[\"cluster\"] == df_temp[\"cluster\"].unique()[4]].max()[0]])\n",
        "\n",
        "\n",
        "name = [\"{}-{}\".format(round(list_a[list_a.argsort()[0]], 2), round(list_b[list_b.argsort()[0]], 2)),\n",
        "        \"{}-{}\".format(round(list_a[list_a.argsort()[1]], 2), round(list_b[list_b.argsort()[1]], 2)),\n",
        "        \"{}-{}\".format(round(list_a[list_a.argsort()[2]], 2), round(list_b[list_b.argsort()[2]], 2)),\n",
        "        \"{}-{}\".format(round(list_a[list_a.argsort()[3]], 2), round(list_b[list_b.argsort()[3]], 2)),\n",
        "        \"{}-{}\".format(round(list_a[list_a.argsort()[4]], 2), round(list_b[list_b.argsort()[4]], 2))]\n",
        "\n",
        "valueA = [df_temp[[\"billing_slope(3-1)_paymentDate\"]].loc[(df_temp[\"cluster\"] == df_temp[\"cluster\"].unique()[list_a.argsort()[0]]) & (df_temp[\"subscribe_status\"] == \"UNSUBSCRIBE\")].sort_values(by = [\"billing_slope(3-1)_paymentDate\"]).count()[0],\n",
        "          df_temp[[\"billing_slope(3-1)_paymentDate\"]].loc[(df_temp[\"cluster\"] == df_temp[\"cluster\"].unique()[list_a.argsort()[1]]) & (df_temp[\"subscribe_status\"] == \"UNSUBSCRIBE\")].sort_values(by = [\"billing_slope(3-1)_paymentDate\"]).count()[0],\n",
        "          df_temp[[\"billing_slope(3-1)_paymentDate\"]].loc[(df_temp[\"cluster\"] == df_temp[\"cluster\"].unique()[list_a.argsort()[2]]) & (df_temp[\"subscribe_status\"] == \"UNSUBSCRIBE\")].sort_values(by = [\"billing_slope(3-1)_paymentDate\"]).count()[0],\n",
        "          df_temp[[\"billing_slope(3-1)_paymentDate\"]].loc[(df_temp[\"cluster\"] == df_temp[\"cluster\"].unique()[list_a.argsort()[3]]) & (df_temp[\"subscribe_status\"] == \"UNSUBSCRIBE\")].sort_values(by = [\"billing_slope(3-1)_paymentDate\"]).count()[0],\n",
        "          df_temp[[\"billing_slope(3-1)_paymentDate\"]].loc[(df_temp[\"cluster\"] == df_temp[\"cluster\"].unique()[list_a.argsort()[4]]) & (df_temp[\"subscribe_status\"] == \"UNSUBSCRIBE\")].sort_values(by = [\"billing_slope(3-1)_paymentDate\"]).count()[0]]\n",
        "\n",
        "valueB = [df_temp[[\"billing_slope(3-1)_paymentDate\"]].loc[(df_temp[\"cluster\"] == df_temp[\"cluster\"].unique()[list_b.argsort()[0]]) & (df_temp[\"subscribe_status\"] == \"SUBSCRIBE\")].sort_values(by = [\"billing_slope(3-1)_paymentDate\"]).count()[0],\n",
        "          df_temp[[\"billing_slope(3-1)_paymentDate\"]].loc[(df_temp[\"cluster\"] == df_temp[\"cluster\"].unique()[list_b.argsort()[1]]) & (df_temp[\"subscribe_status\"] == \"SUBSCRIBE\")].sort_values(by = [\"billing_slope(3-1)_paymentDate\"]).count()[0],\n",
        "          df_temp[[\"billing_slope(3-1)_paymentDate\"]].loc[(df_temp[\"cluster\"] == df_temp[\"cluster\"].unique()[list_b.argsort()[2]]) & (df_temp[\"subscribe_status\"] == \"SUBSCRIBE\")].sort_values(by = [\"billing_slope(3-1)_paymentDate\"]).count()[0],\n",
        "          df_temp[[\"billing_slope(3-1)_paymentDate\"]].loc[(df_temp[\"cluster\"] == df_temp[\"cluster\"].unique()[list_b.argsort()[3]]) & (df_temp[\"subscribe_status\"] == \"SUBSCRIBE\")].sort_values(by = [\"billing_slope(3-1)_paymentDate\"]).count()[0],\n",
        "          df_temp[[\"billing_slope(3-1)_paymentDate\"]].loc[(df_temp[\"cluster\"] == df_temp[\"cluster\"].unique()[list_b.argsort()[4]]) & (df_temp[\"subscribe_status\"] == \"SUBSCRIBE\")].sort_values(by = [\"billing_slope(3-1)_paymentDate\"]).count()[0]]\n",
        "\n",
        "fig = plt.figure(figsize = (21, 7))  \n",
        "X_axis = np.arange(len(name))\n",
        "plt.bar(X_axis - 0.2, valueA, 0.4, label = \"Unsubscribe\")\n",
        "plt.bar(X_axis + 0.2, valueB, 0.4, label = \"Subscribe\")\n",
        "  \n",
        "plt.xticks(X_axis, name)\n",
        "plt.xlabel(\"Payment Date Segmentation\")\n",
        "plt.title(\"Payment Date Slope (3-1)\")\n",
        "plt.legend()\n",
        "plt.show()"
      ],
      "execution_count": 20,
      "outputs": [
        {
          "output_type": "display_data",
          "data": {
            "image/png": "[encoded data removed]",
            "text/plain": [
              "<Figure size 1512x504 with 1 Axes>"
            ]
          },
          "metadata": {
            "needs_background": "light"
          }
        }
      ]
    },
    {
      "cell_type": "code",
      "metadata": {
        "colab": {
          "base_uri": "https://localhost:8080/",
          "height": 457
        },
        "id": "0kmynX9ei5Mj",
        "outputId": "5f017f57-8225-498e-a242-90092d5c7947"
      },
      "source": [
        "from sklearn.cluster import KMeans\n",
        "\n",
        "X = df_temp[[\"billing_slope(4-2)_paymentDate\"]].values\n",
        "kmeans = KMeans(n_clusters = 5, random_state = 42).fit(X)\n",
        "df_temp[\"cluster\"] = kmeans.labels_\n",
        "\n",
        "list_a = np.array([df_temp[[\"billing_slope(4-2)_paymentDate\"]].loc[df_temp[\"cluster\"] == df_temp[\"cluster\"].unique()[0]].min()[0],\n",
        "                   df_temp[[\"billing_slope(4-2)_paymentDate\"]].loc[df_temp[\"cluster\"] == df_temp[\"cluster\"].unique()[1]].min()[0],\n",
        "                   df_temp[[\"billing_slope(4-2)_paymentDate\"]].loc[df_temp[\"cluster\"] == df_temp[\"cluster\"].unique()[2]].min()[0],\n",
        "                   df_temp[[\"billing_slope(4-2)_paymentDate\"]].loc[df_temp[\"cluster\"] == df_temp[\"cluster\"].unique()[3]].min()[0],\n",
        "                   df_temp[[\"billing_slope(4-2)_paymentDate\"]].loc[df_temp[\"cluster\"] == df_temp[\"cluster\"].unique()[4]].min()[0]])\n",
        "list_b = np.array([df_temp[[\"billing_slope(4-2)_paymentDate\"]].loc[df_temp[\"cluster\"] == df_temp[\"cluster\"].unique()[0]].max()[0],\n",
        "                   df_temp[[\"billing_slope(4-2)_paymentDate\"]].loc[df_temp[\"cluster\"] == df_temp[\"cluster\"].unique()[1]].max()[0],\n",
        "                   df_temp[[\"billing_slope(4-2)_paymentDate\"]].loc[df_temp[\"cluster\"] == df_temp[\"cluster\"].unique()[2]].max()[0],\n",
        "                   df_temp[[\"billing_slope(4-2)_paymentDate\"]].loc[df_temp[\"cluster\"] == df_temp[\"cluster\"].unique()[3]].max()[0],\n",
        "                   df_temp[[\"billing_slope(4-2)_paymentDate\"]].loc[df_temp[\"cluster\"] == df_temp[\"cluster\"].unique()[4]].max()[0]])\n",
        "\n",
        "\n",
        "name = [\"{}-{}\".format(round(list_a[list_a.argsort()[0]], 2), round(list_b[list_b.argsort()[0]], 2)),\n",
        "        \"{}-{}\".format(round(list_a[list_a.argsort()[1]], 2), round(list_b[list_b.argsort()[1]], 2)),\n",
        "        \"{}-{}\".format(round(list_a[list_a.argsort()[2]], 2), round(list_b[list_b.argsort()[2]], 2)),\n",
        "        \"{}-{}\".format(round(list_a[list_a.argsort()[3]], 2), round(list_b[list_b.argsort()[3]], 2)),\n",
        "        \"{}-{}\".format(round(list_a[list_a.argsort()[4]], 2), round(list_b[list_b.argsort()[4]], 2))]\n",
        "\n",
        "valueA = [df_temp[[\"billing_slope(4-2)_paymentDate\"]].loc[(df_temp[\"cluster\"] == df_temp[\"cluster\"].unique()[list_a.argsort()[0]]) & (df_temp[\"subscribe_status\"] == \"UNSUBSCRIBE\")].sort_values(by = [\"billing_slope(4-2)_paymentDate\"]).count()[0],\n",
        "          df_temp[[\"billing_slope(4-2)_paymentDate\"]].loc[(df_temp[\"cluster\"] == df_temp[\"cluster\"].unique()[list_a.argsort()[1]]) & (df_temp[\"subscribe_status\"] == \"UNSUBSCRIBE\")].sort_values(by = [\"billing_slope(4-2)_paymentDate\"]).count()[0],\n",
        "          df_temp[[\"billing_slope(4-2)_paymentDate\"]].loc[(df_temp[\"cluster\"] == df_temp[\"cluster\"].unique()[list_a.argsort()[2]]) & (df_temp[\"subscribe_status\"] == \"UNSUBSCRIBE\")].sort_values(by = [\"billing_slope(4-2)_paymentDate\"]).count()[0],\n",
        "          df_temp[[\"billing_slope(4-2)_paymentDate\"]].loc[(df_temp[\"cluster\"] == df_temp[\"cluster\"].unique()[list_a.argsort()[3]]) & (df_temp[\"subscribe_status\"] == \"UNSUBSCRIBE\")].sort_values(by = [\"billing_slope(4-2)_paymentDate\"]).count()[0],\n",
        "          df_temp[[\"billing_slope(4-2)_paymentDate\"]].loc[(df_temp[\"cluster\"] == df_temp[\"cluster\"].unique()[list_a.argsort()[4]]) & (df_temp[\"subscribe_status\"] == \"UNSUBSCRIBE\")].sort_values(by = [\"billing_slope(4-2)_paymentDate\"]).count()[0]]\n",
        "\n",
        "valueB = [df_temp[[\"billing_slope(4-2)_paymentDate\"]].loc[(df_temp[\"cluster\"] == df_temp[\"cluster\"].unique()[list_b.argsort()[0]]) & (df_temp[\"subscribe_status\"] == \"SUBSCRIBE\")].sort_values(by = [\"billing_slope(4-2)_paymentDate\"]).count()[0],\n",
        "          df_temp[[\"billing_slope(4-2)_paymentDate\"]].loc[(df_temp[\"cluster\"] == df_temp[\"cluster\"].unique()[list_b.argsort()[1]]) & (df_temp[\"subscribe_status\"] == \"SUBSCRIBE\")].sort_values(by = [\"billing_slope(4-2)_paymentDate\"]).count()[0],\n",
        "          df_temp[[\"billing_slope(4-2)_paymentDate\"]].loc[(df_temp[\"cluster\"] == df_temp[\"cluster\"].unique()[list_b.argsort()[2]]) & (df_temp[\"subscribe_status\"] == \"SUBSCRIBE\")].sort_values(by = [\"billing_slope(4-2)_paymentDate\"]).count()[0],\n",
        "          df_temp[[\"billing_slope(4-2)_paymentDate\"]].loc[(df_temp[\"cluster\"] == df_temp[\"cluster\"].unique()[list_b.argsort()[3]]) & (df_temp[\"subscribe_status\"] == \"SUBSCRIBE\")].sort_values(by = [\"billing_slope(4-2)_paymentDate\"]).count()[0],\n",
        "          df_temp[[\"billing_slope(4-2)_paymentDate\"]].loc[(df_temp[\"cluster\"] == df_temp[\"cluster\"].unique()[list_b.argsort()[4]]) & (df_temp[\"subscribe_status\"] == \"SUBSCRIBE\")].sort_values(by = [\"billing_slope(4-2)_paymentDate\"]).count()[0]]\n",
        "\n",
        "fig = plt.figure(figsize = (21, 7))  \n",
        "X_axis = np.arange(len(name))\n",
        "plt.bar(X_axis - 0.2, valueA, 0.4, label = \"Unsubscribe\")\n",
        "plt.bar(X_axis + 0.2, valueB, 0.4, label = \"Subscribe\")\n",
        "  \n",
        "plt.xticks(X_axis, name)\n",
        "plt.xlabel(\"Payment Date Segmentation\")\n",
        "plt.title(\"Payment Date Slope (4-2)\")\n",
        "plt.legend()\n",
        "plt.show()"
      ],
      "execution_count": 21,
      "outputs": [
        {
          "output_type": "display_data",
          "data": {
            "image/png": "[encoded data removed]",
            "text/plain": [
              "<Figure size 1512x504 with 1 Axes>"
            ]
          },
          "metadata": {
            "needs_background": "light"
          }
        }
      ]
    },
    {
      "cell_type": "markdown",
      "metadata": {
        "id": "dFK7t6GMzldE"
      },
      "source": [
        "#### Amount Total Mean"
      ]
    },
    {
      "cell_type": "code",
      "metadata": {
        "id": "BBq_Nuqvt3y5",
        "colab": {
          "base_uri": "https://localhost:8080/",
          "height": 457
        },
        "outputId": "3409f554-5a52-4424-a3b2-c4edd9af12f6"
      },
      "source": [
        "from sklearn.cluster import KMeans\n",
        "\n",
        "X = df_temp[[\"billing_mean_amountTotal\"]].values\n",
        "kmeans = KMeans(n_clusters = 10, random_state = 42).fit(X)\n",
        "df_temp[\"cluster\"] = kmeans.labels_\n",
        "\n",
        "list_a = np.array([df_temp[[\"billing_mean_amountTotal\"]].loc[df_temp[\"cluster\"] == df_temp[\"cluster\"].unique()[0]].min()[0],\n",
        "                   df_temp[[\"billing_mean_amountTotal\"]].loc[df_temp[\"cluster\"] == df_temp[\"cluster\"].unique()[1]].min()[0],\n",
        "                   df_temp[[\"billing_mean_amountTotal\"]].loc[df_temp[\"cluster\"] == df_temp[\"cluster\"].unique()[2]].min()[0],\n",
        "                   df_temp[[\"billing_mean_amountTotal\"]].loc[df_temp[\"cluster\"] == df_temp[\"cluster\"].unique()[3]].min()[0],\n",
        "                   df_temp[[\"billing_mean_amountTotal\"]].loc[df_temp[\"cluster\"] == df_temp[\"cluster\"].unique()[4]].min()[0],\n",
        "                   df_temp[[\"billing_mean_amountTotal\"]].loc[df_temp[\"cluster\"] == df_temp[\"cluster\"].unique()[5]].min()[0],\n",
        "                   df_temp[[\"billing_mean_amountTotal\"]].loc[df_temp[\"cluster\"] == df_temp[\"cluster\"].unique()[6]].min()[0],\n",
        "                   df_temp[[\"billing_mean_amountTotal\"]].loc[df_temp[\"cluster\"] == df_temp[\"cluster\"].unique()[7]].min()[0],\n",
        "                   df_temp[[\"billing_mean_amountTotal\"]].loc[df_temp[\"cluster\"] == df_temp[\"cluster\"].unique()[8]].min()[0],\n",
        "                   df_temp[[\"billing_mean_amountTotal\"]].loc[df_temp[\"cluster\"] == df_temp[\"cluster\"].unique()[9]].min()[0]])\n",
        "list_b = np.array([df_temp[[\"billing_mean_amountTotal\"]].loc[df_temp[\"cluster\"] == df_temp[\"cluster\"].unique()[0]].max()[0],\n",
        "                   df_temp[[\"billing_mean_amountTotal\"]].loc[df_temp[\"cluster\"] == df_temp[\"cluster\"].unique()[1]].max()[0],\n",
        "                   df_temp[[\"billing_mean_amountTotal\"]].loc[df_temp[\"cluster\"] == df_temp[\"cluster\"].unique()[2]].max()[0],\n",
        "                   df_temp[[\"billing_mean_amountTotal\"]].loc[df_temp[\"cluster\"] == df_temp[\"cluster\"].unique()[3]].max()[0],\n",
        "                   df_temp[[\"billing_mean_amountTotal\"]].loc[df_temp[\"cluster\"] == df_temp[\"cluster\"].unique()[4]].max()[0],\n",
        "                   df_temp[[\"billing_mean_amountTotal\"]].loc[df_temp[\"cluster\"] == df_temp[\"cluster\"].unique()[5]].max()[0],\n",
        "                   df_temp[[\"billing_mean_amountTotal\"]].loc[df_temp[\"cluster\"] == df_temp[\"cluster\"].unique()[6]].max()[0],\n",
        "                   df_temp[[\"billing_mean_amountTotal\"]].loc[df_temp[\"cluster\"] == df_temp[\"cluster\"].unique()[7]].max()[0],\n",
        "                   df_temp[[\"billing_mean_amountTotal\"]].loc[df_temp[\"cluster\"] == df_temp[\"cluster\"].unique()[8]].max()[0],\n",
        "                   df_temp[[\"billing_mean_amountTotal\"]].loc[df_temp[\"cluster\"] == df_temp[\"cluster\"].unique()[9]].max()[0]])\n",
        "\n",
        "\n",
        "name = [\"{}-{}\".format(round(list_a[list_a.argsort()[0]]), round(list_b[list_b.argsort()[0]])),\n",
        "        \"{}-{}\".format(round(list_a[list_a.argsort()[1]]), round(list_b[list_b.argsort()[1]])),\n",
        "        \"{}-{}\".format(round(list_a[list_a.argsort()[2]]), round(list_b[list_b.argsort()[2]])),\n",
        "        \"{}-{}\".format(round(list_a[list_a.argsort()[3]]), round(list_b[list_b.argsort()[3]])),\n",
        "        \"{}-{}\".format(round(list_a[list_a.argsort()[4]]), round(list_b[list_b.argsort()[4]])),\n",
        "        \"{}-{}\".format(round(list_a[list_a.argsort()[5]]), round(list_b[list_b.argsort()[5]])),\n",
        "        \"{}-{}\".format(round(list_a[list_a.argsort()[6]]), round(list_b[list_b.argsort()[6]])),\n",
        "        \"{}-{}\".format(round(list_a[list_a.argsort()[7]]), round(list_b[list_b.argsort()[7]])),\n",
        "        \"{}-{}\".format(round(list_a[list_a.argsort()[8]]), round(list_b[list_b.argsort()[8]])),\n",
        "        \"{}-{}\".format(round(list_a[list_a.argsort()[9]]), round(list_b[list_b.argsort()[9]]))]\n",
        "\n",
        "valueA = [df_temp[[\"billing_mean_amountTotal\"]].loc[(df_temp[\"cluster\"] == df_temp[\"cluster\"].unique()[list_a.argsort()[0]]) & (df_temp[\"subscribe_status\"] == \"UNSUBSCRIBE\")].sort_values(by = [\"billing_mean_amountTotal\"]).count()[0],\n",
        "          df_temp[[\"billing_mean_amountTotal\"]].loc[(df_temp[\"cluster\"] == df_temp[\"cluster\"].unique()[list_a.argsort()[1]]) & (df_temp[\"subscribe_status\"] == \"UNSUBSCRIBE\")].sort_values(by = [\"billing_mean_amountTotal\"]).count()[0],\n",
        "          df_temp[[\"billing_mean_amountTotal\"]].loc[(df_temp[\"cluster\"] == df_temp[\"cluster\"].unique()[list_a.argsort()[2]]) & (df_temp[\"subscribe_status\"] == \"UNSUBSCRIBE\")].sort_values(by = [\"billing_mean_amountTotal\"]).count()[0],\n",
        "          df_temp[[\"billing_mean_amountTotal\"]].loc[(df_temp[\"cluster\"] == df_temp[\"cluster\"].unique()[list_a.argsort()[3]]) & (df_temp[\"subscribe_status\"] == \"UNSUBSCRIBE\")].sort_values(by = [\"billing_mean_amountTotal\"]).count()[0],\n",
        "          df_temp[[\"billing_mean_amountTotal\"]].loc[(df_temp[\"cluster\"] == df_temp[\"cluster\"].unique()[list_a.argsort()[4]]) & (df_temp[\"subscribe_status\"] == \"UNSUBSCRIBE\")].sort_values(by = [\"billing_mean_amountTotal\"]).count()[0],\n",
        "          df_temp[[\"billing_mean_amountTotal\"]].loc[(df_temp[\"cluster\"] == df_temp[\"cluster\"].unique()[list_a.argsort()[5]]) & (df_temp[\"subscribe_status\"] == \"UNSUBSCRIBE\")].sort_values(by = [\"billing_mean_amountTotal\"]).count()[0],\n",
        "          df_temp[[\"billing_mean_amountTotal\"]].loc[(df_temp[\"cluster\"] == df_temp[\"cluster\"].unique()[list_a.argsort()[6]]) & (df_temp[\"subscribe_status\"] == \"UNSUBSCRIBE\")].sort_values(by = [\"billing_mean_amountTotal\"]).count()[0],\n",
        "          df_temp[[\"billing_mean_amountTotal\"]].loc[(df_temp[\"cluster\"] == df_temp[\"cluster\"].unique()[list_a.argsort()[7]]) & (df_temp[\"subscribe_status\"] == \"UNSUBSCRIBE\")].sort_values(by = [\"billing_mean_amountTotal\"]).count()[0],\n",
        "          df_temp[[\"billing_mean_amountTotal\"]].loc[(df_temp[\"cluster\"] == df_temp[\"cluster\"].unique()[list_a.argsort()[8]]) & (df_temp[\"subscribe_status\"] == \"UNSUBSCRIBE\")].sort_values(by = [\"billing_mean_amountTotal\"]).count()[0],\n",
        "          df_temp[[\"billing_mean_amountTotal\"]].loc[(df_temp[\"cluster\"] == df_temp[\"cluster\"].unique()[list_a.argsort()[9]]) & (df_temp[\"subscribe_status\"] == \"UNSUBSCRIBE\")].sort_values(by = [\"billing_mean_amountTotal\"]).count()[0]]\n",
        "\n",
        "valueB = [df_temp[[\"billing_mean_amountTotal\"]].loc[(df_temp[\"cluster\"] == df_temp[\"cluster\"].unique()[list_b.argsort()[0]]) & (df_temp[\"subscribe_status\"] == \"SUBSCRIBE\")].sort_values(by = [\"billing_mean_amountTotal\"]).count()[0],\n",
        "          df_temp[[\"billing_mean_amountTotal\"]].loc[(df_temp[\"cluster\"] == df_temp[\"cluster\"].unique()[list_b.argsort()[1]]) & (df_temp[\"subscribe_status\"] == \"SUBSCRIBE\")].sort_values(by = [\"billing_mean_amountTotal\"]).count()[0],\n",
        "          df_temp[[\"billing_mean_amountTotal\"]].loc[(df_temp[\"cluster\"] == df_temp[\"cluster\"].unique()[list_b.argsort()[2]]) & (df_temp[\"subscribe_status\"] == \"SUBSCRIBE\")].sort_values(by = [\"billing_mean_amountTotal\"]).count()[0],\n",
        "          df_temp[[\"billing_mean_amountTotal\"]].loc[(df_temp[\"cluster\"] == df_temp[\"cluster\"].unique()[list_b.argsort()[3]]) & (df_temp[\"subscribe_status\"] == \"SUBSCRIBE\")].sort_values(by = [\"billing_mean_amountTotal\"]).count()[0],\n",
        "          df_temp[[\"billing_mean_amountTotal\"]].loc[(df_temp[\"cluster\"] == df_temp[\"cluster\"].unique()[list_b.argsort()[4]]) & (df_temp[\"subscribe_status\"] == \"SUBSCRIBE\")].sort_values(by = [\"billing_mean_amountTotal\"]).count()[0],\n",
        "          df_temp[[\"billing_mean_amountTotal\"]].loc[(df_temp[\"cluster\"] == df_temp[\"cluster\"].unique()[list_b.argsort()[5]]) & (df_temp[\"subscribe_status\"] == \"SUBSCRIBE\")].sort_values(by = [\"billing_mean_amountTotal\"]).count()[0],\n",
        "          df_temp[[\"billing_mean_amountTotal\"]].loc[(df_temp[\"cluster\"] == df_temp[\"cluster\"].unique()[list_b.argsort()[6]]) & (df_temp[\"subscribe_status\"] == \"SUBSCRIBE\")].sort_values(by = [\"billing_mean_amountTotal\"]).count()[0],\n",
        "          df_temp[[\"billing_mean_amountTotal\"]].loc[(df_temp[\"cluster\"] == df_temp[\"cluster\"].unique()[list_b.argsort()[7]]) & (df_temp[\"subscribe_status\"] == \"SUBSCRIBE\")].sort_values(by = [\"billing_mean_amountTotal\"]).count()[0],\n",
        "          df_temp[[\"billing_mean_amountTotal\"]].loc[(df_temp[\"cluster\"] == df_temp[\"cluster\"].unique()[list_b.argsort()[8]]) & (df_temp[\"subscribe_status\"] == \"SUBSCRIBE\")].sort_values(by = [\"billing_mean_amountTotal\"]).count()[0],\n",
        "          df_temp[[\"billing_mean_amountTotal\"]].loc[(df_temp[\"cluster\"] == df_temp[\"cluster\"].unique()[list_b.argsort()[9]]) & (df_temp[\"subscribe_status\"] == \"SUBSCRIBE\")].sort_values(by = [\"billing_mean_amountTotal\"]).count()[0]]\n",
        "\n",
        "fig = plt.figure(figsize = (21, 7))  \n",
        "X_axis = np.arange(len(name))\n",
        "plt.bar(X_axis - 0.2, valueA, 0.4, label = \"Unsubscribe\")\n",
        "plt.bar(X_axis + 0.2, valueB, 0.4, label = \"Subscribe\")\n",
        "  \n",
        "plt.xticks(X_axis, name)\n",
        "plt.xlabel(\"Count Mean Segmentation\")\n",
        "plt.ylabel(\"AmountTotal\")\n",
        "plt.title(\"AmountTotal Mean\")\n",
        "plt.legend()\n",
        "plt.show()"
      ],
      "execution_count": 22,
      "outputs": [
        {
          "output_type": "display_data",
          "data": {
            "image/png": "[encoded data removed]",
            "text/plain": [
              "<Figure size 1512x504 with 1 Axes>"
            ]
          },
          "metadata": {
            "needs_background": "light"
          }
        }
      ]
    },
    {
      "cell_type": "markdown",
      "metadata": {
        "id": "E376Y9TzzpHs"
      },
      "source": [
        "#### Amount Total Std"
      ]
    },
    {
      "cell_type": "code",
      "metadata": {
        "id": "FRo8SmS6a6pg",
        "colab": {
          "base_uri": "https://localhost:8080/",
          "height": 0
        },
        "outputId": "ad2bece5-276b-491e-d6da-4353a9e56eb7"
      },
      "source": [
        "from sklearn.cluster import KMeans\n",
        "\n",
        "X = df_temp[[\"billing_std_amountTotal\"]].values\n",
        "kmeans = KMeans(n_clusters = 10, random_state = 42).fit(X)\n",
        "df_temp[\"cluster\"] = kmeans.labels_\n",
        "\n",
        "list_a = np.array([df_temp[[\"billing_std_amountTotal\"]].loc[df_temp[\"cluster\"] == df_temp[\"cluster\"].unique()[0]].min()[0],\n",
        "                   df_temp[[\"billing_std_amountTotal\"]].loc[df_temp[\"cluster\"] == df_temp[\"cluster\"].unique()[1]].min()[0],\n",
        "                   df_temp[[\"billing_std_amountTotal\"]].loc[df_temp[\"cluster\"] == df_temp[\"cluster\"].unique()[2]].min()[0],\n",
        "                   df_temp[[\"billing_std_amountTotal\"]].loc[df_temp[\"cluster\"] == df_temp[\"cluster\"].unique()[3]].min()[0],\n",
        "                   df_temp[[\"billing_std_amountTotal\"]].loc[df_temp[\"cluster\"] == df_temp[\"cluster\"].unique()[4]].min()[0],\n",
        "                   df_temp[[\"billing_std_amountTotal\"]].loc[df_temp[\"cluster\"] == df_temp[\"cluster\"].unique()[5]].min()[0],\n",
        "                   df_temp[[\"billing_std_amountTotal\"]].loc[df_temp[\"cluster\"] == df_temp[\"cluster\"].unique()[6]].min()[0],\n",
        "                   df_temp[[\"billing_std_amountTotal\"]].loc[df_temp[\"cluster\"] == df_temp[\"cluster\"].unique()[7]].min()[0],\n",
        "                   df_temp[[\"billing_std_amountTotal\"]].loc[df_temp[\"cluster\"] == df_temp[\"cluster\"].unique()[8]].min()[0],\n",
        "                   df_temp[[\"billing_std_amountTotal\"]].loc[df_temp[\"cluster\"] == df_temp[\"cluster\"].unique()[9]].min()[0]])\n",
        "list_b = np.array([df_temp[[\"billing_std_amountTotal\"]].loc[df_temp[\"cluster\"] == df_temp[\"cluster\"].unique()[0]].max()[0],\n",
        "                   df_temp[[\"billing_std_amountTotal\"]].loc[df_temp[\"cluster\"] == df_temp[\"cluster\"].unique()[1]].max()[0],\n",
        "                   df_temp[[\"billing_std_amountTotal\"]].loc[df_temp[\"cluster\"] == df_temp[\"cluster\"].unique()[2]].max()[0],\n",
        "                   df_temp[[\"billing_std_amountTotal\"]].loc[df_temp[\"cluster\"] == df_temp[\"cluster\"].unique()[3]].max()[0],\n",
        "                   df_temp[[\"billing_std_amountTotal\"]].loc[df_temp[\"cluster\"] == df_temp[\"cluster\"].unique()[4]].max()[0],\n",
        "                   df_temp[[\"billing_std_amountTotal\"]].loc[df_temp[\"cluster\"] == df_temp[\"cluster\"].unique()[5]].max()[0],\n",
        "                   df_temp[[\"billing_std_amountTotal\"]].loc[df_temp[\"cluster\"] == df_temp[\"cluster\"].unique()[6]].max()[0],\n",
        "                   df_temp[[\"billing_std_amountTotal\"]].loc[df_temp[\"cluster\"] == df_temp[\"cluster\"].unique()[7]].max()[0],\n",
        "                   df_temp[[\"billing_std_amountTotal\"]].loc[df_temp[\"cluster\"] == df_temp[\"cluster\"].unique()[8]].max()[0],\n",
        "                   df_temp[[\"billing_std_amountTotal\"]].loc[df_temp[\"cluster\"] == df_temp[\"cluster\"].unique()[9]].max()[0]])\n",
        "\n",
        "\n",
        "name = [\"{}-{}\".format(round(list_a[list_a.argsort()[0]]), round(list_b[list_b.argsort()[0]])),\n",
        "        \"{}-{}\".format(round(list_a[list_a.argsort()[1]]), round(list_b[list_b.argsort()[1]])),\n",
        "        \"{}-{}\".format(round(list_a[list_a.argsort()[2]]), round(list_b[list_b.argsort()[2]])),\n",
        "        \"{}-{}\".format(round(list_a[list_a.argsort()[3]]), round(list_b[list_b.argsort()[3]])),\n",
        "        \"{}-{}\".format(round(list_a[list_a.argsort()[4]]), round(list_b[list_b.argsort()[4]])),\n",
        "        \"{}-{}\".format(round(list_a[list_a.argsort()[5]]), round(list_b[list_b.argsort()[5]])),\n",
        "        \"{}-{}\".format(round(list_a[list_a.argsort()[6]]), round(list_b[list_b.argsort()[6]])),\n",
        "        \"{}-{}\".format(round(list_a[list_a.argsort()[7]]), round(list_b[list_b.argsort()[7]])),\n",
        "        \"{}-{}\".format(round(list_a[list_a.argsort()[8]]), round(list_b[list_b.argsort()[8]])),\n",
        "        \"{}-{}\".format(round(list_a[list_a.argsort()[9]]), round(list_b[list_b.argsort()[9]]))]\n",
        "\n",
        "valueA = [df_temp[[\"billing_std_amountTotal\"]].loc[(df_temp[\"cluster\"] == df_temp[\"cluster\"].unique()[list_a.argsort()[0]]) & (df_temp[\"subscribe_status\"] == \"UNSUBSCRIBE\")].sort_values(by = [\"billing_std_amountTotal\"]).count()[0],\n",
        "          df_temp[[\"billing_std_amountTotal\"]].loc[(df_temp[\"cluster\"] == df_temp[\"cluster\"].unique()[list_a.argsort()[1]]) & (df_temp[\"subscribe_status\"] == \"UNSUBSCRIBE\")].sort_values(by = [\"billing_std_amountTotal\"]).count()[0],\n",
        "          df_temp[[\"billing_std_amountTotal\"]].loc[(df_temp[\"cluster\"] == df_temp[\"cluster\"].unique()[list_a.argsort()[2]]) & (df_temp[\"subscribe_status\"] == \"UNSUBSCRIBE\")].sort_values(by = [\"billing_std_amountTotal\"]).count()[0],\n",
        "          df_temp[[\"billing_std_amountTotal\"]].loc[(df_temp[\"cluster\"] == df_temp[\"cluster\"].unique()[list_a.argsort()[3]]) & (df_temp[\"subscribe_status\"] == \"UNSUBSCRIBE\")].sort_values(by = [\"billing_std_amountTotal\"]).count()[0],\n",
        "          df_temp[[\"billing_std_amountTotal\"]].loc[(df_temp[\"cluster\"] == df_temp[\"cluster\"].unique()[list_a.argsort()[4]]) & (df_temp[\"subscribe_status\"] == \"UNSUBSCRIBE\")].sort_values(by = [\"billing_std_amountTotal\"]).count()[0],\n",
        "          df_temp[[\"billing_std_amountTotal\"]].loc[(df_temp[\"cluster\"] == df_temp[\"cluster\"].unique()[list_a.argsort()[5]]) & (df_temp[\"subscribe_status\"] == \"UNSUBSCRIBE\")].sort_values(by = [\"billing_std_amountTotal\"]).count()[0],\n",
        "          df_temp[[\"billing_std_amountTotal\"]].loc[(df_temp[\"cluster\"] == df_temp[\"cluster\"].unique()[list_a.argsort()[6]]) & (df_temp[\"subscribe_status\"] == \"UNSUBSCRIBE\")].sort_values(by = [\"billing_std_amountTotal\"]).count()[0],\n",
        "          df_temp[[\"billing_std_amountTotal\"]].loc[(df_temp[\"cluster\"] == df_temp[\"cluster\"].unique()[list_a.argsort()[7]]) & (df_temp[\"subscribe_status\"] == \"UNSUBSCRIBE\")].sort_values(by = [\"billing_std_amountTotal\"]).count()[0],\n",
        "          df_temp[[\"billing_std_amountTotal\"]].loc[(df_temp[\"cluster\"] == df_temp[\"cluster\"].unique()[list_a.argsort()[8]]) & (df_temp[\"subscribe_status\"] == \"UNSUBSCRIBE\")].sort_values(by = [\"billing_std_amountTotal\"]).count()[0],\n",
        "          df_temp[[\"billing_std_amountTotal\"]].loc[(df_temp[\"cluster\"] == df_temp[\"cluster\"].unique()[list_a.argsort()[9]]) & (df_temp[\"subscribe_status\"] == \"UNSUBSCRIBE\")].sort_values(by = [\"billing_std_amountTotal\"]).count()[0]]\n",
        "\n",
        "valueB = [df_temp[[\"billing_std_amountTotal\"]].loc[(df_temp[\"cluster\"] == df_temp[\"cluster\"].unique()[list_b.argsort()[0]]) & (df_temp[\"subscribe_status\"] == \"SUBSCRIBE\")].sort_values(by = [\"billing_std_amountTotal\"]).count()[0],\n",
        "          df_temp[[\"billing_std_amountTotal\"]].loc[(df_temp[\"cluster\"] == df_temp[\"cluster\"].unique()[list_b.argsort()[1]]) & (df_temp[\"subscribe_status\"] == \"SUBSCRIBE\")].sort_values(by = [\"billing_std_amountTotal\"]).count()[0],\n",
        "          df_temp[[\"billing_std_amountTotal\"]].loc[(df_temp[\"cluster\"] == df_temp[\"cluster\"].unique()[list_b.argsort()[2]]) & (df_temp[\"subscribe_status\"] == \"SUBSCRIBE\")].sort_values(by = [\"billing_std_amountTotal\"]).count()[0],\n",
        "          df_temp[[\"billing_std_amountTotal\"]].loc[(df_temp[\"cluster\"] == df_temp[\"cluster\"].unique()[list_b.argsort()[3]]) & (df_temp[\"subscribe_status\"] == \"SUBSCRIBE\")].sort_values(by = [\"billing_std_amountTotal\"]).count()[0],\n",
        "          df_temp[[\"billing_std_amountTotal\"]].loc[(df_temp[\"cluster\"] == df_temp[\"cluster\"].unique()[list_b.argsort()[4]]) & (df_temp[\"subscribe_status\"] == \"SUBSCRIBE\")].sort_values(by = [\"billing_std_amountTotal\"]).count()[0],\n",
        "          df_temp[[\"billing_std_amountTotal\"]].loc[(df_temp[\"cluster\"] == df_temp[\"cluster\"].unique()[list_b.argsort()[5]]) & (df_temp[\"subscribe_status\"] == \"SUBSCRIBE\")].sort_values(by = [\"billing_std_amountTotal\"]).count()[0],\n",
        "          df_temp[[\"billing_std_amountTotal\"]].loc[(df_temp[\"cluster\"] == df_temp[\"cluster\"].unique()[list_b.argsort()[6]]) & (df_temp[\"subscribe_status\"] == \"SUBSCRIBE\")].sort_values(by = [\"billing_std_amountTotal\"]).count()[0],\n",
        "          df_temp[[\"billing_std_amountTotal\"]].loc[(df_temp[\"cluster\"] == df_temp[\"cluster\"].unique()[list_b.argsort()[7]]) & (df_temp[\"subscribe_status\"] == \"SUBSCRIBE\")].sort_values(by = [\"billing_std_amountTotal\"]).count()[0],\n",
        "          df_temp[[\"billing_std_amountTotal\"]].loc[(df_temp[\"cluster\"] == df_temp[\"cluster\"].unique()[list_b.argsort()[8]]) & (df_temp[\"subscribe_status\"] == \"SUBSCRIBE\")].sort_values(by = [\"billing_std_amountTotal\"]).count()[0],\n",
        "          df_temp[[\"billing_std_amountTotal\"]].loc[(df_temp[\"cluster\"] == df_temp[\"cluster\"].unique()[list_b.argsort()[9]]) & (df_temp[\"subscribe_status\"] == \"SUBSCRIBE\")].sort_values(by = [\"billing_std_amountTotal\"]).count()[0]]\n",
        "\n",
        "fig = plt.figure(figsize = (21, 7))\n",
        "X_axis = np.arange(len(name))\n",
        "plt.bar(X_axis - 0.2, valueA, 0.4, label = \"Unsubscribe\")\n",
        "plt.bar(X_axis + 0.2, valueB, 0.4, label = \"Subscribe\")\n",
        "  \n",
        "plt.xticks(X_axis, name)\n",
        "plt.xlabel(\"Count STD Segmentation\")\n",
        "plt.ylabel(\"AmountTotal\")\n",
        "plt.title(\"AmountTotal STD\")\n",
        "plt.legend()\n",
        "plt.show()"
      ],
      "execution_count": 23,
      "outputs": [
        {
          "output_type": "display_data",
          "data": {
            "image/png": "[encoded data removed]",
            "text/plain": [
              "<Figure size 1512x504 with 1 Axes>"
            ]
          },
          "metadata": {
            "needs_background": "light"
          }
        }
      ]
    },
    {
      "cell_type": "markdown",
      "metadata": {
        "id": "UALJnmQbjlvB"
      },
      "source": [
        "#### Amount Total Slope"
      ]
    },
    {
      "cell_type": "code",
      "metadata": {
        "colab": {
          "base_uri": "https://localhost:8080/",
          "height": 0
        },
        "id": "_IozvfsZjlvC",
        "outputId": "b05461be-0625-4eed-b0bf-d49d416c9700"
      },
      "source": [
        "from sklearn.cluster import KMeans\n",
        "\n",
        "X = df_temp[[\"billing_slope(3-1)_amountTotal\"]].values\n",
        "kmeans = KMeans(n_clusters = 5, random_state = 42).fit(X)\n",
        "df_temp[\"cluster\"] = kmeans.labels_\n",
        "\n",
        "list_a = np.array([df_temp[[\"billing_slope(3-1)_amountTotal\"]].loc[df_temp[\"cluster\"] == df_temp[\"cluster\"].unique()[0]].min()[0],\n",
        "                   df_temp[[\"billing_slope(3-1)_amountTotal\"]].loc[df_temp[\"cluster\"] == df_temp[\"cluster\"].unique()[1]].min()[0],\n",
        "                   df_temp[[\"billing_slope(3-1)_amountTotal\"]].loc[df_temp[\"cluster\"] == df_temp[\"cluster\"].unique()[2]].min()[0],\n",
        "                   df_temp[[\"billing_slope(3-1)_amountTotal\"]].loc[df_temp[\"cluster\"] == df_temp[\"cluster\"].unique()[3]].min()[0],\n",
        "                   df_temp[[\"billing_slope(3-1)_amountTotal\"]].loc[df_temp[\"cluster\"] == df_temp[\"cluster\"].unique()[4]].min()[0]])\n",
        "list_b = np.array([df_temp[[\"billing_slope(3-1)_amountTotal\"]].loc[df_temp[\"cluster\"] == df_temp[\"cluster\"].unique()[0]].max()[0],\n",
        "                   df_temp[[\"billing_slope(3-1)_amountTotal\"]].loc[df_temp[\"cluster\"] == df_temp[\"cluster\"].unique()[1]].max()[0],\n",
        "                   df_temp[[\"billing_slope(3-1)_amountTotal\"]].loc[df_temp[\"cluster\"] == df_temp[\"cluster\"].unique()[2]].max()[0],\n",
        "                   df_temp[[\"billing_slope(3-1)_amountTotal\"]].loc[df_temp[\"cluster\"] == df_temp[\"cluster\"].unique()[3]].max()[0],\n",
        "                   df_temp[[\"billing_slope(3-1)_amountTotal\"]].loc[df_temp[\"cluster\"] == df_temp[\"cluster\"].unique()[4]].max()[0]])\n",
        "\n",
        "\n",
        "name = [\"{}-{}\".format(round(list_a[list_a.argsort()[0]], 2), round(list_b[list_b.argsort()[0]], 2)),\n",
        "        \"{}-{}\".format(round(list_a[list_a.argsort()[1]], 2), round(list_b[list_b.argsort()[1]], 2)),\n",
        "        \"{}-{}\".format(round(list_a[list_a.argsort()[2]], 2), round(list_b[list_b.argsort()[2]], 2)),\n",
        "        \"{}-{}\".format(round(list_a[list_a.argsort()[3]], 2), round(list_b[list_b.argsort()[3]], 2)),\n",
        "        \"{}-{}\".format(round(list_a[list_a.argsort()[4]], 2), round(list_b[list_b.argsort()[4]], 2))]\n",
        "\n",
        "valueA = [df_temp[[\"billing_slope(3-1)_amountTotal\"]].loc[(df_temp[\"cluster\"] == df_temp[\"cluster\"].unique()[list_a.argsort()[0]]) & (df_temp[\"subscribe_status\"] == \"UNSUBSCRIBE\")].sort_values(by = [\"billing_slope(3-1)_amountTotal\"]).count()[0],\n",
        "          df_temp[[\"billing_slope(3-1)_amountTotal\"]].loc[(df_temp[\"cluster\"] == df_temp[\"cluster\"].unique()[list_a.argsort()[1]]) & (df_temp[\"subscribe_status\"] == \"UNSUBSCRIBE\")].sort_values(by = [\"billing_slope(3-1)_amountTotal\"]).count()[0],\n",
        "          df_temp[[\"billing_slope(3-1)_amountTotal\"]].loc[(df_temp[\"cluster\"] == df_temp[\"cluster\"].unique()[list_a.argsort()[2]]) & (df_temp[\"subscribe_status\"] == \"UNSUBSCRIBE\")].sort_values(by = [\"billing_slope(3-1)_amountTotal\"]).count()[0],\n",
        "          df_temp[[\"billing_slope(3-1)_amountTotal\"]].loc[(df_temp[\"cluster\"] == df_temp[\"cluster\"].unique()[list_a.argsort()[3]]) & (df_temp[\"subscribe_status\"] == \"UNSUBSCRIBE\")].sort_values(by = [\"billing_slope(3-1)_amountTotal\"]).count()[0],\n",
        "          df_temp[[\"billing_slope(3-1)_amountTotal\"]].loc[(df_temp[\"cluster\"] == df_temp[\"cluster\"].unique()[list_a.argsort()[4]]) & (df_temp[\"subscribe_status\"] == \"UNSUBSCRIBE\")].sort_values(by = [\"billing_slope(3-1)_amountTotal\"]).count()[0]]\n",
        "\n",
        "valueB = [df_temp[[\"billing_slope(3-1)_amountTotal\"]].loc[(df_temp[\"cluster\"] == df_temp[\"cluster\"].unique()[list_b.argsort()[0]]) & (df_temp[\"subscribe_status\"] == \"SUBSCRIBE\")].sort_values(by = [\"billing_slope(3-1)_amountTotal\"]).count()[0],\n",
        "          df_temp[[\"billing_slope(3-1)_amountTotal\"]].loc[(df_temp[\"cluster\"] == df_temp[\"cluster\"].unique()[list_b.argsort()[1]]) & (df_temp[\"subscribe_status\"] == \"SUBSCRIBE\")].sort_values(by = [\"billing_slope(3-1)_amountTotal\"]).count()[0],\n",
        "          df_temp[[\"billing_slope(3-1)_amountTotal\"]].loc[(df_temp[\"cluster\"] == df_temp[\"cluster\"].unique()[list_b.argsort()[2]]) & (df_temp[\"subscribe_status\"] == \"SUBSCRIBE\")].sort_values(by = [\"billing_slope(3-1)_amountTotal\"]).count()[0],\n",
        "          df_temp[[\"billing_slope(3-1)_amountTotal\"]].loc[(df_temp[\"cluster\"] == df_temp[\"cluster\"].unique()[list_b.argsort()[3]]) & (df_temp[\"subscribe_status\"] == \"SUBSCRIBE\")].sort_values(by = [\"billing_slope(3-1)_amountTotal\"]).count()[0],\n",
        "          df_temp[[\"billing_slope(3-1)_amountTotal\"]].loc[(df_temp[\"cluster\"] == df_temp[\"cluster\"].unique()[list_b.argsort()[4]]) & (df_temp[\"subscribe_status\"] == \"SUBSCRIBE\")].sort_values(by = [\"billing_slope(3-1)_amountTotal\"]).count()[0]]\n",
        "\n",
        "fig = plt.figure(figsize = (21, 7))  \n",
        "X_axis = np.arange(len(name))\n",
        "plt.bar(X_axis - 0.2, valueA, 0.4, label = \"Unsubscribe\")\n",
        "plt.bar(X_axis + 0.2, valueB, 0.4, label = \"Subscribe\")\n",
        "  \n",
        "plt.xticks(X_axis, name)\n",
        "plt.xlabel(\"Amount Total Segmentation\")\n",
        "plt.title(\"Amount Total Slope (3-1)\")\n",
        "plt.legend()\n",
        "plt.show()"
      ],
      "execution_count": 24,
      "outputs": [
        {
          "output_type": "display_data",
          "data": {
            "image/png": "[encoded data removed]",
            "text/plain": [
              "<Figure size 1512x504 with 1 Axes>"
            ]
          },
          "metadata": {
            "needs_background": "light"
          }
        }
      ]
    },
    {
      "cell_type": "code",
      "metadata": {
        "colab": {
          "base_uri": "https://localhost:8080/",
          "height": 0
        },
        "id": "wxlPwArkjlvD",
        "outputId": "11ca3609-e284-414a-8b65-1860ab5e693f"
      },
      "source": [
        "from sklearn.cluster import KMeans\n",
        "\n",
        "X = df_temp[[\"billing_slope(4-2)_amountTotal\"]].values\n",
        "kmeans = KMeans(n_clusters = 5, random_state = 42).fit(X)\n",
        "df_temp[\"cluster\"] = kmeans.labels_\n",
        "\n",
        "list_a = np.array([df_temp[[\"billing_slope(4-2)_amountTotal\"]].loc[df_temp[\"cluster\"] == df_temp[\"cluster\"].unique()[0]].min()[0],\n",
        "                   df_temp[[\"billing_slope(4-2)_amountTotal\"]].loc[df_temp[\"cluster\"] == df_temp[\"cluster\"].unique()[1]].min()[0],\n",
        "                   df_temp[[\"billing_slope(4-2)_amountTotal\"]].loc[df_temp[\"cluster\"] == df_temp[\"cluster\"].unique()[2]].min()[0],\n",
        "                   df_temp[[\"billing_slope(4-2)_amountTotal\"]].loc[df_temp[\"cluster\"] == df_temp[\"cluster\"].unique()[3]].min()[0],\n",
        "                   df_temp[[\"billing_slope(4-2)_amountTotal\"]].loc[df_temp[\"cluster\"] == df_temp[\"cluster\"].unique()[4]].min()[0]])\n",
        "list_b = np.array([df_temp[[\"billing_slope(4-2)_amountTotal\"]].loc[df_temp[\"cluster\"] == df_temp[\"cluster\"].unique()[0]].max()[0],\n",
        "                   df_temp[[\"billing_slope(4-2)_amountTotal\"]].loc[df_temp[\"cluster\"] == df_temp[\"cluster\"].unique()[1]].max()[0],\n",
        "                   df_temp[[\"billing_slope(4-2)_amountTotal\"]].loc[df_temp[\"cluster\"] == df_temp[\"cluster\"].unique()[2]].max()[0],\n",
        "                   df_temp[[\"billing_slope(4-2)_amountTotal\"]].loc[df_temp[\"cluster\"] == df_temp[\"cluster\"].unique()[3]].max()[0],\n",
        "                   df_temp[[\"billing_slope(4-2)_amountTotal\"]].loc[df_temp[\"cluster\"] == df_temp[\"cluster\"].unique()[4]].max()[0]])\n",
        "\n",
        "\n",
        "name = [\"{}-{}\".format(round(list_a[list_a.argsort()[0]], 2), round(list_b[list_b.argsort()[0]], 2)),\n",
        "        \"{}-{}\".format(round(list_a[list_a.argsort()[1]], 2), round(list_b[list_b.argsort()[1]], 2)),\n",
        "        \"{}-{}\".format(round(list_a[list_a.argsort()[2]], 2), round(list_b[list_b.argsort()[2]], 2)),\n",
        "        \"{}-{}\".format(round(list_a[list_a.argsort()[3]], 2), round(list_b[list_b.argsort()[3]], 2)),\n",
        "        \"{}-{}\".format(round(list_a[list_a.argsort()[4]], 2), round(list_b[list_b.argsort()[4]], 2))]\n",
        "\n",
        "valueA = [df_temp[[\"billing_slope(4-2)_amountTotal\"]].loc[(df_temp[\"cluster\"] == df_temp[\"cluster\"].unique()[list_a.argsort()[0]]) & (df_temp[\"subscribe_status\"] == \"UNSUBSCRIBE\")].sort_values(by = [\"billing_slope(4-2)_amountTotal\"]).count()[0],\n",
        "          df_temp[[\"billing_slope(4-2)_amountTotal\"]].loc[(df_temp[\"cluster\"] == df_temp[\"cluster\"].unique()[list_a.argsort()[1]]) & (df_temp[\"subscribe_status\"] == \"UNSUBSCRIBE\")].sort_values(by = [\"billing_slope(4-2)_amountTotal\"]).count()[0],\n",
        "          df_temp[[\"billing_slope(4-2)_amountTotal\"]].loc[(df_temp[\"cluster\"] == df_temp[\"cluster\"].unique()[list_a.argsort()[2]]) & (df_temp[\"subscribe_status\"] == \"UNSUBSCRIBE\")].sort_values(by = [\"billing_slope(4-2)_amountTotal\"]).count()[0],\n",
        "          df_temp[[\"billing_slope(4-2)_amountTotal\"]].loc[(df_temp[\"cluster\"] == df_temp[\"cluster\"].unique()[list_a.argsort()[3]]) & (df_temp[\"subscribe_status\"] == \"UNSUBSCRIBE\")].sort_values(by = [\"billing_slope(4-2)_amountTotal\"]).count()[0],\n",
        "          df_temp[[\"billing_slope(4-2)_amountTotal\"]].loc[(df_temp[\"cluster\"] == df_temp[\"cluster\"].unique()[list_a.argsort()[4]]) & (df_temp[\"subscribe_status\"] == \"UNSUBSCRIBE\")].sort_values(by = [\"billing_slope(4-2)_amountTotal\"]).count()[0]]\n",
        "\n",
        "valueB = [df_temp[[\"billing_slope(4-2)_amountTotal\"]].loc[(df_temp[\"cluster\"] == df_temp[\"cluster\"].unique()[list_b.argsort()[0]]) & (df_temp[\"subscribe_status\"] == \"SUBSCRIBE\")].sort_values(by = [\"billing_slope(4-2)_amountTotal\"]).count()[0],\n",
        "          df_temp[[\"billing_slope(4-2)_amountTotal\"]].loc[(df_temp[\"cluster\"] == df_temp[\"cluster\"].unique()[list_b.argsort()[1]]) & (df_temp[\"subscribe_status\"] == \"SUBSCRIBE\")].sort_values(by = [\"billing_slope(4-2)_amountTotal\"]).count()[0],\n",
        "          df_temp[[\"billing_slope(4-2)_amountTotal\"]].loc[(df_temp[\"cluster\"] == df_temp[\"cluster\"].unique()[list_b.argsort()[2]]) & (df_temp[\"subscribe_status\"] == \"SUBSCRIBE\")].sort_values(by = [\"billing_slope(4-2)_amountTotal\"]).count()[0],\n",
        "          df_temp[[\"billing_slope(4-2)_amountTotal\"]].loc[(df_temp[\"cluster\"] == df_temp[\"cluster\"].unique()[list_b.argsort()[3]]) & (df_temp[\"subscribe_status\"] == \"SUBSCRIBE\")].sort_values(by = [\"billing_slope(4-2)_amountTotal\"]).count()[0],\n",
        "          df_temp[[\"billing_slope(4-2)_amountTotal\"]].loc[(df_temp[\"cluster\"] == df_temp[\"cluster\"].unique()[list_b.argsort()[4]]) & (df_temp[\"subscribe_status\"] == \"SUBSCRIBE\")].sort_values(by = [\"billing_slope(4-2)_amountTotal\"]).count()[0]]\n",
        "\n",
        "fig = plt.figure(figsize = (21, 7))  \n",
        "X_axis = np.arange(len(name))\n",
        "plt.bar(X_axis - 0.2, valueA, 0.4, label = \"Unsubscribe\")\n",
        "plt.bar(X_axis + 0.2, valueB, 0.4, label = \"Subscribe\")\n",
        "  \n",
        "plt.xticks(X_axis, name)\n",
        "plt.xlabel(\"Amount Total Segmentation\")\n",
        "plt.title(\"Amount Total Slope (4-2)\")\n",
        "plt.legend()\n",
        "plt.show()"
      ],
      "execution_count": 25,
      "outputs": [
        {
          "output_type": "display_data",
          "data": {
            "image/png": "[encoded data removed]",
            "text/plain": [
              "<Figure size 1512x504 with 1 Axes>"
            ]
          },
          "metadata": {
            "needs_background": "light"
          }
        }
      ]
    },
    {
      "cell_type": "markdown",
      "metadata": {
        "id": "u20bC0bPr6vH"
      },
      "source": [
        "#### Paket"
      ]
    },
    {
      "cell_type": "code",
      "metadata": {
        "id": "ASTpsZWmr9Yj",
        "colab": {
          "base_uri": "https://localhost:8080/",
          "height": 443
        },
        "outputId": "10130980-ab0f-4469-dd05-7058a2552d33"
      },
      "source": [
        "count_unsubs = []\n",
        "count_subs = []\n",
        "name = df_temp[\"gladius.paketradius\"].unique()\n",
        "for i in range(name.shape[0]):\n",
        "    count_unsubs.append(df_temp[[\"gladius.paketradius\"]].loc[(df_temp[\"subscribe_status\"] == \"UNSUBSCRIBE\") & (df_temp[\"gladius.paketradius\"] == name[i])].count()[0])\n",
        "    count_subs.append(df_temp[[\"gladius.paketradius\"]].loc[(df_temp[\"subscribe_status\"] == \"SUBSCRIBE\") & (df_temp[\"gladius.paketradius\"] == name[i])].count()[0])\n",
        "count_unsubs = np.array(count_unsubs)\n",
        "count_subs = np.array(count_subs)\n",
        "count_unsubs_new = []\n",
        "count_subs_new = []\n",
        "name_new = []\n",
        "for i in range(count_unsubs.shape[0]):\n",
        "    if abs(count_unsubs[i] - count_subs[i]) >= (0.25 * max(count_unsubs[i], count_subs[i])):\n",
        "        count_unsubs_new.append(count_unsubs[i])\n",
        "        count_subs_new.append(count_subs[i])\n",
        "        name_new.append(name[i])\n",
        "\n",
        "list_data = {\"count_unsubs\" : count_unsubs_new,\n",
        "             \"count_subs\" : count_subs_new,\n",
        "             \"name\" : name_new}\n",
        "df_bar = pd.DataFrame(list_data).sort_values([\"count_subs\", \"count_unsubs\"], ascending = [False, False])\n",
        "\n",
        "fig = plt.figure(figsize = (14, 7))\n",
        "#X_axis = np.arange(df_bar.count()[0])\n",
        "X_axis = np.arange(1)\n",
        "plt.bar(X_axis - 0.2, df_bar[\"count_unsubs\"].values[0], 0.4, label = \"Unsubscribe\")\n",
        "plt.bar(X_axis + 0.2, df_bar[\"count_subs\"].values[0], 0.4, label = \"Subscribe\")\n",
        "  \n",
        "plt.xticks(X_axis, df_bar[\"name\"].values[0])\n",
        "plt.title(\"Paket\")\n",
        "plt.legend()\n",
        "plt.show()"
      ],
      "execution_count": 26,
      "outputs": [
        {
          "output_type": "display_data",
          "data": {
            "image/png": "[encoded data removed]",
            "text/plain": [
              "<Figure size 1008x504 with 1 Axes>"
            ]
          },
          "metadata": {
            "needs_background": "light"
          }
        }
      ]
    },
    {
      "cell_type": "code",
      "metadata": {
        "id": "ChWhdSmtC3uI",
        "colab": {
          "base_uri": "https://localhost:8080/",
          "height": 443
        },
        "outputId": "b7d47446-1450-4ca2-9800-307b2fb448aa"
      },
      "source": [
        "count_unsubs = np.array(count_unsubs)\n",
        "count_subs = np.array(count_subs)\n",
        "count_unsubs_new = []\n",
        "count_subs_new = []\n",
        "name_new = []\n",
        "for i in range(count_unsubs.shape[0]):\n",
        "    if abs(count_unsubs[i] - count_subs[i]) >= (0.25 * max(count_unsubs[i], count_subs[i])):\n",
        "        count_unsubs_new.append(count_unsubs[i])\n",
        "        count_subs_new.append(count_subs[i])\n",
        "        name_new.append(name[i])\n",
        "\n",
        "list_data = {\"count_unsubs\" : count_unsubs_new,\n",
        "             \"count_subs\" : count_subs_new,\n",
        "             \"name\" : name_new}\n",
        "df_bar = pd.DataFrame(list_data).sort_values([\"count_unsubs\", \"count_subs\"], ascending = [False, False])\n",
        "\n",
        "fig = plt.figure(figsize = (21, 7))\n",
        "#X_axis = np.arange(df_bar.count()[0])\n",
        "X_axis = np.arange(14)\n",
        "plt.bar(X_axis - 0.2, df_bar[\"count_unsubs\"].values[1:15], 0.4, label = \"Unsubscribe\")\n",
        "plt.bar(X_axis + 0.2, df_bar[\"count_subs\"].values[1:15], 0.4, label = \"Subscribe\")\n",
        "  \n",
        "plt.xticks(X_axis, df_bar[\"name\"].values[1:15])\n",
        "plt.title(\"Paket\")\n",
        "plt.legend()\n",
        "plt.show()"
      ],
      "execution_count": 27,
      "outputs": [
        {
          "output_type": "display_data",
          "data": {
            "image/png": "[encoded data removed]",
            "text/plain": [
              "<Figure size 1512x504 with 1 Axes>"
            ]
          },
          "metadata": {
            "needs_background": "light"
          }
        }
      ]
    },
    {
      "cell_type": "code",
      "metadata": {
        "id": "iBPKPYfBBy5w",
        "colab": {
          "base_uri": "https://localhost:8080/",
          "height": 443
        },
        "outputId": "13680e13-84cd-4395-e27f-56ba45295799"
      },
      "source": [
        "fig = plt.figure(figsize = (21, 7))\n",
        "#X_axis = np.arange(df_bar.count()[0])\n",
        "X_axis = np.arange(15)\n",
        "plt.bar(X_axis - 0.2, df_bar[\"count_unsubs\"].values[15:30], 0.4, label = \"Unsubscribe\")\n",
        "plt.bar(X_axis + 0.2, df_bar[\"count_subs\"].values[15:30], 0.4, label = \"Subscribe\")\n",
        "  \n",
        "plt.xticks(X_axis, df_bar[\"name\"].values[15:30])\n",
        "plt.title(\"Paket\")\n",
        "plt.legend()\n",
        "plt.show()"
      ],
      "execution_count": 28,
      "outputs": [
        {
          "output_type": "display_data",
          "data": {
            "image/png": "[encoded data removed]",
            "text/plain": [
              "<Figure size 1512x504 with 1 Axes>"
            ]
          },
          "metadata": {
            "needs_background": "light"
          }
        }
      ]
    },
    {
      "cell_type": "code",
      "metadata": {
        "id": "XFuK-LboCF1Z",
        "colab": {
          "base_uri": "https://localhost:8080/",
          "height": 443
        },
        "outputId": "3068e455-0a22-4dfa-c26b-9ccfa4bdc71a"
      },
      "source": [
        "fig = plt.figure(figsize = (21, 7))\n",
        "#X_axis = np.arange(df_bar.count()[0])\n",
        "X_axis = np.arange(15)\n",
        "plt.bar(X_axis - 0.2, df_bar[\"count_unsubs\"].values[30:45], 0.4, label = \"Unsubscribe\")\n",
        "plt.bar(X_axis + 0.2, df_bar[\"count_subs\"].values[30:45], 0.4, label = \"Subscribe\")\n",
        "  \n",
        "plt.xticks(X_axis, df_bar[\"name\"].values[30:45])\n",
        "plt.title(\"Paket\")\n",
        "plt.legend()\n",
        "plt.show()"
      ],
      "execution_count": 29,
      "outputs": [
        {
          "output_type": "display_data",
          "data": {
            "image/png": "[encoded data removed]",
            "text/plain": [
              "<Figure size 1512x504 with 1 Axes>"
            ]
          },
          "metadata": {
            "needs_background": "light"
          }
        }
      ]
    },
    {
      "cell_type": "code",
      "metadata": {
        "id": "EvVflhQUCKV6",
        "colab": {
          "base_uri": "https://localhost:8080/",
          "height": 445
        },
        "outputId": "ed17192e-90df-4996-9157-ae2701183d6b"
      },
      "source": [
        "fig = plt.figure(figsize = (21, 7))\n",
        "#X_axis = np.arange(df_bar.count()[0])\n",
        "X_axis = np.arange(15)\n",
        "plt.bar(X_axis - 0.2, df_bar[\"count_unsubs\"].values[45:60], 0.4, label = \"Unsubscribe\")\n",
        "plt.bar(X_axis + 0.2, df_bar[\"count_subs\"].values[45:60], 0.4, label = \"Subscribe\")\n",
        "  \n",
        "plt.xticks(X_axis, df_bar[\"name\"].values[45:60])\n",
        "plt.title(\"Paket\")\n",
        "plt.legend()\n",
        "plt.show()"
      ],
      "execution_count": 30,
      "outputs": [
        {
          "output_type": "display_data",
          "data": {
            "image/png": "[encoded data removed]",
            "text/plain": [
              "<Figure size 1512x504 with 1 Axes>"
            ]
          },
          "metadata": {
            "needs_background": "light"
          }
        }
      ]
    },
    {
      "cell_type": "code",
      "metadata": {
        "id": "TeYZk7yZCMbp",
        "colab": {
          "base_uri": "https://localhost:8080/",
          "height": 443
        },
        "outputId": "95d92e9d-2dd7-429e-cffe-91beb00694c3"
      },
      "source": [
        "fig = plt.figure(figsize = (21, 7))\n",
        "#X_axis = np.arange(df_bar.count()[0])\n",
        "X_axis = np.arange(4)\n",
        "plt.bar(X_axis - 0.2, df_bar[\"count_unsubs\"].values[60:], 0.4, label = \"Unsubscribe\")\n",
        "plt.bar(X_axis + 0.2, df_bar[\"count_subs\"].values[60:], 0.4, label = \"Subscribe\")\n",
        "  \n",
        "plt.xticks(X_axis, df_bar[\"name\"].values[60:])\n",
        "plt.title(\"Paket\")\n",
        "plt.legend()\n",
        "plt.show()"
      ],
      "execution_count": 31,
      "outputs": [
        {
          "output_type": "display_data",
          "data": {
            "image/png": "[encoded data removed]",
            "text/plain": [
              "<Figure size 1512x504 with 1 Axes>"
            ]
          },
          "metadata": {
            "needs_background": "light"
          }
        }
      ]
    },
    {
      "cell_type": "markdown",
      "metadata": {
        "id": "-zId-SQKgEpF"
      },
      "source": [
        "# Modelling"
      ]
    },
    {
      "cell_type": "markdown",
      "metadata": {
        "id": "R6k2Sj3PabQJ"
      },
      "source": [
        "## Predict Next Month Still Subcsribe or Not (billing 11-2)"
      ]
    },
    {
      "cell_type": "code",
      "metadata": {
        "id": "a9sjkt7vcJ93"
      },
      "source": [
        "df_temp = df.copy()\n",
        "df_temp.loc[(df_temp[\"billing_1_status\"] == \"CT0\") | (df_temp[\"billing_1_status\"] == \"ZERO BILLING\") | ((df_temp[\"billing_2_status\"] == \"UNPAID\") & (df_temp[\"billing_1_status\"] == \"UNPAID\")), \"subscribe_status\"] = \"UNSUBSCRIBE\"\n",
        "df_temp[\"subscribe_status\"] = df_temp[\"subscribe_status\"].fillna(\"SUBSCRIBE\")\n",
        "df_temp.head()"
      ],
      "execution_count": null,
      "outputs": []
    },
    {
      "cell_type": "code",
      "metadata": {
        "colab": {
          "base_uri": "https://localhost:8080/",
          "height": 427
        },
        "id": "tX1VI1o3cQ9G",
        "outputId": "0756f229-b53e-469f-e8b9-1ef4cbde35af"
      },
      "source": [
        "witel_count = [df_temp.loc[df_temp[\"subscribe_status\"] == df_temp[\"subscribe_status\"].unique()[i]].count()[0] for i in range(len(df_temp[\"subscribe_status\"].unique()))]\n",
        "witel_name = df_temp[\"subscribe_status\"].unique()\n",
        "plt.figure(figsize = (12, 6), dpi = 80)\n",
        "plt.bar(witel_name, witel_count)\n",
        "plt.xlabel(\"Subscribe Status\", fontweight = \"bold\")\n",
        "plt.show()"
      ],
      "execution_count": null,
      "outputs": [
        {
          "output_type": "display_data",
          "data": {
            "image/png": "[encoded data removed]",
            "text/plain": [
              "<Figure size 960x480 with 1 Axes>"
            ]
          },
          "metadata": {
            "needs_background": "light"
          }
        }
      ]
    },
    {
      "cell_type": "code",
      "metadata": {
        "colab": {
          "base_uri": "https://localhost:8080/",
          "height": 427
        },
        "id": "fruTsQGWdH2j",
        "outputId": "aba9495c-e555-4e0c-cf49-0139e47a109a"
      },
      "source": [
        "witel_count = [df.loc[((df[\"billing_1_status\"] != \"CT0\") & (df[\"billing_1_status\"] != \"ZERO BILLING\")) & (df[\"billing_2_status\"] == df[\"billing_2_status\"].unique()[i])].count()[0] for i in range(len(df[\"billing_2_status\"].unique()))]\n",
        "witel_name = df[\"billing_2_status\"].unique()\n",
        "plt.figure(figsize = (12, 6), dpi = 80)\n",
        "plt.bar(witel_name, witel_count)\n",
        "plt.xlabel(\"Billing 2 Status (Subsribe)\", fontweight = \"bold\")\n",
        "plt.show()"
      ],
      "execution_count": null,
      "outputs": [
        {
          "output_type": "display_data",
          "data": {
            "image/png": "[encoded data removed]",
            "text/plain": [
              "<Figure size 960x480 with 1 Axes>"
            ]
          },
          "metadata": {
            "needs_background": "light"
          }
        }
      ]
    },
    {
      "cell_type": "code",
      "metadata": {
        "colab": {
          "base_uri": "https://localhost:8080/",
          "height": 427
        },
        "id": "xUGqKsuget1q",
        "outputId": "37acb13d-a29f-4e04-e29f-1b584e71d97b"
      },
      "source": [
        "witel_count = [df.loc[((df[\"billing_1_status\"] == \"CT0\") | (df[\"billing_1_status\"] == \"ZERO BILLING\")) & (df[\"billing_2_status\"] == df[\"billing_2_status\"].unique()[i])].count()[0] for i in range(len(df[\"billing_2_status\"].unique()))]\n",
        "witel_name = df[\"billing_2_status\"].unique()\n",
        "plt.figure(figsize = (12, 6), dpi = 80)\n",
        "plt.bar(witel_name, witel_count)\n",
        "plt.xlabel(\"Billing 2 Status (Unsubsribe)\", fontweight = \"bold\")\n",
        "plt.show()"
      ],
      "execution_count": null,
      "outputs": [
        {
          "output_type": "display_data",
          "data": {
            "image/png": "[encoded data removed]",
            "text/plain": [
              "<Figure size 960x480 with 1 Axes>"
            ]
          },
          "metadata": {
            "needs_background": "light"
          }
        }
      ]
    },
    {
      "cell_type": "code",
      "metadata": {
        "colab": {
          "base_uri": "https://localhost:8080/"
        },
        "id": "1nX7yyGec5Nv",
        "outputId": "3c6fb015-3b5e-46c2-a56f-c4c045ec77ac"
      },
      "source": [
        "from sklearn.compose import ColumnTransformer\n",
        "from sklearn.preprocessing import OneHotEncoder\n",
        "\n",
        "df_temp = df.copy()\n",
        "df_temp.loc[(df_temp[\"billing_1_status\"] == \"CT0\") | (df_temp[\"billing_1_status\"] == \"ZERO BILLING\") | ((df_temp[\"billing_2_status\"] == \"UNPAID\") & (df_temp[\"billing_1_status\"] == \"UNPAID\")), \"subscribe_status\"] = \"UNSUBSCRIBE\"\n",
        "df_temp[\"subscribe_status\"] = df_temp[\"subscribe_status\"].fillna(\"SUBSCRIBE\")\n",
        "for month in [2, 3, 4, 5, 6, 7, 8, 9, 10, 11]:\n",
        "    df_temp[[\"billing_{}_status\".format(month)]] = df_temp[\"billing_{}_status\".format(month)].apply(lambda x: 0 if x == \"ZERO BILLING\" else (1 if x == \"UNPAID\" else 2))\n",
        "dat1 = df_temp[[\"billing_11_amountTotal\",\n",
        "                \"billing_10_amountTotal\",\n",
        "                \"billing_9_amountTotal\",\n",
        "                \"billing_8_amountTotal\",\n",
        "                \"billing_7_amountTotal\",\n",
        "                \"billing_6_amountTotal\",\n",
        "                \"billing_5_amountTotal\",\n",
        "                \"billing_4_amountTotal\",\n",
        "                \"billing_3_amountTotal\",\n",
        "                \"billing_2_amountTotal\"]].values\n",
        "dat2 = df_temp[[\"billing_11_status\",\n",
        "                \"billing_10_status\",\n",
        "                \"billing_9_status\",\n",
        "                \"billing_8_status\",\n",
        "                \"billing_7_status\",\n",
        "                \"billing_6_status\",\n",
        "                \"billing_5_status\",\n",
        "                \"billing_4_status\",\n",
        "                \"billing_3_status\",\n",
        "                \"billing_2_status\"]].values\n",
        "dat3 = df_temp[[\"billing_11_paymentDate\",\n",
        "                \"billing_10_paymentDate\",\n",
        "                \"billing_9_paymentDate\",\n",
        "                \"billing_8_paymentDate\",\n",
        "                \"billing_7_paymentDate\",\n",
        "                \"billing_6_paymentDate\",\n",
        "                \"billing_5_paymentDate\",\n",
        "                \"billing_4_paymentDate\",\n",
        "                \"billing_3_paymentDate\",\n",
        "                \"billing_2_paymentDate\"]].values\n",
        "\n",
        "y = df_temp[\"subscribe_status\"].apply(lambda x: 0 if x == \"UNSUBSCRIBE\" else 1).values\n",
        "\n",
        "data = []\n",
        "for i in range(dat1.shape[0]):\n",
        "    b = []\n",
        "    for j in range(dat1.shape[1]):\n",
        "        c = []\n",
        "        c.append(dat1[i][j])\n",
        "        c.append(dat2[i][j])\n",
        "        c.append(dat3[i][j])\n",
        "        c.append(y[i])\n",
        "        b.append(c)\n",
        "    data.append(b)\n",
        "data = np.array(data)\n",
        "\n",
        "print(data)\n",
        "print(y)"
      ],
      "execution_count": null,
      "outputs": [
        {
          "output_type": "stream",
          "name": "stdout",
          "text": [
            "[[[3.44000e+05 2.00000e+00 1.70000e+01 1.00000e+00]\n",
            "  [3.41000e+05 2.00000e+00 1.50000e+01 1.00000e+00]\n",
            "  [3.41000e+05 2.00000e+00 1.60000e+01 1.00000e+00]\n",
            "  ...\n",
            "  [3.41000e+05 2.00000e+00 1.30000e+01 1.00000e+00]\n",
            "  [3.41000e+05 2.00000e+00 1.90000e+01 1.00000e+00]\n",
            "  [3.41000e+05 2.00000e+00 1.80000e+01 1.00000e+00]]\n",
            "\n",
            " [[3.27500e+05 2.00000e+00 1.70000e+01 0.00000e+00]\n",
            "  [3.24500e+05 2.00000e+00 1.70000e+01 0.00000e+00]\n",
            "  [3.24500e+05 2.00000e+00 1.80000e+01 0.00000e+00]\n",
            "  ...\n",
            "  [3.24500e+05 2.00000e+00 1.90000e+01 0.00000e+00]\n",
            "  [3.24500e+05 2.00000e+00 2.10000e+01 0.00000e+00]\n",
            "  [0.00000e+00 1.00000e+00 0.00000e+00 0.00000e+00]]\n",
            "\n",
            " [[1.45145e+05 2.00000e+00 8.00000e+00 0.00000e+00]\n",
            "  [1.46355e+05 2.00000e+00 5.00000e+00 0.00000e+00]\n",
            "  [1.43385e+05 2.00000e+00 5.00000e+00 0.00000e+00]\n",
            "  ...\n",
            "  [1.43385e+05 2.00000e+00 5.00000e+00 0.00000e+00]\n",
            "  [1.43385e+05 2.00000e+00 5.00000e+00 0.00000e+00]\n",
            "  [0.00000e+00 1.00000e+00 0.00000e+00 0.00000e+00]]\n",
            "\n",
            " ...\n",
            "\n",
            " [[0.00000e+00 0.00000e+00 0.00000e+00 1.00000e+00]\n",
            "  [0.00000e+00 0.00000e+00 0.00000e+00 1.00000e+00]\n",
            "  [0.00000e+00 0.00000e+00 0.00000e+00 1.00000e+00]\n",
            "  ...\n",
            "  [3.78350e+05 2.00000e+00 2.50000e+01 1.00000e+00]\n",
            "  [3.94800e+05 2.00000e+00 9.00000e+00 1.00000e+00]\n",
            "  [3.61900e+05 2.00000e+00 8.00000e+00 1.00000e+00]]\n",
            "\n",
            " [[0.00000e+00 0.00000e+00 0.00000e+00 1.00000e+00]\n",
            "  [0.00000e+00 0.00000e+00 0.00000e+00 1.00000e+00]\n",
            "  [0.00000e+00 0.00000e+00 0.00000e+00 1.00000e+00]\n",
            "  ...\n",
            "  [3.61900e+05 2.00000e+00 3.00000e+00 1.00000e+00]\n",
            "  [3.61900e+05 2.00000e+00 3.00000e+00 1.00000e+00]\n",
            "  [3.61900e+05 2.00000e+00 1.30000e+01 1.00000e+00]]\n",
            "\n",
            " [[0.00000e+00 0.00000e+00 0.00000e+00 0.00000e+00]\n",
            "  [0.00000e+00 0.00000e+00 0.00000e+00 0.00000e+00]\n",
            "  [0.00000e+00 0.00000e+00 0.00000e+00 0.00000e+00]\n",
            "  ...\n",
            "  [2.70250e+05 2.00000e+00 2.10000e+01 0.00000e+00]\n",
            "  [2.58500e+05 2.00000e+00 2.10000e+01 0.00000e+00]\n",
            "  [0.00000e+00 1.00000e+00 0.00000e+00 0.00000e+00]]]\n",
            "[1 0 0 ... 1 1 0]\n"
          ]
        }
      ]
    },
    {
      "cell_type": "code",
      "metadata": {
        "colab": {
          "base_uri": "https://localhost:8080/"
        },
        "id": "GCO2_Dj30rKK",
        "outputId": "1993632a-9b5c-4e07-f554-fb4336b4c1f1"
      },
      "source": [
        "from imblearn.over_sampling import RandomOverSampler\n",
        "\n",
        "ros = RandomOverSampler(random_state = 42)\n",
        "data, temp = ros.fit_resample(np.reshape(data, (data.shape[0], -1)), np.reshape(df_temp[[\"billing_2_status\"]].values, df_temp[[\"billing_2_status\"]].values.shape[0]))\n",
        "data = np.reshape(data, (data.shape[0], 10, 4))\n",
        "y = data[:, :, 3][:, 0].astype(int)\n",
        "data = data[:, :, 0:3]"
      ],
      "execution_count": null,
      "outputs": [
        {
          "output_type": "stream",
          "name": "stderr",
          "text": [
            "/usr/local/lib/python3.7/dist-packages/sklearn/externals/six.py:31: FutureWarning: The module is deprecated in version 0.21 and will be removed in version 0.23 since we've dropped support for Python 2.7. Please rely on the official version of six (https://pypi.org/project/six/).\n",
            "  \"(https://pypi.org/project/six/).\", FutureWarning)\n",
            "/usr/local/lib/python3.7/dist-packages/sklearn/utils/deprecation.py:144: FutureWarning: The sklearn.neighbors.base module is  deprecated in version 0.22 and will be removed in version 0.24. The corresponding classes / functions should instead be imported from sklearn.neighbors. Anything that cannot be imported from sklearn.neighbors is now part of the private API.\n",
            "  warnings.warn(message, FutureWarning)\n",
            "/usr/local/lib/python3.7/dist-packages/sklearn/utils/deprecation.py:87: FutureWarning: Function safe_indexing is deprecated; safe_indexing is deprecated in version 0.22 and will be removed in version 0.24.\n",
            "  warnings.warn(msg, category=FutureWarning)\n"
          ]
        }
      ]
    },
    {
      "cell_type": "code",
      "metadata": {
        "colab": {
          "base_uri": "https://localhost:8080/",
          "height": 83
        },
        "id": "SuVhO4oP5OST",
        "outputId": "77cae01d-104a-418c-e6d4-7c77f0b2697b"
      },
      "source": [
        "'''\n",
        "from imblearn.over_sampling import RandomOverSampler\n",
        "\n",
        "ros = RandomOverSampler(random_state = 42)\n",
        "data, temp = ros.fit_resample(np.reshape(data, (data.shape[0], -1)), np.reshape(df_temp[[\"billing_3_status\"]].values, df_temp[[\"billing_3_status\"]].values.shape[0]))\n",
        "y, temp = ros.fit_resample(np.reshape(y, (y.shape[0], -1)), np.reshape(df_temp[[\"billing_3_status\"]].values, df_temp[[\"billing_3_status\"]].values.shape[0]))\n",
        "data = np.reshape(data, (data.shape[0], 10, 3))\n",
        "y = np.reshape(y, y.shape[0])\n",
        "'''"
      ],
      "execution_count": null,
      "outputs": [
        {
          "output_type": "execute_result",
          "data": {
            "application/vnd.google.colaboratory.intrinsic+json": {
              "type": "string"
            },
            "text/plain": [
              "'\\nfrom imblearn.over_sampling import RandomOverSampler\\n\\nros = RandomOverSampler(random_state = 42)\\ndata, temp = ros.fit_resample(np.reshape(data, (data.shape[0], -1)), np.reshape(df_temp[[\"billing_3_status\"]].values, df_temp[[\"billing_3_status\"]].values.shape[0]))\\ny, temp = ros.fit_resample(np.reshape(y, (y.shape[0], -1)), np.reshape(df_temp[[\"billing_3_status\"]].values, df_temp[[\"billing_3_status\"]].values.shape[0]))\\ndata = np.reshape(data, (data.shape[0], 10, 3))\\ny = np.reshape(y, y.shape[0])\\n'"
            ]
          },
          "metadata": {},
          "execution_count": 34
        }
      ]
    },
    {
      "cell_type": "code",
      "metadata": {
        "id": "mA-TrWOVdlyG"
      },
      "source": [
        "from sklearn.model_selection import train_test_split\n",
        "\n",
        "training_set, test_set, training_label, test_label = train_test_split(data, y, \n",
        "                                                                      test_size = 0.2, \n",
        "                                                                      random_state = 42,\n",
        "                                                                      stratify = y)\n",
        "\n",
        "from sklearn.preprocessing import StandardScaler\n",
        "\n",
        "sc = StandardScaler()\n",
        "training_set[:, :, 0] = sc.fit_transform(training_set[:, :, 0])\n",
        "test_set[:, :, 0] = sc.transform(test_set[:, :, 0])\n",
        "\n",
        "X_train, X_test = training_set, test_set\n",
        "y_train, y_test = training_label, test_label\n",
        "X_train, y_train = np.array(X_train), np.array(y_train)\n",
        "X_test, y_test = np.array(X_test), np.array(y_test)\n",
        "\n",
        "X_train = np.reshape(X_train, (X_train.shape[0], X_train.shape[1], 3))\n",
        "X_test = np.reshape(X_test, (X_test.shape[0], X_test.shape[1], 3))"
      ],
      "execution_count": null,
      "outputs": []
    },
    {
      "cell_type": "code",
      "metadata": {
        "colab": {
          "base_uri": "https://localhost:8080/"
        },
        "id": "snAJcO12drqI",
        "outputId": "b1bee66b-fb5f-4b99-86d9-13a66a4561b0"
      },
      "source": [
        "import tensorflow as tf\n",
        "\n",
        "model = tf.keras.Sequential([\n",
        "    tf.keras.layers.LSTM(units = 8, dropout = 0.2, return_sequences = True, input_shape = (X_train.shape[1], 3)),                         \n",
        "    tf.keras.layers.LSTM(units = 8, return_sequences = True, dropout = 0.2),                         \n",
        "    tf.keras.layers.LSTM(units = 8, return_sequences = True, dropout = 0.2),\n",
        "    tf.keras.layers.LSTM(units = 8, dropout = 0.2),\n",
        "    #tf.keras.layers.Flatten(),  \n",
        "    #tf.keras.layers.Dense(128, activation = \"relu\"),                     \n",
        "    tf.keras.layers.Dense(1, activation = \"sigmoid\")],\n",
        "    name = \"LSTM_Predict_Subscribe\")\n",
        "\n",
        "model.compile(optimizer = \"adam\",\n",
        "              loss = \"binary_crossentropy\",\n",
        "              metrics = [\"accuracy\"])\n",
        "\n",
        "model.summary()"
      ],
      "execution_count": null,
      "outputs": [
        {
          "output_type": "stream",
          "name": "stdout",
          "text": [
            "Model: \"LSTM_Predict_Subscribe\"\n",
            "_________________________________________________________________\n",
            " Layer (type)                Output Shape              Param #   \n",
            "=================================================================\n",
            " lstm (LSTM)                 (None, 10, 8)             384       \n",
            "                                                                 \n",
            " lstm_1 (LSTM)               (None, 10, 8)             544       \n",
            "                                                                 \n",
            " lstm_2 (LSTM)               (None, 10, 8)             544       \n",
            "                                                                 \n",
            " lstm_3 (LSTM)               (None, 8)                 544       \n",
            "                                                                 \n",
            " dense (Dense)               (None, 1)                 9         \n",
            "                                                                 \n",
            "=================================================================\n",
            "Total params: 2,025\n",
            "Trainable params: 2,025\n",
            "Non-trainable params: 0\n",
            "_________________________________________________________________\n"
          ]
        }
      ]
    },
    {
      "cell_type": "code",
      "metadata": {
        "colab": {
          "base_uri": "https://localhost:8080/",
          "height": 100
        },
        "id": "_smGVaTjKjEa",
        "outputId": "deae3612-c2a3-44a6-f95b-3977d96c8535"
      },
      "source": [
        "'''\n",
        "#X_train[:, :, 0:2]\n",
        "\n",
        "inputs = tf.keras.layers.Input(shape = (X_train.shape[1], 3))\n",
        "x = tf.keras.layers.LSTM(units = 8, return_sequences = True, dropout = 0.2)(inputs)\n",
        "x = tf.keras.layers.LSTM(units = 8, return_sequences = True, dropout = 0.2)(x)\n",
        "x = tf.keras.layers.LSTM(units = 8, return_sequences = True, dropout = 0.2)(x)\n",
        "x = tf.keras.layers.LSTM(units = 8, dropout = 0.2)(x)\n",
        "\n",
        "#x = tf.keras.layers.Dense(128, activation = \"relu\")(inputs)\n",
        "#x = tf.keras.layers.Dense(32, activation = \"relu\")(x)\n",
        "x = tf.keras.layers.Dense(1, activation = \"sigmoid\")(x)\n",
        "model = tf.keras.Model(inputs, x)\n",
        "\n",
        "model.compile(optimizer = \"adam\",\n",
        "              loss = \"binary_crossentropy\",\n",
        "              metrics = [\"accuracy\"])\n",
        "\n",
        "model.summary()\n",
        "'''"
      ],
      "execution_count": null,
      "outputs": [
        {
          "output_type": "execute_result",
          "data": {
            "application/vnd.google.colaboratory.intrinsic+json": {
              "type": "string"
            },
            "text/plain": [
              "'\\n#X_train[:, :, 0:2]\\n\\ninputs = tf.keras.layers.Input(shape = (X_train.shape[1], 3))\\nx = tf.keras.layers.LSTM(units = 8, return_sequences = True, dropout = 0.2)(inputs)\\nx = tf.keras.layers.LSTM(units = 8, return_sequences = True, dropout = 0.2)(x)\\nx = tf.keras.layers.LSTM(units = 8, return_sequences = True, dropout = 0.2)(x)\\nx = tf.keras.layers.LSTM(units = 8, dropout = 0.2)(x)\\n\\n#x = tf.keras.layers.Dense(128, activation = \"relu\")(inputs)\\n#x = tf.keras.layers.Dense(32, activation = \"relu\")(x)\\nx = tf.keras.layers.Dense(1, activation = \"sigmoid\")(x)\\nmodel = tf.keras.Model(inputs, x)\\n\\nmodel.compile(optimizer = \"adam\",\\n              loss = \"binary_crossentropy\",\\n              metrics = [\"accuracy\"])\\n\\nmodel.summary()\\n'"
            ]
          },
          "metadata": {},
          "execution_count": 37
        }
      ]
    },
    {
      "cell_type": "code",
      "metadata": {
        "colab": {
          "base_uri": "https://localhost:8080/"
        },
        "id": "-zzpKjO2d4tB",
        "outputId": "47458833-f4e3-402e-864c-3b90ea98b77b"
      },
      "source": [
        "result = model.fit(X_train, y_train,\n",
        "                   validation_data = (X_test, y_test), \n",
        "                   epochs = 20, \n",
        "                   batch_size = 32)"
      ],
      "execution_count": null,
      "outputs": [
        {
          "output_type": "stream",
          "name": "stdout",
          "text": [
            "Epoch 1/20\n",
            "3721/3721 [==============================] - 87s 21ms/step - loss: 0.3801 - accuracy: 0.8170 - val_loss: 0.1785 - val_accuracy: 0.9352\n",
            "Epoch 2/20\n",
            "3721/3721 [==============================] - 78s 21ms/step - loss: 0.2297 - accuracy: 0.9175 - val_loss: 0.1457 - val_accuracy: 0.9505\n",
            "Epoch 3/20\n",
            "3721/3721 [==============================] - 79s 21ms/step - loss: 0.2112 - accuracy: 0.9226 - val_loss: 0.1309 - val_accuracy: 0.9566\n",
            "Epoch 4/20\n",
            "3721/3721 [==============================] - 79s 21ms/step - loss: 0.1987 - accuracy: 0.9250 - val_loss: 0.1302 - val_accuracy: 0.9535\n",
            "Epoch 5/20\n",
            "3721/3721 [==============================] - 78s 21ms/step - loss: 0.1934 - accuracy: 0.9268 - val_loss: 0.1292 - val_accuracy: 0.9521\n",
            "Epoch 6/20\n",
            "3721/3721 [==============================] - 78s 21ms/step - loss: 0.1896 - accuracy: 0.9279 - val_loss: 0.1264 - val_accuracy: 0.9516\n",
            "Epoch 7/20\n",
            "3721/3721 [==============================] - 78s 21ms/step - loss: 0.1879 - accuracy: 0.9286 - val_loss: 0.1205 - val_accuracy: 0.9564\n",
            "Epoch 8/20\n",
            "3721/3721 [==============================] - 78s 21ms/step - loss: 0.1846 - accuracy: 0.9306 - val_loss: 0.1247 - val_accuracy: 0.9531\n",
            "Epoch 9/20\n",
            "3721/3721 [==============================] - 78s 21ms/step - loss: 0.1823 - accuracy: 0.9318 - val_loss: 0.1238 - val_accuracy: 0.9552\n",
            "Epoch 10/20\n",
            "3721/3721 [==============================] - 77s 21ms/step - loss: 0.1807 - accuracy: 0.9318 - val_loss: 0.1164 - val_accuracy: 0.9591\n",
            "Epoch 11/20\n",
            "3721/3721 [==============================] - 78s 21ms/step - loss: 0.1780 - accuracy: 0.9332 - val_loss: 0.1216 - val_accuracy: 0.9583\n",
            "Epoch 12/20\n",
            "3721/3721 [==============================] - 78s 21ms/step - loss: 0.1781 - accuracy: 0.9327 - val_loss: 0.1273 - val_accuracy: 0.9552\n",
            "Epoch 13/20\n",
            "3721/3721 [==============================] - 78s 21ms/step - loss: 0.1784 - accuracy: 0.9331 - val_loss: 0.1147 - val_accuracy: 0.9620\n",
            "Epoch 14/20\n",
            "3721/3721 [==============================] - 77s 21ms/step - loss: 0.1754 - accuracy: 0.9339 - val_loss: 0.1131 - val_accuracy: 0.9608\n",
            "Epoch 15/20\n",
            "3721/3721 [==============================] - 77s 21ms/step - loss: 0.1755 - accuracy: 0.9347 - val_loss: 0.1078 - val_accuracy: 0.9611\n",
            "Epoch 16/20\n",
            "3721/3721 [==============================] - 77s 21ms/step - loss: 0.1754 - accuracy: 0.9340 - val_loss: 0.1117 - val_accuracy: 0.9609\n",
            "Epoch 17/20\n",
            "3721/3721 [==============================] - 77s 21ms/step - loss: 0.1735 - accuracy: 0.9355 - val_loss: 0.1061 - val_accuracy: 0.9644\n",
            "Epoch 18/20\n",
            "3721/3721 [==============================] - 77s 21ms/step - loss: 0.1733 - accuracy: 0.9351 - val_loss: 0.1067 - val_accuracy: 0.9677\n",
            "Epoch 19/20\n",
            "3721/3721 [==============================] - 77s 21ms/step - loss: 0.1737 - accuracy: 0.9354 - val_loss: 0.1102 - val_accuracy: 0.9613\n",
            "Epoch 20/20\n",
            "3721/3721 [==============================] - 77s 21ms/step - loss: 0.1713 - accuracy: 0.9364 - val_loss: 0.1132 - val_accuracy: 0.9632\n"
          ]
        }
      ]
    },
    {
      "cell_type": "code",
      "metadata": {
        "colab": {
          "base_uri": "https://localhost:8080/"
        },
        "id": "6vZWHp_2eiEI",
        "outputId": "858344ee-4449-4203-993c-daae7b27cc67"
      },
      "source": [
        "print(model.evaluate(X_test, y_test))"
      ],
      "execution_count": null,
      "outputs": [
        {
          "output_type": "stream",
          "name": "stdout",
          "text": [
            "931/931 [==============================] - 5s 5ms/step - loss: 0.1132 - accuracy: 0.9632\n",
            "[0.11316196620464325, 0.9632454514503479]\n"
          ]
        }
      ]
    },
    {
      "cell_type": "code",
      "metadata": {
        "colab": {
          "base_uri": "https://localhost:8080/",
          "height": 698
        },
        "id": "a01iwvWqz8Ge",
        "outputId": "d227b367-82b5-472f-e24d-af4695b0f378"
      },
      "source": [
        "# Plotting train_loss vs val_loss\n",
        "plt.figure(figsize = (10, 5))\n",
        "plt.plot(result.history[\"loss\"], label = \"loss\")\n",
        "plt.plot(result.history[\"val_loss\"], label = \"val_loss\")\n",
        "plt.title(\"Training Loss and Validation Loss\")\n",
        "plt.xlabel(\"Epoch\")\n",
        "plt.ylabel(\"Training/Validation Loss\")\n",
        "plt.legend()\n",
        "\n",
        "# Plotting train_accuracy vs Val_accuracy\n",
        "plt.figure(figsize = (10, 5))\n",
        "plt.plot(result.history[\"accuracy\"], label = \"accuracy\")\n",
        "plt.plot(result.history[\"val_accuracy\"], label = \"val_accuracy\")\n",
        "plt.title(\"Training Accuracy and Validation Accuracy\")\n",
        "plt.xlabel(\"Epoch\")\n",
        "plt.ylabel(\"Training/Validation Accuracy\")\n",
        "plt.legend(loc = \"upper left\")"
      ],
      "execution_count": null,
      "outputs": [
        {
          "output_type": "execute_result",
          "data": {
            "text/plain": [
              "<matplotlib.legend.Legend at 0x7f0f3e8285d0>"
            ]
          },
          "metadata": {},
          "execution_count": 40
        },
        {
          "output_type": "display_data",
          "data": {
            "image/png": "[encoded data removed]",
            "text/plain": [
              "<Figure size 720x360 with 1 Axes>"
            ]
          },
          "metadata": {
            "needs_background": "light"
          }
        },
        {
          "output_type": "display_data",
          "data": {
            "image/png": "[encoded data removed]",
            "text/plain": [
              "<Figure size 720x360 with 1 Axes>"
            ]
          },
          "metadata": {
            "needs_background": "light"
          }
        }
      ]
    },
    {
      "cell_type": "code",
      "metadata": {
        "colab": {
          "base_uri": "https://localhost:8080/"
        },
        "id": "v-CZMKiyd9yw",
        "outputId": "f3511aa6-72de-4297-8b25-bb430fdaf2cc"
      },
      "source": [
        "i = 4\n",
        "print(X_test[i])\n",
        "\n",
        "print(\"Predict : {}\".format(int(np.round(model.predict(np.reshape(X_test[i], (1, X_test[i].shape[0], 3))))))) # Predict\n",
        "print(\"Actual : {}\".format(y_test[i])) # Actual"
      ],
      "execution_count": null,
      "outputs": [
        {
          "output_type": "stream",
          "name": "stdout",
          "text": [
            "[[ 0.51611246  2.         12.        ]\n",
            " [ 0.42420439  2.         11.        ]\n",
            " [ 0.35382128  2.         11.        ]\n",
            " [ 0.27007192  2.          8.        ]\n",
            " [ 0.2560531   2.         13.        ]\n",
            " [ 0.27055784  2.         15.        ]\n",
            " [ 0.80524171  2.         11.        ]\n",
            " [ 0.28591945  2.         15.        ]\n",
            " [ 0.43767667  2.         14.        ]\n",
            " [-0.63010257  0.         30.        ]]\n",
            "Predict : 0\n",
            "Actual : 0\n"
          ]
        }
      ]
    },
    {
      "cell_type": "code",
      "metadata": {
        "colab": {
          "base_uri": "https://localhost:8080/"
        },
        "id": "WpiB1ltIsl5f",
        "outputId": "ffadebce-561f-4f96-8e09-d581842a5883"
      },
      "source": [
        "#Prediction:\n",
        "target_names = [\"UNSUBSCRIBE\", \"SUBSCRIBE\"]\n",
        "\n",
        "predict = np.reshape(np.round(model.predict(X_test)).astype(int), (X_test.shape[0]))\n",
        "    \n",
        "print(\"Confusion Matrix\")\n",
        "cm = confusion_matrix(y_test, predict)\n",
        "print(cm)\n",
        "    \n",
        "# show the accuracy, sensitivity, and specificity  \n",
        "total = sum(sum(cm))  \n",
        "acc = (cm[0][0] + cm[1][1]) / total\n",
        "print(\"acc: {:.4f}\".format(acc))\n",
        "sensitivity = cm[0][0] / (cm[0][0] + cm[0][1])\n",
        "print(\"{} sensitivity: {:.4f}\".format(target_names[0], sensitivity))\n",
        "sensitivity = cm[1][1] / (cm[1][0] + cm[1][1])\n",
        "print(\"{} sensitivity: {:.4f}\".format(target_names[1], sensitivity))\n",
        "\n",
        "print(\"Classification Report\")\n",
        "print(classification_report(y_test, predict, target_names = target_names))"
      ],
      "execution_count": null,
      "outputs": [
        {
          "output_type": "stream",
          "name": "stdout",
          "text": [
            "Confusion Matrix\n",
            "[[17653    67]\n",
            " [ 1027 11018]]\n",
            "acc: 0.9632\n",
            "UNSUBSCRIBE sensitivity: 0.9962\n",
            "SUBSCRIBE sensitivity: 0.9147\n",
            "Classification Report\n",
            "              precision    recall  f1-score   support\n",
            "\n",
            " UNSUBSCRIBE       0.95      1.00      0.97     17720\n",
            "   SUBSCRIBE       0.99      0.91      0.95     12045\n",
            "\n",
            "    accuracy                           0.96     29765\n",
            "   macro avg       0.97      0.96      0.96     29765\n",
            "weighted avg       0.96      0.96      0.96     29765\n",
            "\n"
          ]
        }
      ]
    },
    {
      "cell_type": "markdown",
      "metadata": {
        "id": "fDfhc5eXDkgx"
      },
      "source": [
        "## Predict Next Month Still Subcsribe or Not (billing 11-3)"
      ]
    },
    {
      "cell_type": "code",
      "metadata": {
        "id": "QygAR9y9Dkgx"
      },
      "source": [
        "df_temp = df.copy()\n",
        "df_temp.loc[(df_temp[\"billing_1_status\"] == \"CT0\") | (df_temp[\"billing_1_status\"] == \"ZERO BILLING\") | ((df_temp[\"billing_2_status\"] == \"UNPAID\") & (df_temp[\"billing_1_status\"] == \"UNPAID\")), \"subscribe_status\"] = \"UNSUBSCRIBE\"\n",
        "df_temp[\"subscribe_status\"] = df_temp[\"subscribe_status\"].fillna(\"SUBSCRIBE\")\n",
        "\n",
        "df_temp.head()"
      ],
      "execution_count": null,
      "outputs": []
    },
    {
      "cell_type": "code",
      "metadata": {
        "colab": {
          "base_uri": "https://localhost:8080/",
          "height": 427
        },
        "id": "D7vKZHWwDkgx",
        "outputId": "b0584876-5471-4c17-d673-5da5404bd816"
      },
      "source": [
        "witel_count = [df_temp.loc[df_temp[\"subscribe_status\"] == df_temp[\"subscribe_status\"].unique()[i]].count()[0] for i in range(len(df_temp[\"subscribe_status\"].unique()))]\n",
        "witel_name = df_temp[\"subscribe_status\"].unique()\n",
        "plt.figure(figsize = (12, 6), dpi = 80)\n",
        "plt.bar(witel_name, witel_count)\n",
        "plt.xlabel(\"Subscribe Status\", fontweight = \"bold\")\n",
        "plt.show()"
      ],
      "execution_count": 33,
      "outputs": [
        {
          "output_type": "display_data",
          "data": {
            "image/png": "[encoded data removed]",
            "text/plain": [
              "<Figure size 960x480 with 1 Axes>"
            ]
          },
          "metadata": {
            "needs_background": "light"
          }
        }
      ]
    },
    {
      "cell_type": "code",
      "metadata": {
        "colab": {
          "base_uri": "https://localhost:8080/",
          "height": 427
        },
        "id": "rhyHcRbtDkgy",
        "outputId": "1524d7fb-4f24-4f42-bb7d-cff7d1b05d6d"
      },
      "source": [
        "witel_count = [df.loc[((df[\"billing_1_status\"] != \"CT0\") & (df[\"billing_1_status\"] != \"ZERO BILLING\")) & (df[\"billing_3_status\"] == df[\"billing_3_status\"].unique()[i])].count()[0] for i in range(len(df[\"billing_3_status\"].unique()))]\n",
        "witel_name = df[\"billing_3_status\"].unique()\n",
        "plt.figure(figsize = (12, 6), dpi = 80)\n",
        "plt.bar(witel_name, witel_count)\n",
        "plt.xlabel(\"Billing 3 Status (Subsribe)\", fontweight = \"bold\")\n",
        "plt.show()"
      ],
      "execution_count": 34,
      "outputs": [
        {
          "output_type": "display_data",
          "data": {
            "image/png": "[encoded data removed]",
            "text/plain": [
              "<Figure size 960x480 with 1 Axes>"
            ]
          },
          "metadata": {
            "needs_background": "light"
          }
        }
      ]
    },
    {
      "cell_type": "code",
      "metadata": {
        "colab": {
          "base_uri": "https://localhost:8080/",
          "height": 427
        },
        "id": "Fdko2IeyDkgy",
        "outputId": "713528fd-557a-4645-82d7-1647e230c9b7"
      },
      "source": [
        "witel_count = [df.loc[((df[\"billing_1_status\"] == \"CT0\") | (df[\"billing_1_status\"] == \"ZERO BILLING\")) & (df[\"billing_3_status\"] == df[\"billing_3_status\"].unique()[i])].count()[0] for i in range(len(df[\"billing_3_status\"].unique()))]\n",
        "witel_name = df[\"billing_3_status\"].unique()\n",
        "plt.figure(figsize = (12, 6), dpi = 80)\n",
        "plt.bar(witel_name, witel_count)\n",
        "plt.xlabel(\"Billing 3 Status (Unsubsribe)\", fontweight = \"bold\")\n",
        "plt.show()"
      ],
      "execution_count": 35,
      "outputs": [
        {
          "output_type": "display_data",
          "data": {
            "image/png": "[encoded data removed]",
            "text/plain": [
              "<Figure size 960x480 with 1 Axes>"
            ]
          },
          "metadata": {
            "needs_background": "light"
          }
        }
      ]
    },
    {
      "cell_type": "code",
      "metadata": {
        "colab": {
          "base_uri": "https://localhost:8080/"
        },
        "id": "IPBYXuk-Dkgy",
        "outputId": "7c64cbb6-67cb-4742-8511-6324d4e8fd9d"
      },
      "source": [
        "from sklearn.compose import ColumnTransformer\n",
        "from sklearn.preprocessing import OneHotEncoder\n",
        "\n",
        "df_temp = df.copy()\n",
        "df_temp.loc[(df_temp[\"billing_1_status\"] == \"CT0\") | (df_temp[\"billing_1_status\"] == \"ZERO BILLING\") | ((df_temp[\"billing_2_status\"] == \"UNPAID\") & (df_temp[\"billing_1_status\"] == \"UNPAID\")), \"subscribe_status\"] = \"UNSUBSCRIBE\"\n",
        "df_temp[\"subscribe_status\"] = df_temp[\"subscribe_status\"].fillna(\"SUBSCRIBE\")\n",
        "for month in [2, 3, 4, 5, 6, 7, 8, 9, 10, 11]:\n",
        "    df_temp[[\"billing_{}_status\".format(month)]] = df_temp[\"billing_{}_status\".format(month)].apply(lambda x: 0 if x == \"ZERO BILLING\" else (1 if x == \"UNPAID\" else 2))\n",
        "dat1 = df_temp[[\"billing_11_amountTotal\",\n",
        "                \"billing_10_amountTotal\",\n",
        "                \"billing_9_amountTotal\",\n",
        "                \"billing_8_amountTotal\",\n",
        "                \"billing_7_amountTotal\",\n",
        "                \"billing_6_amountTotal\",\n",
        "                \"billing_5_amountTotal\",\n",
        "                \"billing_4_amountTotal\",\n",
        "                \"billing_3_amountTotal\"]].values\n",
        "dat2 = df_temp[[\"billing_11_status\",\n",
        "                \"billing_10_status\",\n",
        "                \"billing_9_status\",\n",
        "                \"billing_8_status\",\n",
        "                \"billing_7_status\",\n",
        "                \"billing_6_status\",\n",
        "                \"billing_5_status\",\n",
        "                \"billing_4_status\",\n",
        "                \"billing_3_status\"]].values\n",
        "dat3 = df_temp[[\"billing_11_paymentDate\",\n",
        "                \"billing_10_paymentDate\",\n",
        "                \"billing_9_paymentDate\",\n",
        "                \"billing_8_paymentDate\",\n",
        "                \"billing_7_paymentDate\",\n",
        "                \"billing_6_paymentDate\",\n",
        "                \"billing_5_paymentDate\",\n",
        "                \"billing_4_paymentDate\",\n",
        "                \"billing_3_paymentDate\"]].values\n",
        "                \n",
        "y = df_temp[\"subscribe_status\"].apply(lambda x: 0 if x == \"UNSUBSCRIBE\" else 1).values\n",
        "\n",
        "data = []\n",
        "for i in range(dat1.shape[0]):\n",
        "    b = []\n",
        "    for j in range(dat1.shape[1]):\n",
        "        c = []\n",
        "        c.append(dat1[i][j])\n",
        "        c.append(dat2[i][j])\n",
        "        c.append(dat3[i][j])\n",
        "        c.append(y[i])\n",
        "        b.append(c)\n",
        "    data.append(b)\n",
        "data = np.array(data)\n",
        "\n",
        "print(data)\n",
        "print(y)"
      ],
      "execution_count": 36,
      "outputs": [
        {
          "output_type": "stream",
          "name": "stdout",
          "text": [
            "[[[3.44000e+05 2.00000e+00 1.70000e+01 1.00000e+00]\n",
            "  [3.41000e+05 2.00000e+00 1.50000e+01 1.00000e+00]\n",
            "  [3.41000e+05 2.00000e+00 1.60000e+01 1.00000e+00]\n",
            "  ...\n",
            "  [3.41000e+05 2.00000e+00 1.80000e+01 1.00000e+00]\n",
            "  [3.41000e+05 2.00000e+00 1.30000e+01 1.00000e+00]\n",
            "  [3.41000e+05 2.00000e+00 1.90000e+01 1.00000e+00]]\n",
            "\n",
            " [[3.27500e+05 2.00000e+00 1.70000e+01 0.00000e+00]\n",
            "  [3.24500e+05 2.00000e+00 1.70000e+01 0.00000e+00]\n",
            "  [3.24500e+05 2.00000e+00 1.80000e+01 0.00000e+00]\n",
            "  ...\n",
            "  [3.39250e+05 2.00000e+00 2.10000e+01 0.00000e+00]\n",
            "  [3.24500e+05 2.00000e+00 1.90000e+01 0.00000e+00]\n",
            "  [3.24500e+05 2.00000e+00 2.10000e+01 0.00000e+00]]\n",
            "\n",
            " [[1.45145e+05 2.00000e+00 8.00000e+00 0.00000e+00]\n",
            "  [1.46355e+05 2.00000e+00 5.00000e+00 0.00000e+00]\n",
            "  [1.43385e+05 2.00000e+00 5.00000e+00 0.00000e+00]\n",
            "  ...\n",
            "  [1.43385e+05 2.00000e+00 8.00000e+00 0.00000e+00]\n",
            "  [1.43385e+05 2.00000e+00 5.00000e+00 0.00000e+00]\n",
            "  [1.43385e+05 2.00000e+00 5.00000e+00 0.00000e+00]]\n",
            "\n",
            " ...\n",
            "\n",
            " [[0.00000e+00 0.00000e+00 0.00000e+00 1.00000e+00]\n",
            "  [0.00000e+00 0.00000e+00 0.00000e+00 1.00000e+00]\n",
            "  [0.00000e+00 0.00000e+00 0.00000e+00 1.00000e+00]\n",
            "  ...\n",
            "  [3.78350e+05 2.00000e+00 2.10000e+01 1.00000e+00]\n",
            "  [3.78350e+05 2.00000e+00 2.50000e+01 1.00000e+00]\n",
            "  [3.94800e+05 2.00000e+00 9.00000e+00 1.00000e+00]]\n",
            "\n",
            " [[0.00000e+00 0.00000e+00 0.00000e+00 1.00000e+00]\n",
            "  [0.00000e+00 0.00000e+00 0.00000e+00 1.00000e+00]\n",
            "  [0.00000e+00 0.00000e+00 0.00000e+00 1.00000e+00]\n",
            "  ...\n",
            "  [3.61900e+05 2.00000e+00 3.00000e+00 1.00000e+00]\n",
            "  [3.61900e+05 2.00000e+00 3.00000e+00 1.00000e+00]\n",
            "  [3.61900e+05 2.00000e+00 3.00000e+00 1.00000e+00]]\n",
            "\n",
            " [[0.00000e+00 0.00000e+00 0.00000e+00 0.00000e+00]\n",
            "  [0.00000e+00 0.00000e+00 0.00000e+00 0.00000e+00]\n",
            "  [0.00000e+00 0.00000e+00 0.00000e+00 0.00000e+00]\n",
            "  ...\n",
            "  [2.58500e+05 2.00000e+00 2.00000e+01 0.00000e+00]\n",
            "  [2.70250e+05 2.00000e+00 2.10000e+01 0.00000e+00]\n",
            "  [2.58500e+05 2.00000e+00 2.10000e+01 0.00000e+00]]]\n",
            "[1 0 0 ... 1 1 0]\n"
          ]
        }
      ]
    },
    {
      "cell_type": "code",
      "metadata": {
        "id": "KLlJp8uD1nxO"
      },
      "source": [
        "from imblearn.over_sampling import RandomOverSampler\n",
        "\n",
        "ros = RandomOverSampler(random_state = 42)\n",
        "data, temp = ros.fit_resample(np.reshape(data, (data.shape[0], -1)), np.reshape(df_temp[[\"billing_3_status\"]].values, df_temp[[\"billing_3_status\"]].values.shape[0]))\n",
        "data = np.reshape(data, (data.shape[0], 9, 4))\n",
        "y = data[:, :, 3][:, 0].astype(int)\n",
        "data = data[:, :, 0:3]"
      ],
      "execution_count": 37,
      "outputs": []
    },
    {
      "cell_type": "code",
      "metadata": {
        "colab": {
          "base_uri": "https://localhost:8080/",
          "height": 87
        },
        "id": "QP9-bax3vnu7",
        "outputId": "6e2da478-e885-4feb-afca-58369985b48c"
      },
      "source": [
        "'''\n",
        "from imblearn.over_sampling import RandomOverSampler\n",
        "\n",
        "ros = RandomOverSampler(random_state = 42)\n",
        "data, temp = ros.fit_resample(np.reshape(data, (data.shape[0], -1)), np.reshape(df_temp[[\"billing_3_status\"]].values, df_temp[[\"billing_3_status\"]].values.shape[0]))\n",
        "y, temp = ros.fit_resample(np.reshape(y, (y.shape[0], -1)), np.reshape(df_temp[[\"billing_3_status\"]].values, df_temp[[\"billing_3_status\"]].values.shape[0]))\n",
        "data = np.reshape(data, (data.shape[0], 9, 3))\n",
        "y = np.reshape(y, y.shape[0])\n",
        "'''"
      ],
      "execution_count": 38,
      "outputs": [
        {
          "output_type": "execute_result",
          "data": {
            "application/vnd.google.colaboratory.intrinsic+json": {
              "type": "string"
            },
            "text/plain": [
              "'\\nfrom imblearn.over_sampling import RandomOverSampler\\n\\nros = RandomOverSampler(random_state = 42)\\ndata, temp = ros.fit_resample(np.reshape(data, (data.shape[0], -1)), np.reshape(df_temp[[\"billing_3_status\"]].values, df_temp[[\"billing_3_status\"]].values.shape[0]))\\ny, temp = ros.fit_resample(np.reshape(y, (y.shape[0], -1)), np.reshape(df_temp[[\"billing_3_status\"]].values, df_temp[[\"billing_3_status\"]].values.shape[0]))\\ndata = np.reshape(data, (data.shape[0], 9, 3))\\ny = np.reshape(y, y.shape[0])\\n'"
            ]
          },
          "metadata": {},
          "execution_count": 38
        }
      ]
    },
    {
      "cell_type": "code",
      "metadata": {
        "id": "LFAFWVTSvpIz"
      },
      "source": [
        "from sklearn.model_selection import train_test_split\n",
        "\n",
        "training_set, test_set, training_label, test_label = train_test_split(data, y, \n",
        "                                                                      test_size = 0.2, \n",
        "                                                                      random_state = 42,\n",
        "                                                                      stratify = y)\n",
        "\n",
        "#from sklearn.preprocessing import StandardScaler\n",
        "\n",
        "#sc = StandardScaler()\n",
        "#training_set[:, :, 0] = sc.fit_transform(training_set[:, :, 0])\n",
        "#test_set[:, :, 0] = sc.transform(test_set[:, :, 0])\n",
        "\n",
        "X_train, X_test = training_set, test_set\n",
        "y_train, y_test = training_label, test_label\n",
        "X_train, y_train = np.array(X_train), np.array(y_train)\n",
        "X_test, y_test = np.array(X_test), np.array(y_test)\n",
        "\n",
        "X_train = np.reshape(X_train, (X_train.shape[0], X_train.shape[1], 3))\n",
        "X_test = np.reshape(X_test, (X_test.shape[0], X_test.shape[1], 3))"
      ],
      "execution_count": 39,
      "outputs": []
    },
    {
      "cell_type": "code",
      "metadata": {
        "colab": {
          "base_uri": "https://localhost:8080/"
        },
        "id": "u7ytOwsADkgz",
        "outputId": "b22a899c-42d9-44a9-80ae-436f855ab60c"
      },
      "source": [
        "import tensorflow as tf\n",
        "\n",
        "model = tf.keras.Sequential([\n",
        "    tf.keras.layers.LSTM(units = 8, dropout = 0.2, return_sequences = True, input_shape = (X_train.shape[1], 3)),                         \n",
        "    tf.keras.layers.LSTM(units = 8, return_sequences = True, dropout = 0.2),                         \n",
        "    tf.keras.layers.LSTM(units = 8, return_sequences = True, dropout = 0.2),\n",
        "    tf.keras.layers.LSTM(units = 8, dropout = 0.2),\n",
        "    #tf.keras.layers.Flatten(),  \n",
        "    #tf.keras.layers.Dense(128, activation = \"relu\"),                     \n",
        "    tf.keras.layers.Dense(1, activation = \"sigmoid\")],\n",
        "    name = \"LSTM_Predict_Subscribe\")\n",
        "\n",
        "model.compile(optimizer = \"adam\",\n",
        "              loss = \"binary_crossentropy\",\n",
        "              metrics = [\"accuracy\"])\n",
        "\n",
        "model.summary()"
      ],
      "execution_count": 45,
      "outputs": [
        {
          "output_type": "stream",
          "name": "stdout",
          "text": [
            "Model: \"LSTM_Predict_Subscribe\"\n",
            "_________________________________________________________________\n",
            " Layer (type)                Output Shape              Param #   \n",
            "=================================================================\n",
            " lstm_4 (LSTM)               (None, 9, 8)              384       \n",
            "                                                                 \n",
            " lstm_5 (LSTM)               (None, 9, 8)              544       \n",
            "                                                                 \n",
            " lstm_6 (LSTM)               (None, 9, 8)              544       \n",
            "                                                                 \n",
            " lstm_7 (LSTM)               (None, 8)                 544       \n",
            "                                                                 \n",
            " dense_1 (Dense)             (None, 1)                 9         \n",
            "                                                                 \n",
            "=================================================================\n",
            "Total params: 2,025\n",
            "Trainable params: 2,025\n",
            "Non-trainable params: 0\n",
            "_________________________________________________________________\n"
          ]
        }
      ]
    },
    {
      "cell_type": "code",
      "metadata": {
        "colab": {
          "base_uri": "https://localhost:8080/",
          "height": 415
        },
        "id": "xsLB-l5uDkgz",
        "outputId": "2c149478-2182-4a1b-f2d6-613684dd6ab0"
      },
      "source": [
        "result = model.fit(X_train, y_train,\n",
        "                   validation_data = (X_test, y_test), \n",
        "                   epochs = 50, \n",
        "                   batch_size = 32)"
      ],
      "execution_count": 46,
      "outputs": [
        {
          "output_type": "stream",
          "name": "stdout",
          "text": [
            "Epoch 1/50\n",
            "7100/7100 [==============================] - 169s 23ms/step - loss: 0.5223 - accuracy: 0.7268 - val_loss: 0.4862 - val_accuracy: 0.7239\n",
            "Epoch 2/50\n",
            "4800/7100 [===================>..........] - ETA: 48s - loss: 0.5002 - accuracy: 0.7294"
          ]
        },
        {
          "output_type": "error",
          "ename": "KeyboardInterrupt",
          "evalue": "ignored",
          "traceback": [
            "\u001b[0;31m---------------------------------------------------------------------------\u001b[0m",
            "\u001b[0;31mKeyboardInterrupt\u001b[0m                         Traceback (most recent call last)",
            "\u001b[0;32m<ipython-input-46-1eab961b6d72>\u001b[0m in \u001b[0;36m<module>\u001b[0;34m()\u001b[0m\n\u001b[1;32m      2\u001b[0m                    \u001b[0mvalidation_data\u001b[0m \u001b[0;34m=\u001b[0m \u001b[0;34m(\u001b[0m\u001b[0mX_test\u001b[0m\u001b[0;34m,\u001b[0m \u001b[0my_test\u001b[0m\u001b[0;34m)\u001b[0m\u001b[0;34m,\u001b[0m\u001b[0;34m\u001b[0m\u001b[0;34m\u001b[0m\u001b[0m\n\u001b[1;32m      3\u001b[0m                    \u001b[0mepochs\u001b[0m \u001b[0;34m=\u001b[0m \u001b[0;36m50\u001b[0m\u001b[0;34m,\u001b[0m\u001b[0;34m\u001b[0m\u001b[0;34m\u001b[0m\u001b[0m\n\u001b[0;32m----> 4\u001b[0;31m                    batch_size = 32)\n\u001b[0m",
            "\u001b[0;32m/usr/local/lib/python3.7/dist-packages/keras/utils/traceback_utils.py\u001b[0m in \u001b[0;36merror_handler\u001b[0;34m(*args, **kwargs)\u001b[0m\n\u001b[1;32m     62\u001b[0m     \u001b[0mfiltered_tb\u001b[0m \u001b[0;34m=\u001b[0m \u001b[0;32mNone\u001b[0m\u001b[0;34m\u001b[0m\u001b[0;34m\u001b[0m\u001b[0m\n\u001b[1;32m     63\u001b[0m     \u001b[0;32mtry\u001b[0m\u001b[0;34m:\u001b[0m\u001b[0;34m\u001b[0m\u001b[0;34m\u001b[0m\u001b[0m\n\u001b[0;32m---> 64\u001b[0;31m       \u001b[0;32mreturn\u001b[0m \u001b[0mfn\u001b[0m\u001b[0;34m(\u001b[0m\u001b[0;34m*\u001b[0m\u001b[0margs\u001b[0m\u001b[0;34m,\u001b[0m \u001b[0;34m**\u001b[0m\u001b[0mkwargs\u001b[0m\u001b[0;34m)\u001b[0m\u001b[0;34m\u001b[0m\u001b[0;34m\u001b[0m\u001b[0m\n\u001b[0m\u001b[1;32m     65\u001b[0m     \u001b[0;32mexcept\u001b[0m \u001b[0mException\u001b[0m \u001b[0;32mas\u001b[0m \u001b[0me\u001b[0m\u001b[0;34m:\u001b[0m  \u001b[0;31m# pylint: disable=broad-except\u001b[0m\u001b[0;34m\u001b[0m\u001b[0;34m\u001b[0m\u001b[0m\n\u001b[1;32m     66\u001b[0m       \u001b[0mfiltered_tb\u001b[0m \u001b[0;34m=\u001b[0m \u001b[0m_process_traceback_frames\u001b[0m\u001b[0;34m(\u001b[0m\u001b[0me\u001b[0m\u001b[0;34m.\u001b[0m\u001b[0m__traceback__\u001b[0m\u001b[0;34m)\u001b[0m\u001b[0;34m\u001b[0m\u001b[0;34m\u001b[0m\u001b[0m\n",
            "\u001b[0;32m/usr/local/lib/python3.7/dist-packages/keras/engine/training.py\u001b[0m in \u001b[0;36mfit\u001b[0;34m(self, x, y, batch_size, epochs, verbose, callbacks, validation_split, validation_data, shuffle, class_weight, sample_weight, initial_epoch, steps_per_epoch, validation_steps, validation_batch_size, validation_freq, max_queue_size, workers, use_multiprocessing)\u001b[0m\n\u001b[1;32m   1214\u001b[0m                 _r=1):\n\u001b[1;32m   1215\u001b[0m               \u001b[0mcallbacks\u001b[0m\u001b[0;34m.\u001b[0m\u001b[0mon_train_batch_begin\u001b[0m\u001b[0;34m(\u001b[0m\u001b[0mstep\u001b[0m\u001b[0;34m)\u001b[0m\u001b[0;34m\u001b[0m\u001b[0;34m\u001b[0m\u001b[0m\n\u001b[0;32m-> 1216\u001b[0;31m               \u001b[0mtmp_logs\u001b[0m \u001b[0;34m=\u001b[0m \u001b[0mself\u001b[0m\u001b[0;34m.\u001b[0m\u001b[0mtrain_function\u001b[0m\u001b[0;34m(\u001b[0m\u001b[0miterator\u001b[0m\u001b[0;34m)\u001b[0m\u001b[0;34m\u001b[0m\u001b[0;34m\u001b[0m\u001b[0m\n\u001b[0m\u001b[1;32m   1217\u001b[0m               \u001b[0;32mif\u001b[0m \u001b[0mdata_handler\u001b[0m\u001b[0;34m.\u001b[0m\u001b[0mshould_sync\u001b[0m\u001b[0;34m:\u001b[0m\u001b[0;34m\u001b[0m\u001b[0;34m\u001b[0m\u001b[0m\n\u001b[1;32m   1218\u001b[0m                 \u001b[0mcontext\u001b[0m\u001b[0;34m.\u001b[0m\u001b[0masync_wait\u001b[0m\u001b[0;34m(\u001b[0m\u001b[0;34m)\u001b[0m\u001b[0;34m\u001b[0m\u001b[0;34m\u001b[0m\u001b[0m\n",
            "\u001b[0;32m/usr/local/lib/python3.7/dist-packages/tensorflow/python/util/traceback_utils.py\u001b[0m in \u001b[0;36merror_handler\u001b[0;34m(*args, **kwargs)\u001b[0m\n\u001b[1;32m    148\u001b[0m     \u001b[0mfiltered_tb\u001b[0m \u001b[0;34m=\u001b[0m \u001b[0;32mNone\u001b[0m\u001b[0;34m\u001b[0m\u001b[0;34m\u001b[0m\u001b[0m\n\u001b[1;32m    149\u001b[0m     \u001b[0;32mtry\u001b[0m\u001b[0;34m:\u001b[0m\u001b[0;34m\u001b[0m\u001b[0;34m\u001b[0m\u001b[0m\n\u001b[0;32m--> 150\u001b[0;31m       \u001b[0;32mreturn\u001b[0m \u001b[0mfn\u001b[0m\u001b[0;34m(\u001b[0m\u001b[0;34m*\u001b[0m\u001b[0margs\u001b[0m\u001b[0;34m,\u001b[0m \u001b[0;34m**\u001b[0m\u001b[0mkwargs\u001b[0m\u001b[0;34m)\u001b[0m\u001b[0;34m\u001b[0m\u001b[0;34m\u001b[0m\u001b[0m\n\u001b[0m\u001b[1;32m    151\u001b[0m     \u001b[0;32mexcept\u001b[0m \u001b[0mException\u001b[0m \u001b[0;32mas\u001b[0m \u001b[0me\u001b[0m\u001b[0;34m:\u001b[0m\u001b[0;34m\u001b[0m\u001b[0;34m\u001b[0m\u001b[0m\n\u001b[1;32m    152\u001b[0m       \u001b[0mfiltered_tb\u001b[0m \u001b[0;34m=\u001b[0m \u001b[0m_process_traceback_frames\u001b[0m\u001b[0;34m(\u001b[0m\u001b[0me\u001b[0m\u001b[0;34m.\u001b[0m\u001b[0m__traceback__\u001b[0m\u001b[0;34m)\u001b[0m\u001b[0;34m\u001b[0m\u001b[0;34m\u001b[0m\u001b[0m\n",
            "\u001b[0;32m/usr/local/lib/python3.7/dist-packages/tensorflow/python/eager/def_function.py\u001b[0m in \u001b[0;36m__call__\u001b[0;34m(self, *args, **kwds)\u001b[0m\n\u001b[1;32m    908\u001b[0m \u001b[0;34m\u001b[0m\u001b[0m\n\u001b[1;32m    909\u001b[0m       \u001b[0;32mwith\u001b[0m \u001b[0mOptionalXlaContext\u001b[0m\u001b[0;34m(\u001b[0m\u001b[0mself\u001b[0m\u001b[0;34m.\u001b[0m\u001b[0m_jit_compile\u001b[0m\u001b[0;34m)\u001b[0m\u001b[0;34m:\u001b[0m\u001b[0;34m\u001b[0m\u001b[0;34m\u001b[0m\u001b[0m\n\u001b[0;32m--> 910\u001b[0;31m         \u001b[0mresult\u001b[0m \u001b[0;34m=\u001b[0m \u001b[0mself\u001b[0m\u001b[0;34m.\u001b[0m\u001b[0m_call\u001b[0m\u001b[0;34m(\u001b[0m\u001b[0;34m*\u001b[0m\u001b[0margs\u001b[0m\u001b[0;34m,\u001b[0m \u001b[0;34m**\u001b[0m\u001b[0mkwds\u001b[0m\u001b[0;34m)\u001b[0m\u001b[0;34m\u001b[0m\u001b[0;34m\u001b[0m\u001b[0m\n\u001b[0m\u001b[1;32m    911\u001b[0m \u001b[0;34m\u001b[0m\u001b[0m\n\u001b[1;32m    912\u001b[0m       \u001b[0mnew_tracing_count\u001b[0m \u001b[0;34m=\u001b[0m \u001b[0mself\u001b[0m\u001b[0;34m.\u001b[0m\u001b[0mexperimental_get_tracing_count\u001b[0m\u001b[0;34m(\u001b[0m\u001b[0;34m)\u001b[0m\u001b[0;34m\u001b[0m\u001b[0;34m\u001b[0m\u001b[0m\n",
            "\u001b[0;32m/usr/local/lib/python3.7/dist-packages/tensorflow/python/eager/def_function.py\u001b[0m in \u001b[0;36m_call\u001b[0;34m(self, *args, **kwds)\u001b[0m\n\u001b[1;32m    940\u001b[0m       \u001b[0;31m# In this case we have created variables on the first call, so we run the\u001b[0m\u001b[0;34m\u001b[0m\u001b[0;34m\u001b[0m\u001b[0;34m\u001b[0m\u001b[0m\n\u001b[1;32m    941\u001b[0m       \u001b[0;31m# defunned version which is guaranteed to never create variables.\u001b[0m\u001b[0;34m\u001b[0m\u001b[0;34m\u001b[0m\u001b[0;34m\u001b[0m\u001b[0m\n\u001b[0;32m--> 942\u001b[0;31m       \u001b[0;32mreturn\u001b[0m \u001b[0mself\u001b[0m\u001b[0;34m.\u001b[0m\u001b[0m_stateless_fn\u001b[0m\u001b[0;34m(\u001b[0m\u001b[0;34m*\u001b[0m\u001b[0margs\u001b[0m\u001b[0;34m,\u001b[0m \u001b[0;34m**\u001b[0m\u001b[0mkwds\u001b[0m\u001b[0;34m)\u001b[0m  \u001b[0;31m# pylint: disable=not-callable\u001b[0m\u001b[0;34m\u001b[0m\u001b[0;34m\u001b[0m\u001b[0m\n\u001b[0m\u001b[1;32m    943\u001b[0m     \u001b[0;32melif\u001b[0m \u001b[0mself\u001b[0m\u001b[0;34m.\u001b[0m\u001b[0m_stateful_fn\u001b[0m \u001b[0;32mis\u001b[0m \u001b[0;32mnot\u001b[0m \u001b[0;32mNone\u001b[0m\u001b[0;34m:\u001b[0m\u001b[0;34m\u001b[0m\u001b[0;34m\u001b[0m\u001b[0m\n\u001b[1;32m    944\u001b[0m       \u001b[0;31m# Release the lock early so that multiple threads can perform the call\u001b[0m\u001b[0;34m\u001b[0m\u001b[0;34m\u001b[0m\u001b[0;34m\u001b[0m\u001b[0m\n",
            "\u001b[0;32m/usr/local/lib/python3.7/dist-packages/tensorflow/python/eager/function.py\u001b[0m in \u001b[0;36m__call__\u001b[0;34m(self, *args, **kwargs)\u001b[0m\n\u001b[1;32m   3129\u001b[0m        filtered_flat_args) = self._maybe_define_function(args, kwargs)\n\u001b[1;32m   3130\u001b[0m     return graph_function._call_flat(\n\u001b[0;32m-> 3131\u001b[0;31m         filtered_flat_args, captured_inputs=graph_function.captured_inputs)  # pylint: disable=protected-access\n\u001b[0m\u001b[1;32m   3132\u001b[0m \u001b[0;34m\u001b[0m\u001b[0m\n\u001b[1;32m   3133\u001b[0m   \u001b[0;34m@\u001b[0m\u001b[0mproperty\u001b[0m\u001b[0;34m\u001b[0m\u001b[0;34m\u001b[0m\u001b[0m\n",
            "\u001b[0;32m/usr/local/lib/python3.7/dist-packages/tensorflow/python/eager/function.py\u001b[0m in \u001b[0;36m_call_flat\u001b[0;34m(self, args, captured_inputs, cancellation_manager)\u001b[0m\n\u001b[1;32m   1958\u001b[0m       \u001b[0;31m# No tape is watching; skip to running the function.\u001b[0m\u001b[0;34m\u001b[0m\u001b[0;34m\u001b[0m\u001b[0;34m\u001b[0m\u001b[0m\n\u001b[1;32m   1959\u001b[0m       return self._build_call_outputs(self._inference_function.call(\n\u001b[0;32m-> 1960\u001b[0;31m           ctx, args, cancellation_manager=cancellation_manager))\n\u001b[0m\u001b[1;32m   1961\u001b[0m     forward_backward = self._select_forward_and_backward_functions(\n\u001b[1;32m   1962\u001b[0m         \u001b[0margs\u001b[0m\u001b[0;34m,\u001b[0m\u001b[0;34m\u001b[0m\u001b[0;34m\u001b[0m\u001b[0m\n",
            "\u001b[0;32m/usr/local/lib/python3.7/dist-packages/tensorflow/python/eager/function.py\u001b[0m in \u001b[0;36mcall\u001b[0;34m(self, ctx, args, cancellation_manager)\u001b[0m\n\u001b[1;32m    601\u001b[0m               \u001b[0minputs\u001b[0m\u001b[0;34m=\u001b[0m\u001b[0margs\u001b[0m\u001b[0;34m,\u001b[0m\u001b[0;34m\u001b[0m\u001b[0;34m\u001b[0m\u001b[0m\n\u001b[1;32m    602\u001b[0m               \u001b[0mattrs\u001b[0m\u001b[0;34m=\u001b[0m\u001b[0mattrs\u001b[0m\u001b[0;34m,\u001b[0m\u001b[0;34m\u001b[0m\u001b[0;34m\u001b[0m\u001b[0m\n\u001b[0;32m--> 603\u001b[0;31m               ctx=ctx)\n\u001b[0m\u001b[1;32m    604\u001b[0m         \u001b[0;32melse\u001b[0m\u001b[0;34m:\u001b[0m\u001b[0;34m\u001b[0m\u001b[0;34m\u001b[0m\u001b[0m\n\u001b[1;32m    605\u001b[0m           outputs = execute.execute_with_cancellation(\n",
            "\u001b[0;32m/usr/local/lib/python3.7/dist-packages/tensorflow/python/eager/execute.py\u001b[0m in \u001b[0;36mquick_execute\u001b[0;34m(op_name, num_outputs, inputs, attrs, ctx, name)\u001b[0m\n\u001b[1;32m     57\u001b[0m     \u001b[0mctx\u001b[0m\u001b[0;34m.\u001b[0m\u001b[0mensure_initialized\u001b[0m\u001b[0;34m(\u001b[0m\u001b[0;34m)\u001b[0m\u001b[0;34m\u001b[0m\u001b[0;34m\u001b[0m\u001b[0m\n\u001b[1;32m     58\u001b[0m     tensors = pywrap_tfe.TFE_Py_Execute(ctx._handle, device_name, op_name,\n\u001b[0;32m---> 59\u001b[0;31m                                         inputs, attrs, num_outputs)\n\u001b[0m\u001b[1;32m     60\u001b[0m   \u001b[0;32mexcept\u001b[0m \u001b[0mcore\u001b[0m\u001b[0;34m.\u001b[0m\u001b[0m_NotOkStatusException\u001b[0m \u001b[0;32mas\u001b[0m \u001b[0me\u001b[0m\u001b[0;34m:\u001b[0m\u001b[0;34m\u001b[0m\u001b[0;34m\u001b[0m\u001b[0m\n\u001b[1;32m     61\u001b[0m     \u001b[0;32mif\u001b[0m \u001b[0mname\u001b[0m \u001b[0;32mis\u001b[0m \u001b[0;32mnot\u001b[0m \u001b[0;32mNone\u001b[0m\u001b[0;34m:\u001b[0m\u001b[0;34m\u001b[0m\u001b[0;34m\u001b[0m\u001b[0m\n",
            "\u001b[0;31mKeyboardInterrupt\u001b[0m: "
          ]
        }
      ]
    },
    {
      "cell_type": "code",
      "metadata": {
        "id": "hW0Yoa5Dsw9f"
      },
      "source": [
        "print(model.evaluate(X_test, y_test))"
      ],
      "execution_count": null,
      "outputs": []
    },
    {
      "cell_type": "code",
      "metadata": {
        "id": "RAQw44ELsyDk"
      },
      "source": [
        "# Plotting train_loss vs val_loss\n",
        "plt.figure(figsize = (10, 5))\n",
        "plt.plot(result.history[\"loss\"], label = \"loss\")\n",
        "plt.plot(result.history[\"val_loss\"], label = \"val_loss\")\n",
        "plt.title(\"Training Loss and Validation Loss\")\n",
        "plt.xlabel(\"Epoch\")\n",
        "plt.ylabel(\"Training/Validation Loss\")\n",
        "plt.legend()\n",
        "\n",
        "# Plotting train_accuracy vs Val_accuracy\n",
        "plt.figure(figsize = (10, 5))\n",
        "plt.plot(result.history[\"accuracy\"], label = \"accuracy\")\n",
        "plt.plot(result.history[\"val_accuracy\"], label = \"val_accuracy\")\n",
        "plt.title(\"Training Accuracy and Validation Accuracy\")\n",
        "plt.xlabel(\"Epoch\")\n",
        "plt.ylabel(\"Training/Validation Accuracy\")\n",
        "plt.legend(loc = \"upper left\")"
      ],
      "execution_count": null,
      "outputs": []
    },
    {
      "cell_type": "code",
      "metadata": {
        "id": "e4Lx5LK7szOb"
      },
      "source": [
        "i = 4\n",
        "print(X_test[i])\n",
        "\n",
        "print(\"Predict : {}\".format(int(np.round(model.predict(np.reshape(X_test[i], (1, X_test[i].shape[0], 3))))))) # Predict\n",
        "print(\"Actual : {}\".format(y_test[i])) # Actual"
      ],
      "execution_count": null,
      "outputs": []
    },
    {
      "cell_type": "code",
      "metadata": {
        "id": "YwT2P9XXs0Wk"
      },
      "source": [
        "#Prediction:\n",
        "target_names = [\"UNSUBSCRIBE\", \"SUBSCRIBE\"]\n",
        "\n",
        "predict = np.reshape(np.round(model.predict(X_test)).astype(int), (X_test.shape[0]))\n",
        "    \n",
        "print(\"Confusion Matrix\")\n",
        "cm = confusion_matrix(y_test, predict)\n",
        "print(cm)\n",
        "    \n",
        "# show the accuracy, sensitivity, and specificity  \n",
        "total = sum(sum(cm))  \n",
        "acc = (cm[0][0] + cm[1][1]) / total\n",
        "print(\"acc: {:.4f}\".format(acc))\n",
        "sensitivity = cm[0][0] / (cm[0][0] + cm[0][1])\n",
        "print(\"{} sensitivity: {:.4f}\".format(target_names[0], sensitivity))\n",
        "sensitivity = cm[1][1] / (cm[1][0] + cm[1][1])\n",
        "print(\"{} sensitivity: {:.4f}\".format(target_names[1], sensitivity))\n",
        "\n",
        "print(\"Classification Report\")\n",
        "print(classification_report(y_test, predict, target_names = target_names))"
      ],
      "execution_count": null,
      "outputs": []
    },
    {
      "cell_type": "markdown",
      "metadata": {
        "id": "5SrJrUmfoCEK"
      },
      "source": [
        "#### Multiple Input"
      ]
    },
    {
      "cell_type": "code",
      "metadata": {
        "colab": {
          "base_uri": "https://localhost:8080/",
          "height": 140
        },
        "id": "G_QGzQUlKuVj",
        "outputId": "02a375ca-ec5d-416d-884b-d2c882e9261e"
      },
      "source": [
        "'''\n",
        "# billing status\n",
        "0 : ZERO BILLING\n",
        "1 : UNPAID\n",
        "2 : PAID\n",
        "\n",
        "# paket radius\n",
        "0 -\n",
        "1 HSSP4\n",
        "2 INET L15H\n",
        "3 INET L50H\n",
        "4 INET PERSO\n",
        "5 INET SOD\n",
        "6 INET TBS15\n",
        "7 INET U1M\n",
        "8 INET U2M\n",
        "9 INET U384K\n",
        "10 INET U384R\n",
        "11 INET U3M\n",
        "12 INET U512K\n",
        "13 INET U512R\n",
        "14 INET1000H\n",
        "15 INET1000S\n",
        "16 INET10M\n",
        "17 INET10Q050\n",
        "18 INET10Q10\n",
        "19 INET10Q100\n",
        "20 INET10Q20\n",
        "21 INET10Q50\n",
        "22 INET512RH\n",
        "23 INETBHOME\n",
        "24 INETC100M\n",
        "25 INETC10M\n",
        "26 INETC20M\n",
        "27 INETC50M\n",
        "28 INETF100M\n",
        "29 INETF10M\n",
        "30 INETF10ML\n",
        "31 INETF200M\n",
        "32 INETF20M\n",
        "33 INETF300M\n",
        "34 INETF30M\n",
        "35 INETF40M\n",
        "36 INETF50M\n",
        "37 INETFL10M\n",
        "38 INETFL20M\n",
        "39 INETFL30M\n",
        "40 INETFL40M\n",
        "41 INETFN100M\n",
        "42 INETFN10M\n",
        "43 INETFN20M\n",
        "44 INETFN30M\n",
        "45 INETFN40M\n",
        "46 INETFN50M\n",
        "47 INETG10M\n",
        "48 INETG1M\n",
        "49 INETG3M\n",
        "50 INETG512K\n",
        "51 INETHYBRID\n",
        "52 INETLOY10\n",
        "53 INETLOY100\n",
        "54 INETLOY20\n",
        "55 INETLOY200\n",
        "56 INETLOY30\n",
        "57 INETLOY300\n",
        "58 INETLOY40\n",
        "59 INETLOY50\n",
        "60 INETMBQ50\n",
        "61 INETMBSP10\n",
        "62 INETNLOY10\n",
        "63 INETNLOY100\n",
        "64 INETNLOY20\n",
        "65 INETNLOY200\n",
        "66 INETNLOY30\n",
        "67 INETNLOY300\n",
        "68 INETNLOY40\n",
        "69 INETNLOY50\n",
        "70 INETNLOYL10\n",
        "71 INETNLOYL20\n",
        "72 INETOFFIC\n",
        "73 INETP50M\n",
        "74 INETR10M\n",
        "75 INETR1M\n",
        "76 INETR20M\n",
        "77 INETR2M\n",
        "78 INETR3M\n",
        "79 INETR50M\n",
        "80 INETR512K\n",
        "81 INETR5M\n",
        "82 INETSS10M\n",
        "83 INETSS1M\n",
        "84 INETSS2M\n",
        "85 INETSS3M\n",
        "86 INETSSQ100\n",
        "87 INETSSQ20\n",
        "88 INETSSQ5\n",
        "89 INETSSQ50\n",
        "90 INETTBASE\n",
        "91 INET_1MB_H\n",
        "92 INET_2MB_H\n",
        "93 INET_3MB_H\n",
        "'''"
      ],
      "execution_count": 68,
      "outputs": [
        {
          "output_type": "execute_result",
          "data": {
            "application/vnd.google.colaboratory.intrinsic+json": {
              "type": "string"
            },
            "text/plain": [
              "'\\n# billing status\\n0 : ZERO BILLING\\n1 : UNPAID\\n2 : PAID\\n\\n# paket radius\\n0 -\\n1 HSSP4\\n2 INET L15H\\n3 INET L50H\\n4 INET PERSO\\n5 INET SOD\\n6 INET TBS15\\n7 INET U1M\\n8 INET U2M\\n9 INET U384K\\n10 INET U384R\\n11 INET U3M\\n12 INET U512K\\n13 INET U512R\\n14 INET1000H\\n15 INET1000S\\n16 INET10M\\n17 INET10Q050\\n18 INET10Q10\\n19 INET10Q100\\n20 INET10Q20\\n21 INET10Q50\\n22 INET512RH\\n23 INETBHOME\\n24 INETC100M\\n25 INETC10M\\n26 INETC20M\\n27 INETC50M\\n28 INETF100M\\n29 INETF10M\\n30 INETF10ML\\n31 INETF200M\\n32 INETF20M\\n33 INETF300M\\n34 INETF30M\\n35 INETF40M\\n36 INETF50M\\n37 INETFL10M\\n38 INETFL20M\\n39 INETFL30M\\n40 INETFL40M\\n41 INETFN100M\\n42 INETFN10M\\n43 INETFN20M\\n44 INETFN30M\\n45 INETFN40M\\n46 INETFN50M\\n47 INETG10M\\n48 INETG1M\\n49 INETG3M\\n50 INETG512K\\n51 INETHYBRID\\n52 INETLOY10\\n53 INETLOY100\\n54 INETLOY20\\n55 INETLOY200\\n56 INETLOY30\\n57 INETLOY300\\n58 INETLOY40\\n59 INETLOY50\\n60 INETMBQ50\\n61 INETMBSP10\\n62 INETNLOY10\\n63 INETNLOY100\\n64 INETNLOY20\\n65 INETNLOY200\\n66 INETNLOY30\\n67 INETNLOY300\\n68 INETNLOY40\\n69 INETNLOY50\\n70 INETNLOYL10\\n71 INETNLOYL20\\n72 INETOFFIC\\n73 INETP50M\\n74 INETR10M\\n75 INETR1M\\n76 INETR20M\\n77 INETR2M\\n78 INETR3M\\n79 INETR50M\\n80 INETR512K\\n81 INETR5M\\n82 INETSS10M\\n83 INETSS1M\\n84 INETSS2M\\n85 INETSS3M\\n86 INETSSQ100\\n87 INETSSQ20\\n88 INETSSQ5\\n89 INETSSQ50\\n90 INETTBASE\\n91 INET_1MB_H\\n92 INET_2MB_H\\n93 INET_3MB_H\\n'"
            ]
          },
          "metadata": {},
          "execution_count": 68
        }
      ]
    },
    {
      "cell_type": "code",
      "metadata": {
        "colab": {
          "base_uri": "https://localhost:8080/"
        },
        "id": "4T72k4DQoBm9",
        "outputId": "7fb9ad69-ed97-4820-fd22-d1cd071b9424"
      },
      "source": [
        "from sklearn.compose import ColumnTransformer\n",
        "from sklearn.preprocessing import OneHotEncoder\n",
        "\n",
        "df_temp = df.copy()\n",
        "df_temp.loc[(df_temp[\"billing_1_status\"] == \"CT0\") | (df_temp[\"billing_1_status\"] == \"ZERO BILLING\") | ((df_temp[\"billing_2_status\"] == \"UNPAID\") & (df_temp[\"billing_1_status\"] == \"UNPAID\")), \"subscribe_status\"] = \"UNSUBSCRIBE\"\n",
        "df_temp[\"subscribe_status\"] = df_temp[\"subscribe_status\"].fillna(\"SUBSCRIBE\")\n",
        "for month in [2, 3, 4, 5, 6, 7, 8, 9, 10, 11]:\n",
        "    df_temp[[\"billing_{}_status\".format(month)]] = df_temp[\"billing_{}_status\".format(month)].apply(lambda x: 0 if x == \"ZERO BILLING\" else (1 if x == \"UNPAID\" else 2))\n",
        "dat1 = df_temp[[\"billing_11_amountTotal\",\n",
        "                \"billing_10_amountTotal\",\n",
        "                \"billing_9_amountTotal\",\n",
        "                \"billing_8_amountTotal\",\n",
        "                \"billing_7_amountTotal\",\n",
        "                \"billing_6_amountTotal\",\n",
        "                \"billing_5_amountTotal\",\n",
        "                \"billing_4_amountTotal\",\n",
        "                \"billing_3_amountTotal\"]].values\n",
        "dat2 = df_temp[[\"billing_11_status\",\n",
        "                \"billing_10_status\",\n",
        "                \"billing_9_status\",\n",
        "                \"billing_8_status\",\n",
        "                \"billing_7_status\",\n",
        "                \"billing_6_status\",\n",
        "                \"billing_5_status\",\n",
        "                \"billing_4_status\",\n",
        "                \"billing_3_status\"]].values\n",
        "dat3 = df_temp[[\"billing_11_paymentDate\",\n",
        "                \"billing_10_paymentDate\",\n",
        "                \"billing_9_paymentDate\",\n",
        "                \"billing_8_paymentDate\",\n",
        "                \"billing_7_paymentDate\",\n",
        "                \"billing_6_paymentDate\",\n",
        "                \"billing_5_paymentDate\",\n",
        "                \"billing_4_paymentDate\",\n",
        "                \"billing_3_paymentDate\"]].values\n",
        "encoder = OneHotEncoder(sparse = False)\n",
        "dat4 = encoder.fit_transform(df_temp[[\"gladius.paketradius\"]])\n",
        "\n",
        "                \n",
        "y = df_temp[\"subscribe_status\"].apply(lambda x: 0 if x == \"UNSUBSCRIBE\" else 1).values\n",
        "\n",
        "data = []\n",
        "for i in range(dat1.shape[0]):\n",
        "    b = []\n",
        "    for j in range(dat1.shape[1]):\n",
        "        c = []\n",
        "        c.append(dat1[i][j])\n",
        "        c.append(dat2[i][j])\n",
        "        c.append(dat3[i][j])\n",
        "        c.append(dat4[i])\n",
        "        c.append(y[i])\n",
        "        b.append(c)\n",
        "    data.append(b)\n",
        "data = np.array(data)\n",
        "\n",
        "#print(data)\n",
        "#print(y)"
      ],
      "execution_count": 98,
      "outputs": [
        {
          "output_type": "stream",
          "name": "stderr",
          "text": [
            "/usr/local/lib/python3.7/dist-packages/ipykernel_launcher.py:54: VisibleDeprecationWarning: Creating an ndarray from ragged nested sequences (which is a list-or-tuple of lists-or-tuples-or ndarrays with different lengths or shapes) is deprecated. If you meant to do this, you must specify 'dtype=object' when creating the ndarray\n"
          ]
        }
      ]
    },
    {
      "cell_type": "code",
      "metadata": {
        "id": "SIdqA40yoHTz"
      },
      "source": [
        "from imblearn.over_sampling import RandomOverSampler\n",
        "\n",
        "ros = RandomOverSampler(random_state = 42)\n",
        "data, temp = ros.fit_resample(np.reshape(data, (data.shape[0], -1)), np.reshape(df_temp[[\"billing_3_status\"]].values, df_temp[[\"billing_3_status\"]].values.shape[0]))\n",
        "data, temp = ros.fit_resample(data, np.reshape(data, (data.shape[0], 9, 5))[:, :, 4][:, 0].astype(int))\n",
        "data = np.reshape(data, (data.shape[0], 9, 5))\n",
        "y = data[:, :, 4][:, 0].astype(int)\n",
        "data = data[:, :, 0:4]"
      ],
      "execution_count": 99,
      "outputs": []
    },
    {
      "cell_type": "code",
      "metadata": {
        "id": "eLLEdDanoMMT"
      },
      "source": [
        "from sklearn.model_selection import train_test_split\n",
        "\n",
        "training_set, test_set, training_label, test_label = train_test_split(data, y, \n",
        "                                                                      test_size = 0.2, \n",
        "                                                                      random_state = 42,\n",
        "                                                                      stratify = y)\n",
        "\n",
        "from sklearn.preprocessing import StandardScaler\n",
        "\n",
        "sc = StandardScaler()\n",
        "training_set[:, :, 0] = sc.fit_transform(training_set[:, :, 0])\n",
        "test_set[:, :, 0] = sc.transform(test_set[:, :, 0])\n",
        "\n",
        "X_train, X_test = training_set, test_set\n",
        "y_train, y_test = training_label, test_label\n",
        "X_train, y_train = np.array(X_train), np.array(y_train)\n",
        "X_test, y_test = np.array(X_test), np.array(y_test)\n",
        "\n",
        "X_train = np.reshape(X_train, (X_train.shape[0], X_train.shape[1], 4))\n",
        "X_test = np.reshape(X_test, (X_test.shape[0], X_test.shape[1], 4))\n",
        "\n",
        "X_train2 = X_train[:, 0, 3]\n",
        "X_test2 = X_test[:, 0, 3]\n",
        "X_train = X_train[:, :, 0:3].astype(float)\n",
        "X_test = X_test[:, :, 0:3].astype(float)"
      ],
      "execution_count": 102,
      "outputs": []
    },
    {
      "cell_type": "code",
      "metadata": {
        "id": "Dcz6R03nxZDj"
      },
      "source": [
        "list_a = []\n",
        "for i in range(X_train2.shape[0]):\n",
        "    list_a.append(list(X_train2[i]))\n",
        "X_train2 = np.array(list_a)\n",
        "\n",
        "list_b = []\n",
        "for i in range(X_test2.shape[0]):\n",
        "    list_b.append(list(X_test2[i]))\n",
        "X_test2 = np.array(list_b)"
      ],
      "execution_count": 103,
      "outputs": []
    },
    {
      "cell_type": "code",
      "metadata": {
        "colab": {
          "base_uri": "https://localhost:8080/"
        },
        "id": "LoyuXT7DoQms",
        "outputId": "2fb89051-7ad6-40f0-9b00-cbe9af5bdbae"
      },
      "source": [
        "# define two sets of inputs\n",
        "inputA = tf.keras.layers.Input(shape = (X_train.shape[1], 3))\n",
        "inputB = tf.keras.layers.Input(shape = (94))\n",
        "\n",
        "# the first branch operates on the first input\n",
        "x = tf.keras.layers.LSTM(units = 8, return_sequences = True, dropout = 0.2)(inputA)\n",
        "x = tf.keras.layers.LSTM(units = 8, return_sequences = True, dropout = 0.2)(x)\n",
        "x = tf.keras.layers.LSTM(units = 8, return_sequences = True, dropout = 0.2)(x)\n",
        "x = tf.keras.layers.LSTM(units = 8, dropout = 0.2)(x)\n",
        "#x = tf.keras.layers.Flatten()(x)\n",
        "#x = tf.keras.layers.Dense(8, activation = \"relu\")(x)\n",
        "x = tf.keras.Model(inputs = inputA, outputs = x)\n",
        "\n",
        "# the second branch opreates on the second input\n",
        "y = tf.keras.layers.Dense(128, activation = \"relu\")(inputB)\n",
        "y = tf.keras.layers.Dense(32, activation = \"relu\")(y)\n",
        "y = tf.keras.layers.Dense(8, activation = \"relu\")(y)\n",
        "y = tf.keras.Model(inputs = inputB, outputs = y)\n",
        "\n",
        "# combine the output of the two branches\n",
        "combined = tf.keras.layers.concatenate([x.output, y.output])\n",
        "\n",
        "#x = tf.keras.layers.Dense(128, activation = \"relu\")(inputs)\n",
        "z = tf.keras.layers.Dense(128, activation = \"relu\")(combined)\n",
        "z = tf.keras.layers.Dense(32, activation = \"relu\")(z)\n",
        "z = tf.keras.layers.Dense(1, activation = \"sigmoid\")(z)\n",
        "#model = tf.keras.Model(inputs, x)\n",
        "model = tf.keras.Model(inputs = [x.input, y.input], outputs = z)\n",
        "\n",
        "model.compile(optimizer = \"adam\",\n",
        "              loss = \"binary_crossentropy\",\n",
        "              metrics = [\"accuracy\"])\n",
        "\n",
        "model.summary()"
      ],
      "execution_count": 105,
      "outputs": [
        {
          "output_type": "stream",
          "name": "stdout",
          "text": [
            "Model: \"model_5\"\n",
            "__________________________________________________________________________________________________\n",
            " Layer (type)                   Output Shape         Param #     Connected to                     \n",
            "==================================================================================================\n",
            " input_3 (InputLayer)           [(None, 9, 3)]       0           []                               \n",
            "                                                                                                  \n",
            " lstm_4 (LSTM)                  (None, 9, 8)         384         ['input_3[0][0]']                \n",
            "                                                                                                  \n",
            " input_4 (InputLayer)           [(None, 94)]         0           []                               \n",
            "                                                                                                  \n",
            " lstm_5 (LSTM)                  (None, 9, 8)         544         ['lstm_4[0][0]']                 \n",
            "                                                                                                  \n",
            " dense_6 (Dense)                (None, 128)          12160       ['input_4[0][0]']                \n",
            "                                                                                                  \n",
            " lstm_6 (LSTM)                  (None, 9, 8)         544         ['lstm_5[0][0]']                 \n",
            "                                                                                                  \n",
            " dense_7 (Dense)                (None, 32)           4128        ['dense_6[0][0]']                \n",
            "                                                                                                  \n",
            " lstm_7 (LSTM)                  (None, 8)            544         ['lstm_6[0][0]']                 \n",
            "                                                                                                  \n",
            " dense_8 (Dense)                (None, 8)            264         ['dense_7[0][0]']                \n",
            "                                                                                                  \n",
            " concatenate_1 (Concatenate)    (None, 16)           0           ['lstm_7[0][0]',                 \n",
            "                                                                  'dense_8[0][0]']                \n",
            "                                                                                                  \n",
            " dense_9 (Dense)                (None, 128)          2176        ['concatenate_1[0][0]']          \n",
            "                                                                                                  \n",
            " dense_10 (Dense)               (None, 32)           4128        ['dense_9[0][0]']                \n",
            "                                                                                                  \n",
            " dense_11 (Dense)               (None, 1)            33          ['dense_10[0][0]']               \n",
            "                                                                                                  \n",
            "==================================================================================================\n",
            "Total params: 24,905\n",
            "Trainable params: 24,905\n",
            "Non-trainable params: 0\n",
            "__________________________________________________________________________________________________\n"
          ]
        }
      ]
    },
    {
      "cell_type": "code",
      "metadata": {
        "colab": {
          "base_uri": "https://localhost:8080/"
        },
        "id": "dCYQLTqHoTHC",
        "outputId": "492148d8-5fb8-4611-f826-d00d224ab52f"
      },
      "source": [
        "result = model.fit([X_train, X_train2], y_train,\n",
        "                   validation_data = ([X_test, X_test2], y_test), \n",
        "                   epochs = 100, \n",
        "                   batch_size = 32)"
      ],
      "execution_count": null,
      "outputs": [
        {
          "output_type": "stream",
          "name": "stdout",
          "text": [
            "Epoch 1/100\n",
            "10280/10280 [==============================] - 232s 22ms/step - loss: 0.5261 - accuracy: 0.7336 - val_loss: 0.4469 - val_accuracy: 0.7751\n",
            "Epoch 2/100\n",
            "10280/10280 [==============================] - 219s 21ms/step - loss: 0.4612 - accuracy: 0.7717 - val_loss: 0.4195 - val_accuracy: 0.7971\n",
            "Epoch 3/100\n",
            "10280/10280 [==============================] - 215s 21ms/step - loss: 0.4430 - accuracy: 0.7812 - val_loss: 0.4122 - val_accuracy: 0.8037\n",
            "Epoch 4/100\n",
            "10280/10280 [==============================] - 215s 21ms/step - loss: 0.4307 - accuracy: 0.7882 - val_loss: 0.3961 - val_accuracy: 0.8106\n",
            "Epoch 5/100\n",
            "10280/10280 [==============================] - 218s 21ms/step - loss: 0.4189 - accuracy: 0.7953 - val_loss: 0.4036 - val_accuracy: 0.8062\n",
            "Epoch 6/100\n",
            "10280/10280 [==============================] - 218s 21ms/step - loss: 0.4088 - accuracy: 0.8021 - val_loss: 0.3767 - val_accuracy: 0.8178\n",
            "Epoch 7/100\n",
            "10280/10280 [==============================] - 217s 21ms/step - loss: 0.4027 - accuracy: 0.8063 - val_loss: 0.3744 - val_accuracy: 0.8167\n",
            "Epoch 8/100\n",
            "10280/10280 [==============================] - 218s 21ms/step - loss: 0.3976 - accuracy: 0.8097 - val_loss: 0.3720 - val_accuracy: 0.8254\n",
            "Epoch 9/100\n",
            "10280/10280 [==============================] - 217s 21ms/step - loss: 0.3938 - accuracy: 0.8118 - val_loss: 0.3934 - val_accuracy: 0.8127\n",
            "Epoch 10/100\n",
            "10280/10280 [==============================] - 219s 21ms/step - loss: 0.3903 - accuracy: 0.8145 - val_loss: 0.3590 - val_accuracy: 0.8352\n",
            "Epoch 11/100\n",
            "10280/10280 [==============================] - 217s 21ms/step - loss: 0.3874 - accuracy: 0.8155 - val_loss: 0.3857 - val_accuracy: 0.8192\n",
            "Epoch 12/100\n",
            "10280/10280 [==============================] - 218s 21ms/step - loss: 0.3833 - accuracy: 0.8183 - val_loss: 0.3645 - val_accuracy: 0.8273\n",
            "Epoch 13/100\n",
            "10280/10280 [==============================] - 216s 21ms/step - loss: 0.3817 - accuracy: 0.8192 - val_loss: 0.3722 - val_accuracy: 0.8158\n",
            "Epoch 14/100\n",
            "10280/10280 [==============================] - 220s 21ms/step - loss: 0.3777 - accuracy: 0.8214 - val_loss: 0.3573 - val_accuracy: 0.8318\n",
            "Epoch 15/100\n",
            "10280/10280 [==============================] - 224s 22ms/step - loss: 0.3758 - accuracy: 0.8227 - val_loss: 0.3535 - val_accuracy: 0.8305\n",
            "Epoch 16/100\n",
            "10280/10280 [==============================] - 220s 21ms/step - loss: 0.3738 - accuracy: 0.8236 - val_loss: 0.3477 - val_accuracy: 0.8358\n",
            "Epoch 17/100\n",
            "10280/10280 [==============================] - 221s 21ms/step - loss: 0.3720 - accuracy: 0.8248 - val_loss: 0.3545 - val_accuracy: 0.8336\n",
            "Epoch 18/100\n",
            "10280/10280 [==============================] - 217s 21ms/step - loss: 0.3709 - accuracy: 0.8252 - val_loss: 0.3520 - val_accuracy: 0.8329\n",
            "Epoch 19/100\n",
            "10280/10280 [==============================] - 218s 21ms/step - loss: 0.3692 - accuracy: 0.8263 - val_loss: 0.3372 - val_accuracy: 0.8387\n",
            "Epoch 20/100\n",
            "10280/10280 [==============================] - 218s 21ms/step - loss: 0.3681 - accuracy: 0.8273 - val_loss: 0.3479 - val_accuracy: 0.8343\n",
            "Epoch 21/100\n",
            "10280/10280 [==============================] - 221s 22ms/step - loss: 0.3661 - accuracy: 0.8285 - val_loss: 0.3429 - val_accuracy: 0.8397\n",
            "Epoch 22/100\n",
            "10280/10280 [==============================] - 219s 21ms/step - loss: 0.3653 - accuracy: 0.8282 - val_loss: 0.3488 - val_accuracy: 0.8330\n",
            "Epoch 23/100\n",
            "10280/10280 [==============================] - 218s 21ms/step - loss: 0.3639 - accuracy: 0.8292 - val_loss: 0.3285 - val_accuracy: 0.8462\n",
            "Epoch 24/100\n",
            "10280/10280 [==============================] - 217s 21ms/step - loss: 0.3630 - accuracy: 0.8296 - val_loss: 0.3280 - val_accuracy: 0.8476\n",
            "Epoch 25/100\n",
            "10280/10280 [==============================] - 216s 21ms/step - loss: 0.3606 - accuracy: 0.8306 - val_loss: 0.3397 - val_accuracy: 0.8422\n",
            "Epoch 26/100\n",
            "10280/10280 [==============================] - 222s 22ms/step - loss: 0.3610 - accuracy: 0.8306 - val_loss: 0.3344 - val_accuracy: 0.8392\n",
            "Epoch 27/100\n",
            "10280/10280 [==============================] - 220s 21ms/step - loss: 0.3592 - accuracy: 0.8314 - val_loss: 0.3154 - val_accuracy: 0.8519\n",
            "Epoch 28/100\n",
            "10280/10280 [==============================] - 221s 21ms/step - loss: 0.3581 - accuracy: 0.8321 - val_loss: 0.3315 - val_accuracy: 0.8441\n",
            "Epoch 29/100\n",
            "10280/10280 [==============================] - 221s 22ms/step - loss: 0.3583 - accuracy: 0.8319 - val_loss: 0.3214 - val_accuracy: 0.8471\n",
            "Epoch 30/100\n",
            "10280/10280 [==============================] - 222s 22ms/step - loss: 0.3567 - accuracy: 0.8328 - val_loss: 0.3321 - val_accuracy: 0.8412\n",
            "Epoch 31/100\n",
            "10280/10280 [==============================] - 228s 22ms/step - loss: 0.3568 - accuracy: 0.8331 - val_loss: 0.3235 - val_accuracy: 0.8477\n",
            "Epoch 32/100\n",
            "10280/10280 [==============================] - 226s 22ms/step - loss: 0.3560 - accuracy: 0.8335 - val_loss: 0.3183 - val_accuracy: 0.8522\n",
            "Epoch 33/100\n",
            "10280/10280 [==============================] - 223s 22ms/step - loss: 0.3555 - accuracy: 0.8334 - val_loss: 0.3115 - val_accuracy: 0.8536\n",
            "Epoch 34/100\n",
            "10280/10280 [==============================] - 223s 22ms/step - loss: 0.3541 - accuracy: 0.8341 - val_loss: 0.3207 - val_accuracy: 0.8453\n",
            "Epoch 35/100\n",
            "  375/10280 [>.............................] - ETA: 3:16 - loss: 0.3512 - accuracy: 0.8362"
          ]
        }
      ]
    },
    {
      "cell_type": "code",
      "metadata": {
        "id": "t4ZvZ_TIsQPa"
      },
      "source": [
        "# Plotting train_loss vs val_loss\n",
        "plt.figure(figsize = (10, 5))\n",
        "plt.plot(result.history[\"loss\"], label = \"loss\")\n",
        "plt.plot(result.history[\"val_loss\"], label = \"val_loss\")\n",
        "plt.title(\"Training Loss and Validation Loss\")\n",
        "plt.xlabel(\"Epoch\")\n",
        "plt.ylabel(\"Training/Validation Loss\")\n",
        "plt.legend()\n",
        "\n",
        "# Plotting train_accuracy vs Val_accuracy\n",
        "plt.figure(figsize = (10, 5))\n",
        "plt.plot(result.history[\"accuracy\"], label = \"accuracy\")\n",
        "plt.plot(result.history[\"val_accuracy\"], label = \"val_accuracy\")\n",
        "plt.title(\"Training Accuracy and Validation Accuracy\")\n",
        "plt.xlabel(\"Epoch\")\n",
        "plt.ylabel(\"Training/Validation Accuracy\")\n",
        "plt.legend(loc = \"upper left\")"
      ],
      "execution_count": null,
      "outputs": []
    },
    {
      "cell_type": "code",
      "metadata": {
        "id": "x-IRPWr_p4WP"
      },
      "source": [
        "#model.save(\"model_IHZ.h5\")\n",
        "model = tf.keras.models.load_model(\"model_IHZ.h5\")"
      ],
      "execution_count": 48,
      "outputs": []
    },
    {
      "cell_type": "code",
      "metadata": {
        "colab": {
          "base_uri": "https://localhost:8080/"
        },
        "id": "eXs2xJ_qsP8T",
        "outputId": "f48dbc58-62f2-460b-9de2-9c8392acb3c6"
      },
      "source": [
        "print(model.evaluate([X_test, X_test2], y_test))"
      ],
      "execution_count": 49,
      "outputs": [
        {
          "output_type": "stream",
          "name": "stdout",
          "text": [
            "1775/1775 [==============================] - 12s 5ms/step - loss: 0.3363 - accuracy: 0.8030\n",
            "[0.33628544211387634, 0.802968442440033]\n"
          ]
        }
      ]
    },
    {
      "cell_type": "code",
      "metadata": {
        "colab": {
          "base_uri": "https://localhost:8080/"
        },
        "id": "Ag4RFTyJ_HDu",
        "outputId": "eb1c2ae3-e80e-447c-a326-e0faca487ce7"
      },
      "source": [
        "i = 0\n",
        "print(X_test[i])\n",
        "print(X_test2[i])\n",
        "\n",
        "print(\"Predict : {}\".format(model.predict([np.reshape(X_test[i], (1, X_test[i].shape[0], X_test[i].shape[1])), \n",
        "                                           np.reshape(X_test2[i], (1, X_test2[i].shape[0]))]))) # Predict\n",
        "print(\"Actual : {}\".format(y_test[i])) # Actual"
      ],
      "execution_count": 50,
      "outputs": [
        {
          "output_type": "stream",
          "name": "stdout",
          "text": [
            "[[ 0.78424772  2.         12.        ]\n",
            " [ 0.6924984   2.         19.        ]\n",
            " [ 0.24128189  2.         20.        ]\n",
            " [ 0.25599383  2.         22.        ]\n",
            " [ 0.63365671  2.         17.        ]\n",
            " [ 0.6009101   2.         17.        ]\n",
            " [ 0.08552314  2.          8.        ]\n",
            " [ 0.61461389  2.         13.        ]\n",
            " [ 1.36244609  2.         12.        ]]\n",
            "[0. 0. 0. 0. 0. 0. 0. 0. 0. 0. 0. 0. 0. 0. 0. 0. 0. 0. 0. 0. 0. 0. 0. 0.\n",
            " 0. 0. 0. 0. 0. 0. 0. 0. 0. 0. 0. 0. 0. 0. 0. 0. 0. 0. 0. 0. 0. 0. 0. 0.\n",
            " 0. 0. 0. 0. 0. 0. 0. 0. 0. 0. 0. 0. 0. 0. 0. 0. 1. 0. 0. 0. 0. 0. 0. 0.\n",
            " 0. 0. 0. 0. 0. 0. 0. 0. 0. 0. 0. 0. 0. 0. 0. 0. 0. 0. 0. 0. 0. 0.]\n",
            "Predict : [[0.43908793]]\n",
            "Actual : 0\n"
          ]
        }
      ]
    },
    {
      "cell_type": "code",
      "metadata": {
        "colab": {
          "base_uri": "https://localhost:8080/"
        },
        "id": "6wr_akeAsVqj",
        "outputId": "e62eec67-6abf-4686-9e0c-2c8ce49e9d42"
      },
      "source": [
        "#Prediction:\n",
        "target_names = [\"UNSUBSCRIBE\", \"SUBSCRIBE\"]\n",
        "\n",
        "predict = np.reshape(np.round(model.predict([X_test, X_test2])).astype(int), (X_test.shape[0]))\n",
        "    \n",
        "print(\"Confusion Matrix\")\n",
        "cm = confusion_matrix(y_test, predict)\n",
        "print(cm)\n",
        "    \n",
        "# show the accuracy, sensitivity, and specificity  \n",
        "total = sum(sum(cm))  \n",
        "acc = (cm[0][0] + cm[1][1]) / total\n",
        "print(\"acc: {:.4f}\".format(acc))\n",
        "sensitivity = cm[0][0] / (cm[0][0] + cm[0][1])\n",
        "print(\"{} sensitivity: {:.4f}\".format(target_names[0], sensitivity))\n",
        "sensitivity = cm[1][1] / (cm[1][0] + cm[1][1])\n",
        "print(\"{} sensitivity: {:.4f}\".format(target_names[1], sensitivity))\n",
        "\n",
        "print(\"Classification Report\")\n",
        "print(classification_report(y_test, predict, target_names = target_names))"
      ],
      "execution_count": 51,
      "outputs": [
        {
          "output_type": "stream",
          "name": "stdout",
          "text": [
            "Confusion Matrix\n",
            "[[37791  3327]\n",
            " [ 7864  7816]]\n",
            "acc: 0.8030\n",
            "UNSUBSCRIBE sensitivity: 0.9191\n",
            "SUBSCRIBE sensitivity: 0.4985\n",
            "Classification Report\n",
            "              precision    recall  f1-score   support\n",
            "\n",
            " UNSUBSCRIBE       0.83      0.92      0.87     41118\n",
            "   SUBSCRIBE       0.70      0.50      0.58     15680\n",
            "\n",
            "    accuracy                           0.80     56798\n",
            "   macro avg       0.76      0.71      0.73     56798\n",
            "weighted avg       0.79      0.80      0.79     56798\n",
            "\n"
          ]
        }
      ]
    },
    {
      "cell_type": "code",
      "metadata": {
        "colab": {
          "base_uri": "https://localhost:8080/",
          "height": 545
        },
        "id": "_o4pmInUq_Uf",
        "outputId": "d1c6b5f4-669e-47e8-f64b-702005a07864"
      },
      "source": [
        "target_names = [\"Churn\", \"Cenderung Churn\", \"Ragu-ragu\", \"Agak Loyal\", \"Loyal\"]\n",
        "churn = 0\n",
        "cenderung_churn = 0\n",
        "ragu_ragu = 0\n",
        "agak_loyal = 0\n",
        "loyal = 0\n",
        "list_predict = model.predict([X_test, X_test2])\n",
        "for i in list_predict:\n",
        "    if i[0] < 0.25:\n",
        "        churn += 1\n",
        "    elif i[0] >= 0.25 and i[0] < 0.45:\n",
        "        cenderung_churn += 1\n",
        "    elif i[0] >= 0.45 and i[0] < 0.65:\n",
        "        ragu_ragu += 1\n",
        "    elif i[0] >= 0.65 and i[0] < 0.85:\n",
        "        agak_loyal += 1\n",
        "    else:\n",
        "        loyal += 1\n",
        "print(target_names[0], churn)\n",
        "print(target_names[1], cenderung_churn)\n",
        "print(target_names[2], ragu_ragu)\n",
        "print(target_names[3], agak_loyal)\n",
        "print(target_names[4], loyal)\n",
        "\n",
        "fig = plt.figure(figsize = (21, 7))  \n",
        "X_axis = np.arange(len(target_names))\n",
        "plt.bar(target_names, [churn, cenderung_churn, ragu_ragu, agak_loyal, loyal], width = 0.4, label = \"Subscribe Status\")\n",
        "  \n",
        "plt.xticks(X_axis, target_names)\n",
        "plt.xlabel(\"Subscribe Status\")\n",
        "plt.ylabel(\"Count\")\n",
        "plt.title(\"Subscribe Status Predcition\")\n",
        "plt.legend()\n",
        "plt.show()"
      ],
      "execution_count": 52,
      "outputs": [
        {
          "output_type": "stream",
          "name": "stdout",
          "text": [
            "Churn 31090\n",
            "Cenderung Churn 7279\n",
            "Ragu-ragu 12669\n",
            "Agak Loyal 2005\n",
            "Loyal 3755\n"
          ]
        },
        {
          "output_type": "display_data",
          "data": {
            "image/png": "[encoded data removed]",
            "text/plain": [
              "<Figure size 1512x504 with 1 Axes>"
            ]
          },
          "metadata": {
            "needs_background": "light"
          }
        }
      ]
    },
    {
      "cell_type": "code",
      "metadata": {
        "colab": {
          "base_uri": "https://localhost:8080/",
          "height": 457
        },
        "id": "LvrK4GAiuTNi",
        "outputId": "f261c18b-829d-4d9d-9e8b-89cf32a54d16"
      },
      "source": [
        "target_names = [\"Unsubscribe\", \"Subscribe\"]\n",
        "\n",
        "fig = plt.figure(figsize = (21, 7))  \n",
        "X_axis = np.arange(len(target_names))\n",
        "plt.bar(target_names, [list(list(y_train) + list(y_test)).count(0), list(list(y_train) + list(y_test)).count(1)], width = 0.7, label = \"Subscribe Status\")\n",
        "  \n",
        "plt.xticks(X_axis, target_names)\n",
        "plt.xlabel(\"Subscribe Status\")\n",
        "plt.ylabel(\"Count\")\n",
        "plt.title(\"Subscribe Status Predcition\")\n",
        "plt.legend()\n",
        "plt.show()"
      ],
      "execution_count": 66,
      "outputs": [
        {
          "output_type": "display_data",
          "data": {
            "image/png": "[encoded data removed]",
            "text/plain": [
              "<Figure size 1512x504 with 1 Axes>"
            ]
          },
          "metadata": {
            "needs_background": "light"
          }
        }
      ]
    },
    {
      "cell_type": "code",
      "metadata": {
        "id": "r9LMZIAxMAUN",
        "colab": {
          "base_uri": "https://localhost:8080/",
          "height": 450
        },
        "outputId": "d2b30829-e7ed-42bc-9bb8-38d24b11cb00"
      },
      "source": [
        "'''\n",
        "print(\"TP : {} \".format(df_temp[[\"billing_std_paymentDate\"]].loc[(df_temp[\"subscribe_status\"] == \"UNSUBSCRIBE\") & (df_temp[\"billing_std_paymentDate\"] >= 7.6)].count()[0]))\n",
        "print(\"FP : {} \".format(df_temp[[\"billing_std_paymentDate\"]].loc[(df_temp[\"subscribe_status\"] == \"SUBSCRIBE\") & (df_temp[\"billing_std_paymentDate\"] >= 7.6)].count()[0]))\n",
        "\n",
        "print(\"TN : {} \".format(df_temp[[\"billing_std_paymentDate\"]].loc[(df_temp[\"subscribe_status\"] == \"SUBSCRIBE\") & (df_temp[\"billing_std_paymentDate\"] < 7.6)].count()[0]))\n",
        "print(\"FN : {} \".format(df_temp[[\"billing_std_paymentDate\"]].loc[(df_temp[\"subscribe_status\"] == \"UNSUBSCRIBE\") & (df_temp[\"billing_std_paymentDate\"] < 7.6)].count()[0]))\n",
        "\n",
        "TP = df_temp[[\"billing_std_paymentDate\"]].loc[(df_temp[\"subscribe_status\"] == \"UNSUBSCRIBE\") & (df_temp[\"billing_std_paymentDate\"] >= 7.6)].count()[0]\n",
        "FP = df_temp[[\"billing_std_paymentDate\"]].loc[(df_temp[\"subscribe_status\"] == \"SUBSCRIBE\") & (df_temp[\"billing_std_paymentDate\"] >= 7.6)].count()[0]\n",
        "FN = df_temp[[\"billing_std_paymentDate\"]].loc[(df_temp[\"subscribe_status\"] == \"UNSUBSCRIBE\") & (df_temp[\"billing_std_paymentDate\"] < 7.6)].count()[0]\n",
        "TN = df_temp[[\"billing_std_paymentDate\"]].loc[(df_temp[\"subscribe_status\"] == \"SUBSCRIBE\") & (df_temp[\"billing_std_paymentDate\"] < 7.6)].count()[0]\n",
        "\n",
        "print(\"Sensitivity : {} \".format((TN)/(TN+FP)))\n",
        "print(\"Recall : {} \".format((TP)/(TP+FN)))\n",
        "print(\"Precision : {} \".format((TP)/(TP+FP)))\n",
        "print(\"Accuracy : {} \".format((TP+TN)/(TP+FP+TN+FN)))\n",
        "'''"
      ],
      "execution_count": 57,
      "outputs": [
        {
          "output_type": "error",
          "ename": "KeyError",
          "evalue": "ignored",
          "traceback": [
            "\u001b[0;31m---------------------------------------------------------------------------\u001b[0m",
            "\u001b[0;31mKeyError\u001b[0m                                  Traceback (most recent call last)",
            "\u001b[0;32m<ipython-input-57-136ffc61cdee>\u001b[0m in \u001b[0;36m<module>\u001b[0;34m()\u001b[0m\n\u001b[0;32m----> 1\u001b[0;31m \u001b[0mprint\u001b[0m\u001b[0;34m(\u001b[0m\u001b[0;34m\"TP : {} \"\u001b[0m\u001b[0;34m.\u001b[0m\u001b[0mformat\u001b[0m\u001b[0;34m(\u001b[0m\u001b[0mdf_temp\u001b[0m\u001b[0;34m[\u001b[0m\u001b[0;34m[\u001b[0m\u001b[0;34m\"billing_std_paymentDate\"\u001b[0m\u001b[0;34m]\u001b[0m\u001b[0;34m]\u001b[0m\u001b[0;34m.\u001b[0m\u001b[0mloc\u001b[0m\u001b[0;34m[\u001b[0m\u001b[0;34m(\u001b[0m\u001b[0mdf_temp\u001b[0m\u001b[0;34m[\u001b[0m\u001b[0;34m\"subscribe_status\"\u001b[0m\u001b[0;34m]\u001b[0m \u001b[0;34m==\u001b[0m \u001b[0;34m\"UNSUBSCRIBE\"\u001b[0m\u001b[0;34m)\u001b[0m \u001b[0;34m&\u001b[0m \u001b[0;34m(\u001b[0m\u001b[0mdf_temp\u001b[0m\u001b[0;34m[\u001b[0m\u001b[0;34m\"billing_std_paymentDate\"\u001b[0m\u001b[0;34m]\u001b[0m \u001b[0;34m>=\u001b[0m \u001b[0;36m7.6\u001b[0m\u001b[0;34m)\u001b[0m\u001b[0;34m]\u001b[0m\u001b[0;34m.\u001b[0m\u001b[0mcount\u001b[0m\u001b[0;34m(\u001b[0m\u001b[0;34m)\u001b[0m\u001b[0;34m[\u001b[0m\u001b[0;36m0\u001b[0m\u001b[0;34m]\u001b[0m\u001b[0;34m)\u001b[0m\u001b[0;34m)\u001b[0m\u001b[0;34m\u001b[0m\u001b[0;34m\u001b[0m\u001b[0m\n\u001b[0m\u001b[1;32m      2\u001b[0m \u001b[0mprint\u001b[0m\u001b[0;34m(\u001b[0m\u001b[0;34m\"FP : {} \"\u001b[0m\u001b[0;34m.\u001b[0m\u001b[0mformat\u001b[0m\u001b[0;34m(\u001b[0m\u001b[0mdf_temp\u001b[0m\u001b[0;34m[\u001b[0m\u001b[0;34m[\u001b[0m\u001b[0;34m\"billing_std_paymentDate\"\u001b[0m\u001b[0;34m]\u001b[0m\u001b[0;34m]\u001b[0m\u001b[0;34m.\u001b[0m\u001b[0mloc\u001b[0m\u001b[0;34m[\u001b[0m\u001b[0;34m(\u001b[0m\u001b[0mdf_temp\u001b[0m\u001b[0;34m[\u001b[0m\u001b[0;34m\"subscribe_status\"\u001b[0m\u001b[0;34m]\u001b[0m \u001b[0;34m==\u001b[0m \u001b[0;34m\"SUBSCRIBE\"\u001b[0m\u001b[0;34m)\u001b[0m \u001b[0;34m&\u001b[0m \u001b[0;34m(\u001b[0m\u001b[0mdf_temp\u001b[0m\u001b[0;34m[\u001b[0m\u001b[0;34m\"billing_std_paymentDate\"\u001b[0m\u001b[0;34m]\u001b[0m \u001b[0;34m>=\u001b[0m \u001b[0;36m7.6\u001b[0m\u001b[0;34m)\u001b[0m\u001b[0;34m]\u001b[0m\u001b[0;34m.\u001b[0m\u001b[0mcount\u001b[0m\u001b[0;34m(\u001b[0m\u001b[0;34m)\u001b[0m\u001b[0;34m[\u001b[0m\u001b[0;36m0\u001b[0m\u001b[0;34m]\u001b[0m\u001b[0;34m)\u001b[0m\u001b[0;34m)\u001b[0m\u001b[0;34m\u001b[0m\u001b[0;34m\u001b[0m\u001b[0m\n\u001b[1;32m      3\u001b[0m \u001b[0;34m\u001b[0m\u001b[0m\n\u001b[1;32m      4\u001b[0m \u001b[0mprint\u001b[0m\u001b[0;34m(\u001b[0m\u001b[0;34m\"TN : {} \"\u001b[0m\u001b[0;34m.\u001b[0m\u001b[0mformat\u001b[0m\u001b[0;34m(\u001b[0m\u001b[0mdf_temp\u001b[0m\u001b[0;34m[\u001b[0m\u001b[0;34m[\u001b[0m\u001b[0;34m\"billing_std_paymentDate\"\u001b[0m\u001b[0;34m]\u001b[0m\u001b[0;34m]\u001b[0m\u001b[0;34m.\u001b[0m\u001b[0mloc\u001b[0m\u001b[0;34m[\u001b[0m\u001b[0;34m(\u001b[0m\u001b[0mdf_temp\u001b[0m\u001b[0;34m[\u001b[0m\u001b[0;34m\"subscribe_status\"\u001b[0m\u001b[0;34m]\u001b[0m \u001b[0;34m==\u001b[0m \u001b[0;34m\"SUBSCRIBE\"\u001b[0m\u001b[0;34m)\u001b[0m \u001b[0;34m&\u001b[0m \u001b[0;34m(\u001b[0m\u001b[0mdf_temp\u001b[0m\u001b[0;34m[\u001b[0m\u001b[0;34m\"billing_std_paymentDate\"\u001b[0m\u001b[0;34m]\u001b[0m \u001b[0;34m<\u001b[0m \u001b[0;36m7.6\u001b[0m\u001b[0;34m)\u001b[0m\u001b[0;34m]\u001b[0m\u001b[0;34m.\u001b[0m\u001b[0mcount\u001b[0m\u001b[0;34m(\u001b[0m\u001b[0;34m)\u001b[0m\u001b[0;34m[\u001b[0m\u001b[0;36m0\u001b[0m\u001b[0;34m]\u001b[0m\u001b[0;34m)\u001b[0m\u001b[0;34m)\u001b[0m\u001b[0;34m\u001b[0m\u001b[0;34m\u001b[0m\u001b[0m\n\u001b[1;32m      5\u001b[0m \u001b[0mprint\u001b[0m\u001b[0;34m(\u001b[0m\u001b[0;34m\"FN : {} \"\u001b[0m\u001b[0;34m.\u001b[0m\u001b[0mformat\u001b[0m\u001b[0;34m(\u001b[0m\u001b[0mdf_temp\u001b[0m\u001b[0;34m[\u001b[0m\u001b[0;34m[\u001b[0m\u001b[0;34m\"billing_std_paymentDate\"\u001b[0m\u001b[0;34m]\u001b[0m\u001b[0;34m]\u001b[0m\u001b[0;34m.\u001b[0m\u001b[0mloc\u001b[0m\u001b[0;34m[\u001b[0m\u001b[0;34m(\u001b[0m\u001b[0mdf_temp\u001b[0m\u001b[0;34m[\u001b[0m\u001b[0;34m\"subscribe_status\"\u001b[0m\u001b[0;34m]\u001b[0m \u001b[0;34m==\u001b[0m \u001b[0;34m\"UNSUBSCRIBE\"\u001b[0m\u001b[0;34m)\u001b[0m \u001b[0;34m&\u001b[0m \u001b[0;34m(\u001b[0m\u001b[0mdf_temp\u001b[0m\u001b[0;34m[\u001b[0m\u001b[0;34m\"billing_std_paymentDate\"\u001b[0m\u001b[0;34m]\u001b[0m \u001b[0;34m<\u001b[0m \u001b[0;36m7.6\u001b[0m\u001b[0;34m)\u001b[0m\u001b[0;34m]\u001b[0m\u001b[0;34m.\u001b[0m\u001b[0mcount\u001b[0m\u001b[0;34m(\u001b[0m\u001b[0;34m)\u001b[0m\u001b[0;34m[\u001b[0m\u001b[0;36m0\u001b[0m\u001b[0;34m]\u001b[0m\u001b[0;34m)\u001b[0m\u001b[0;34m)\u001b[0m\u001b[0;34m\u001b[0m\u001b[0;34m\u001b[0m\u001b[0m\n",
            "\u001b[0;32m/usr/local/lib/python3.7/dist-packages/pandas/core/frame.py\u001b[0m in \u001b[0;36m__getitem__\u001b[0;34m(self, key)\u001b[0m\n\u001b[1;32m   2910\u001b[0m             \u001b[0;32mif\u001b[0m \u001b[0mis_iterator\u001b[0m\u001b[0;34m(\u001b[0m\u001b[0mkey\u001b[0m\u001b[0;34m)\u001b[0m\u001b[0;34m:\u001b[0m\u001b[0;34m\u001b[0m\u001b[0;34m\u001b[0m\u001b[0m\n\u001b[1;32m   2911\u001b[0m                 \u001b[0mkey\u001b[0m \u001b[0;34m=\u001b[0m \u001b[0mlist\u001b[0m\u001b[0;34m(\u001b[0m\u001b[0mkey\u001b[0m\u001b[0;34m)\u001b[0m\u001b[0;34m\u001b[0m\u001b[0;34m\u001b[0m\u001b[0m\n\u001b[0;32m-> 2912\u001b[0;31m             \u001b[0mindexer\u001b[0m \u001b[0;34m=\u001b[0m \u001b[0mself\u001b[0m\u001b[0;34m.\u001b[0m\u001b[0mloc\u001b[0m\u001b[0;34m.\u001b[0m\u001b[0m_get_listlike_indexer\u001b[0m\u001b[0;34m(\u001b[0m\u001b[0mkey\u001b[0m\u001b[0;34m,\u001b[0m \u001b[0maxis\u001b[0m\u001b[0;34m=\u001b[0m\u001b[0;36m1\u001b[0m\u001b[0;34m,\u001b[0m \u001b[0mraise_missing\u001b[0m\u001b[0;34m=\u001b[0m\u001b[0;32mTrue\u001b[0m\u001b[0;34m)\u001b[0m\u001b[0;34m[\u001b[0m\u001b[0;36m1\u001b[0m\u001b[0;34m]\u001b[0m\u001b[0;34m\u001b[0m\u001b[0;34m\u001b[0m\u001b[0m\n\u001b[0m\u001b[1;32m   2913\u001b[0m \u001b[0;34m\u001b[0m\u001b[0m\n\u001b[1;32m   2914\u001b[0m         \u001b[0;31m# take() does not accept boolean indexers\u001b[0m\u001b[0;34m\u001b[0m\u001b[0;34m\u001b[0m\u001b[0;34m\u001b[0m\u001b[0m\n",
            "\u001b[0;32m/usr/local/lib/python3.7/dist-packages/pandas/core/indexing.py\u001b[0m in \u001b[0;36m_get_listlike_indexer\u001b[0;34m(self, key, axis, raise_missing)\u001b[0m\n\u001b[1;32m   1252\u001b[0m             \u001b[0mkeyarr\u001b[0m\u001b[0;34m,\u001b[0m \u001b[0mindexer\u001b[0m\u001b[0;34m,\u001b[0m \u001b[0mnew_indexer\u001b[0m \u001b[0;34m=\u001b[0m \u001b[0max\u001b[0m\u001b[0;34m.\u001b[0m\u001b[0m_reindex_non_unique\u001b[0m\u001b[0;34m(\u001b[0m\u001b[0mkeyarr\u001b[0m\u001b[0;34m)\u001b[0m\u001b[0;34m\u001b[0m\u001b[0;34m\u001b[0m\u001b[0m\n\u001b[1;32m   1253\u001b[0m \u001b[0;34m\u001b[0m\u001b[0m\n\u001b[0;32m-> 1254\u001b[0;31m         \u001b[0mself\u001b[0m\u001b[0;34m.\u001b[0m\u001b[0m_validate_read_indexer\u001b[0m\u001b[0;34m(\u001b[0m\u001b[0mkeyarr\u001b[0m\u001b[0;34m,\u001b[0m \u001b[0mindexer\u001b[0m\u001b[0;34m,\u001b[0m \u001b[0maxis\u001b[0m\u001b[0;34m,\u001b[0m \u001b[0mraise_missing\u001b[0m\u001b[0;34m=\u001b[0m\u001b[0mraise_missing\u001b[0m\u001b[0;34m)\u001b[0m\u001b[0;34m\u001b[0m\u001b[0;34m\u001b[0m\u001b[0m\n\u001b[0m\u001b[1;32m   1255\u001b[0m         \u001b[0;32mreturn\u001b[0m \u001b[0mkeyarr\u001b[0m\u001b[0;34m,\u001b[0m \u001b[0mindexer\u001b[0m\u001b[0;34m\u001b[0m\u001b[0;34m\u001b[0m\u001b[0m\n\u001b[1;32m   1256\u001b[0m \u001b[0;34m\u001b[0m\u001b[0m\n",
            "\u001b[0;32m/usr/local/lib/python3.7/dist-packages/pandas/core/indexing.py\u001b[0m in \u001b[0;36m_validate_read_indexer\u001b[0;34m(self, key, indexer, axis, raise_missing)\u001b[0m\n\u001b[1;32m   1296\u001b[0m             \u001b[0;32mif\u001b[0m \u001b[0mmissing\u001b[0m \u001b[0;34m==\u001b[0m \u001b[0mlen\u001b[0m\u001b[0;34m(\u001b[0m\u001b[0mindexer\u001b[0m\u001b[0;34m)\u001b[0m\u001b[0;34m:\u001b[0m\u001b[0;34m\u001b[0m\u001b[0;34m\u001b[0m\u001b[0m\n\u001b[1;32m   1297\u001b[0m                 \u001b[0maxis_name\u001b[0m \u001b[0;34m=\u001b[0m \u001b[0mself\u001b[0m\u001b[0;34m.\u001b[0m\u001b[0mobj\u001b[0m\u001b[0;34m.\u001b[0m\u001b[0m_get_axis_name\u001b[0m\u001b[0;34m(\u001b[0m\u001b[0maxis\u001b[0m\u001b[0;34m)\u001b[0m\u001b[0;34m\u001b[0m\u001b[0;34m\u001b[0m\u001b[0m\n\u001b[0;32m-> 1298\u001b[0;31m                 \u001b[0;32mraise\u001b[0m \u001b[0mKeyError\u001b[0m\u001b[0;34m(\u001b[0m\u001b[0;34mf\"None of [{key}] are in the [{axis_name}]\"\u001b[0m\u001b[0;34m)\u001b[0m\u001b[0;34m\u001b[0m\u001b[0;34m\u001b[0m\u001b[0m\n\u001b[0m\u001b[1;32m   1299\u001b[0m \u001b[0;34m\u001b[0m\u001b[0m\n\u001b[1;32m   1300\u001b[0m             \u001b[0;31m# We (temporarily) allow for some missing keys with .loc, except in\u001b[0m\u001b[0;34m\u001b[0m\u001b[0;34m\u001b[0m\u001b[0;34m\u001b[0m\u001b[0m\n",
            "\u001b[0;31mKeyError\u001b[0m: \"None of [Index(['billing_std_paymentDate'], dtype='object')] are in the [columns]\""
          ]
        }
      ]
    },
    {
      "cell_type": "markdown",
      "metadata": {
        "id": "lELR4kuyFNlb"
      },
      "source": [
        "## Predict Payment Date (Predict billing_3_paymentDate)"
      ]
    },
    {
      "cell_type": "markdown",
      "metadata": {
        "id": "v8rmVjeZjWd9"
      },
      "source": [
        "### 1 Feature (paymentDate)"
      ]
    },
    {
      "cell_type": "code",
      "metadata": {
        "id": "4TmQWhy_BVeQ"
      },
      "source": [
        "j = 3\n",
        "witel_count = [df.loc[df[\"billing_{}_paymentDate\".format(j)] == df[\"billing_{}_paymentDate\".format(j)].unique()[i]].count()[0] for i in range(len(df[\"billing_{}_paymentDate\".format(j)].unique()))]\n",
        "witel_name = df[\"billing_{}_paymentDate\".format(j)].unique()\n",
        "plt.figure(figsize = (12, 6), dpi = 80)\n",
        "plt.bar(witel_name, witel_count)\n",
        "plt.xlabel(\"Payment Date 3\", fontweight = \"bold\")\n",
        "plt.show()"
      ],
      "execution_count": null,
      "outputs": []
    },
    {
      "cell_type": "code",
      "metadata": {
        "id": "AgOPELwBWAu4"
      },
      "source": [
        "from keras.utils import np_utils\n",
        "from sklearn.preprocessing import LabelEncoder\n",
        "\n",
        "df_temp = df.copy()\n",
        "df_temp = df_temp.sort_values(by = [\"billing_3_paymentDate\"], ascending = True)\n",
        "data = df_temp[[\"billing_12_paymentDate\",\n",
        "                \"billing_11_paymentDate\",\n",
        "                \"billing_10_paymentDate\",\n",
        "                \"billing_9_paymentDate\",\n",
        "                \"billing_8_paymentDate\",\n",
        "                \"billing_7_paymentDate\",\n",
        "                \"billing_6_paymentDate\",\n",
        "                \"billing_5_paymentDate\",\n",
        "                \"billing_4_paymentDate\"]].values\n",
        "label = df_temp[\"billing_3_paymentDate\"].values\n",
        "encoder = LabelEncoder()\n",
        "y = encoder.fit_transform(label)\n",
        "y = np_utils.to_categorical(y)\n",
        "\n",
        "print(data)\n",
        "print(y)"
      ],
      "execution_count": null,
      "outputs": []
    },
    {
      "cell_type": "code",
      "metadata": {
        "id": "MRD-Csszcc3R"
      },
      "source": [
        "from imblearn.over_sampling import RandomOverSampler\n",
        "\n",
        "ros = RandomOverSampler(random_state = 42)\n",
        "data, y = ros.fit_resample(data, y)"
      ],
      "execution_count": null,
      "outputs": []
    },
    {
      "cell_type": "code",
      "metadata": {
        "id": "HDOSOvVhCc-R"
      },
      "source": [
        "print(np.sort(df[\"billing_3_paymentDate\"].unique()))"
      ],
      "execution_count": null,
      "outputs": []
    },
    {
      "cell_type": "code",
      "metadata": {
        "id": "tpt8S4KWYRHY"
      },
      "source": [
        "from sklearn.model_selection import train_test_split\n",
        "\n",
        "training_set, test_set, training_label, test_label = train_test_split(data, y, \n",
        "                                                                      test_size = 0.2, \n",
        "                                                                      random_state = 42, \n",
        "                                                                      stratify = y)"
      ],
      "execution_count": null,
      "outputs": []
    },
    {
      "cell_type": "code",
      "metadata": {
        "id": "ouCPkw5SYSmv"
      },
      "source": [
        "X_train, X_test = training_set, test_set\n",
        "y_train, y_test = training_label, test_label\n",
        "X_train, y_train = np.array(X_train), np.array(y_train)\n",
        "X_test, y_test = np.array(X_test), np.array(y_test)\n",
        "\n",
        "X_train = np.reshape(X_train, (X_train.shape[0], X_train.shape[1], 1))\n",
        "X_test = np.reshape(X_test, (X_test.shape[0], X_test.shape[1], 1))"
      ],
      "execution_count": null,
      "outputs": []
    },
    {
      "cell_type": "code",
      "metadata": {
        "id": "U67qAicpYU1_"
      },
      "source": [
        "import tensorflow as tf\n",
        "\n",
        "model = tf.keras.Sequential([\n",
        "    tf.keras.layers.LSTM(units = 8, dropout = 0.2, input_shape = (X_train.shape[1], 1)),                         \n",
        "    #tf.keras.layers.LSTM(units = 8, return_sequences = True, dropout = 0.2),                         \n",
        "    #tf.keras.layers.LSTM(units = 8, return_sequences = True, dropout = 0.2),\n",
        "    #tf.keras.layers.LSTM(units = 8, dropout = 0.2),\n",
        "    tf.keras.layers.Flatten(),  \n",
        "    tf.keras.layers.Dense(128, activation = \"relu\"),                     \n",
        "    tf.keras.layers.Dense(32, activation = \"softmax\")],\n",
        "    name = \"LSTM_Predict_Next_Payment\")\n",
        "\n",
        "model.compile(optimizer = \"adam\",\n",
        "              loss = \"categorical_crossentropy\",\n",
        "              metrics = [\"accuracy\"])\n",
        "\n",
        "model.summary()"
      ],
      "execution_count": null,
      "outputs": []
    },
    {
      "cell_type": "code",
      "metadata": {
        "id": "a_xgj5t8YYGP"
      },
      "source": [
        "model.fit(X_train, y_train,\n",
        "          validation_data = (X_test, y_test),\n",
        "          epochs = 50,\n",
        "          batch_size = 32)"
      ],
      "execution_count": null,
      "outputs": []
    },
    {
      "cell_type": "code",
      "metadata": {
        "id": "dz8lMSWXaU3m"
      },
      "source": [
        "i = 0\n",
        "test = X_test[i]\n",
        "print(test)\n",
        "test = np.array(test)\n",
        "test = np.reshape(test, (1, test.shape[0], 1))\n",
        "\n",
        "print(\"Predict : {}\".format(np.argmax(model.predict(test)))) # Predict\n",
        "print(\"Actual : {}\".format(np.argmax(y_test[i]))) # Actual"
      ],
      "execution_count": null,
      "outputs": []
    },
    {
      "cell_type": "code",
      "metadata": {
        "id": "naJeONiu8W5v"
      },
      "source": [
        "df_temp[\"billing_3_paymentDate\"].unique()"
      ],
      "execution_count": null,
      "outputs": []
    },
    {
      "cell_type": "code",
      "metadata": {
        "id": "vhGfBnhq1h8J"
      },
      "source": [
        "from sklearn.metrics import confusion_matrix\n",
        "\n",
        "dictionary = {}\n",
        "true = []\n",
        "pred = []\n",
        "for i in range(test_set.shape[0]):\n",
        "    test = X_test[i]\n",
        "    test = np.array(test)\n",
        "    test = np.reshape(test, (1, test.shape[0], 1))\n",
        "\n",
        "    x = abs(np.argmax(model.predict(test)) - np.argmax(y_test[i]))\n",
        "    true.append(np.argmax(y_test[i]))\n",
        "    pred.append(np.argmax(model.predict(test)))\n",
        "\n",
        "    if x in dictionary:\n",
        "        dictionary[x] = dictionary[x] + 1\n",
        "    else:\n",
        "        dictionary[x] = 1\n",
        "    clear_output(wait = True)\n",
        "    print(\"Progress : {:.2%}\".format(i/test_set.shape[0]))\n",
        "\n",
        "dictionary = dict(sorted(dictionary.items()))\n",
        "\n",
        "print(\"Confusion Matrix\")\n",
        "cm = confusion_matrix(true, pred)\n",
        "cm = pd.DataFrame(cm)\n",
        "cm"
      ],
      "execution_count": null,
      "outputs": []
    },
    {
      "cell_type": "code",
      "metadata": {
        "id": "LOAgkoVJK_JE"
      },
      "source": [
        "plt.figure(figsize = (12, 6), dpi = 80)\n",
        "plt.bar(range(len(dictionary)), list(dictionary.values()), align = \"center\")\n",
        "plt.xticks(range(len(dictionary)), list(dictionary.keys()))\n",
        "plt.xlabel(\"Payment Date 3 Diff Prediction\", fontweight = \"bold\")\n",
        "plt.show()"
      ],
      "execution_count": null,
      "outputs": []
    },
    {
      "cell_type": "markdown",
      "metadata": {
        "id": "jrPVTqxNOw-L"
      },
      "source": [
        "### 2 Feature (paymentDate, paymentstatus)"
      ]
    },
    {
      "cell_type": "code",
      "metadata": {
        "id": "wNLZILrfOw-M"
      },
      "source": [
        "j = 3\n",
        "witel_count = [df.loc[df[\"billing_{}_paymentDate\".format(j)] == df[\"billing_{}_paymentDate\".format(j)].unique()[i]].count()[0] for i in range(len(df[\"billing_{}_paymentDate\".format(j)].unique()))]\n",
        "witel_name = df[\"billing_{}_paymentDate\".format(j)].unique()\n",
        "plt.figure(figsize = (12, 6), dpi = 80)\n",
        "plt.bar(witel_name, witel_count)\n",
        "plt.xlabel(\"Payment Date 3\", fontweight = \"bold\")\n",
        "plt.show()"
      ],
      "execution_count": null,
      "outputs": []
    },
    {
      "cell_type": "code",
      "metadata": {
        "id": "D4115W78P9FI"
      },
      "source": [
        "print(np.sort(df[\"billing_4_status\"].unique()))"
      ],
      "execution_count": null,
      "outputs": []
    },
    {
      "cell_type": "code",
      "metadata": {
        "id": "qK_2N7jvOw-M"
      },
      "source": [
        "from keras.utils import np_utils\n",
        "from sklearn.preprocessing import LabelEncoder\n",
        "\n",
        "df_temp = df.copy()\n",
        "df_temp = df_temp.sort_values(by = [\"billing_3_paymentDate\"], ascending = True)\n",
        "for month in [1, 2, 3, 4, 5, 6, 7, 8, 9, 10, 11, 12]:\n",
        "    df_temp[[\"billing_{}_status\".format(month)]] = df_temp[\"billing_{}_status\".format(month)].apply(lambda x: 0 if x == \"-\" else (1 if x == \"ZERO BILLING\" else (2 if x == \"UNPAID\" else (3 if x == \"PARTIAL\" else 4))))\n",
        "dat1 = df_temp[[\"billing_12_paymentDate\",\n",
        "                \"billing_11_paymentDate\",\n",
        "                \"billing_10_paymentDate\",\n",
        "                \"billing_9_paymentDate\",\n",
        "                \"billing_8_paymentDate\",\n",
        "                \"billing_7_paymentDate\",\n",
        "                \"billing_6_paymentDate\",\n",
        "                \"billing_5_paymentDate\",\n",
        "                \"billing_4_paymentDate\"]].values\n",
        "dat2 = df_temp[[\"billing_12_status\",\n",
        "                \"billing_11_status\",\n",
        "                \"billing_10_status\",\n",
        "                \"billing_9_status\",\n",
        "                \"billing_8_status\",\n",
        "                \"billing_7_status\",\n",
        "                \"billing_6_status\",\n",
        "                \"billing_5_status\",\n",
        "                \"billing_4_status\"]].values\n",
        "data = []\n",
        "for i in range(dat1.shape[0]):\n",
        "    b = []\n",
        "    for j in range(dat1.shape[1]):\n",
        "        c = []\n",
        "        c.append(dat1[i][j])\n",
        "        c.append(dat2[i][j])\n",
        "        b.append(c)\n",
        "    data.append(b)\n",
        "data = np.array(data)\n",
        "label = df_temp[\"billing_3_paymentDate\"].values\n",
        "encoder = LabelEncoder()\n",
        "y = encoder.fit_transform(label)\n",
        "y = np_utils.to_categorical(y)\n",
        "\n",
        "print(data)\n",
        "print(y)"
      ],
      "execution_count": null,
      "outputs": []
    },
    {
      "cell_type": "code",
      "metadata": {
        "id": "4Ezt8bKuOw-N"
      },
      "source": [
        "from imblearn.over_sampling import RandomOverSampler\n",
        "\n",
        "ros = RandomOverSampler(random_state = 42)\n",
        "data, y = ros.fit_resample(np.reshape(data, (data.shape[0], -1)), y)"
      ],
      "execution_count": null,
      "outputs": []
    },
    {
      "cell_type": "code",
      "metadata": {
        "id": "17HF0dCiOw-N"
      },
      "source": [
        "print(np.sort(df[\"billing_3_paymentDate\"].unique()))"
      ],
      "execution_count": null,
      "outputs": []
    },
    {
      "cell_type": "code",
      "metadata": {
        "id": "nXIs3NBXOw-N"
      },
      "source": [
        "from sklearn.model_selection import train_test_split\n",
        "\n",
        "training_set, test_set, training_label, test_label = train_test_split(data, y, \n",
        "                                                                      test_size = 0.2, \n",
        "                                                                      random_state = 42, \n",
        "                                                                      stratify = y)"
      ],
      "execution_count": null,
      "outputs": []
    },
    {
      "cell_type": "code",
      "metadata": {
        "id": "7nbg51khOw-O"
      },
      "source": [
        "X_train, X_test = training_set, test_set\n",
        "y_train, y_test = training_label, test_label\n",
        "X_train, y_train = np.array(X_train), np.array(y_train)\n",
        "X_test, y_test = np.array(X_test), np.array(y_test)\n",
        "\n",
        "X_train = np.reshape(X_train, (X_train.shape[0], 9, 2))\n",
        "X_test = np.reshape(X_test, (X_test.shape[0], 9, 2))"
      ],
      "execution_count": null,
      "outputs": []
    },
    {
      "cell_type": "code",
      "metadata": {
        "id": "jdEnCEdBOw-O"
      },
      "source": [
        "import tensorflow as tf\n",
        "\n",
        "model = tf.keras.Sequential([\n",
        "    tf.keras.layers.LSTM(units = 8, dropout = 0.2, input_shape = (X_train.shape[1], 2)),                         \n",
        "    #tf.keras.layers.LSTM(units = 8, return_sequences = True, dropout = 0.2),                         \n",
        "    #tf.keras.layers.LSTM(units = 8, return_sequences = True, dropout = 0.2),\n",
        "    #tf.keras.layers.LSTM(units = 8, dropout = 0.2),\n",
        "    tf.keras.layers.Flatten(),  \n",
        "    tf.keras.layers.Dense(128, activation = \"relu\"),                     \n",
        "    tf.keras.layers.Dense(32, activation = \"softmax\")],\n",
        "    name = \"LSTM_Predict_Next_Payment\")\n",
        "\n",
        "model.compile(optimizer = \"adam\",\n",
        "              loss = \"categorical_crossentropy\",\n",
        "              metrics = [\"accuracy\"])\n",
        "\n",
        "model.summary()"
      ],
      "execution_count": null,
      "outputs": []
    },
    {
      "cell_type": "code",
      "metadata": {
        "id": "R-hyr5oxOw-O"
      },
      "source": [
        "model.fit(X_train, y_train,\n",
        "          validation_data = (X_test, y_test),\n",
        "          epochs = 50,\n",
        "          batch_size = 32)"
      ],
      "execution_count": null,
      "outputs": []
    },
    {
      "cell_type": "code",
      "metadata": {
        "id": "GT8e8AhJOw-O"
      },
      "source": [
        "i = 0\n",
        "test = X_test[i]\n",
        "print(test)\n",
        "test = np.array(test)\n",
        "test = np.reshape(test, (1, 9, 2))\n",
        "\n",
        "print(\"Predict : {}\".format(np.argmax(model.predict(test)))) # Predict\n",
        "print(\"Actual : {}\".format(np.argmax(y_test[i]))) # Actual"
      ],
      "execution_count": null,
      "outputs": []
    },
    {
      "cell_type": "code",
      "metadata": {
        "id": "YDCCbAKtOw-P"
      },
      "source": [
        "df_temp[\"billing_3_paymentDate\"].unique()"
      ],
      "execution_count": null,
      "outputs": []
    },
    {
      "cell_type": "code",
      "metadata": {
        "id": "5w9y-xfsOw-P"
      },
      "source": [
        "from sklearn.metrics import confusion_matrix\n",
        "\n",
        "dictionary = {}\n",
        "true = []\n",
        "pred = []\n",
        "for i in range(test_set.shape[0]):\n",
        "    test = X_test[i]\n",
        "    test = np.array(test)\n",
        "    test = np.reshape(test, (1, 9, 2))\n",
        "\n",
        "    x = abs(np.argmax(model.predict(test)) - np.argmax(y_test[i]))\n",
        "    true.append(np.argmax(y_test[i]))\n",
        "    pred.append(np.argmax(model.predict(test)))\n",
        "\n",
        "    if x in dictionary:\n",
        "        dictionary[x] = dictionary[x] + 1\n",
        "    else:\n",
        "        dictionary[x] = 1\n",
        "    clear_output(wait = True)\n",
        "    print(\"Progress : {:.2%}\".format(i/test_set.shape[0]))\n",
        "\n",
        "dictionary = dict(sorted(dictionary.items()))\n",
        "\n",
        "print(\"Confusion Matrix\")\n",
        "cm = confusion_matrix(true, pred)\n",
        "cm = pd.DataFrame(cm)\n",
        "cm"
      ],
      "execution_count": null,
      "outputs": []
    },
    {
      "cell_type": "code",
      "metadata": {
        "id": "Uay7DuPUOw-Q"
      },
      "source": [
        "plt.figure(figsize = (12, 6), dpi = 80)\n",
        "plt.bar(range(len(dictionary)), list(dictionary.values()), align = \"center\")\n",
        "plt.xticks(range(len(dictionary)), list(dictionary.keys()))\n",
        "plt.xlabel(\"Payment Date 3 Diff Prediction\", fontweight = \"bold\")\n",
        "plt.show()"
      ],
      "execution_count": null,
      "outputs": []
    },
    {
      "cell_type": "markdown",
      "metadata": {
        "id": "X_tXO8xIRtIJ"
      },
      "source": [
        "### 3 Feature (paymentDate, amountTotal, paymentstatus)"
      ]
    },
    {
      "cell_type": "code",
      "metadata": {
        "id": "K9KMlCT6RtIJ"
      },
      "source": [
        "j = 3\n",
        "witel_count = [df.loc[df[\"billing_{}_paymentDate\".format(j)] == df[\"billing_{}_paymentDate\".format(j)].unique()[i]].count()[0] for i in range(len(df[\"billing_{}_paymentDate\".format(j)].unique()))]\n",
        "witel_name = df[\"billing_{}_paymentDate\".format(j)].unique()\n",
        "plt.figure(figsize = (12, 6), dpi = 80)\n",
        "plt.bar(witel_name, witel_count)\n",
        "plt.xlabel(\"Payment Date 3\", fontweight = \"bold\")\n",
        "plt.show()"
      ],
      "execution_count": null,
      "outputs": []
    },
    {
      "cell_type": "code",
      "metadata": {
        "id": "h9P6BOloRtIK"
      },
      "source": [
        "print(np.sort(df[\"billing_4_status\"].unique()))"
      ],
      "execution_count": null,
      "outputs": []
    },
    {
      "cell_type": "code",
      "metadata": {
        "id": "ZDtnKFM9RtIK"
      },
      "source": [
        "from keras.utils import np_utils\n",
        "from sklearn.preprocessing import LabelEncoder\n",
        "\n",
        "df_temp = df.copy()\n",
        "df_temp = df_temp.sort_values(by = [\"billing_3_paymentDate\"], ascending = True)\n",
        "for month in [1, 2, 3, 4, 5, 6, 7, 8, 9, 10, 11, 12]:\n",
        "    df_temp[[\"billing_{}_status\".format(month)]] = df_temp[\"billing_{}_status\".format(month)].apply(lambda x: 0 if x == \"-\" else (1 if x == \"ZERO BILLING\" else (2 if x == \"UNPAID\" else (3 if x == \"PARTIAL\" else 4))))\n",
        "dat1 = df_temp[[\"billing_12_paymentDate\",\n",
        "                \"billing_11_paymentDate\",\n",
        "                \"billing_10_paymentDate\",\n",
        "                \"billing_9_paymentDate\",\n",
        "                \"billing_8_paymentDate\",\n",
        "                \"billing_7_paymentDate\",\n",
        "                \"billing_6_paymentDate\",\n",
        "                \"billing_5_paymentDate\",\n",
        "                \"billing_4_paymentDate\"]].values\n",
        "dat2 = df_temp[[\"billing_12_amountTotal\",\n",
        "                \"billing_11_amountTotal\",\n",
        "                \"billing_10_amountTotal\",\n",
        "                \"billing_9_amountTotal\",\n",
        "                \"billing_8_amountTotal\",\n",
        "                \"billing_7_amountTotal\",\n",
        "                \"billing_6_amountTotal\",\n",
        "                \"billing_5_amountTotal\",\n",
        "                \"billing_4_amountTotal\"]].values\n",
        "dat3 = df_temp[[\"billing_12_status\",\n",
        "                \"billing_11_status\",\n",
        "                \"billing_10_status\",\n",
        "                \"billing_9_status\",\n",
        "                \"billing_8_status\",\n",
        "                \"billing_7_status\",\n",
        "                \"billing_6_status\",\n",
        "                \"billing_5_status\",\n",
        "                \"billing_4_status\"]].values\n",
        "data = []\n",
        "for i in range(dat1.shape[0]):\n",
        "    b = []\n",
        "    for j in range(dat1.shape[1]):\n",
        "        c = []\n",
        "        c.append(dat1[i][j])\n",
        "        c.append(dat2[i][j])\n",
        "        c.append(dat3[i][j])\n",
        "        b.append(c)\n",
        "    data.append(b)\n",
        "data = np.array(data)\n",
        "\n",
        "label = df_temp[\"billing_3_paymentDate\"].values\n",
        "encoder = LabelEncoder()\n",
        "y = encoder.fit_transform(label)\n",
        "y = np_utils.to_categorical(y)\n",
        "\n",
        "print(data)\n",
        "print(y)"
      ],
      "execution_count": null,
      "outputs": []
    },
    {
      "cell_type": "code",
      "metadata": {
        "id": "Lx3EmGMjRtIL"
      },
      "source": [
        "from imblearn.over_sampling import RandomOverSampler\n",
        "\n",
        "ros = RandomOverSampler(random_state = 42)\n",
        "data, y = ros.fit_resample(np.reshape(data, (data.shape[0], -1)), y)"
      ],
      "execution_count": null,
      "outputs": []
    },
    {
      "cell_type": "code",
      "metadata": {
        "id": "8jxbPUMlRtIL"
      },
      "source": [
        "print(np.sort(df[\"billing_3_paymentDate\"].unique()))"
      ],
      "execution_count": null,
      "outputs": []
    },
    {
      "cell_type": "code",
      "metadata": {
        "id": "40JVTKWMRtIL"
      },
      "source": [
        "from sklearn.model_selection import train_test_split\n",
        "\n",
        "training_set, test_set, training_label, test_label = train_test_split(data, y, \n",
        "                                                                      test_size = 0.2, \n",
        "                                                                      random_state = 42, \n",
        "                                                                      stratify = y)"
      ],
      "execution_count": null,
      "outputs": []
    },
    {
      "cell_type": "code",
      "metadata": {
        "id": "7ulL7MCmRtIM"
      },
      "source": [
        "X_train, X_test = training_set, test_set\n",
        "y_train, y_test = training_label, test_label\n",
        "X_train, y_train = np.array(X_train), np.array(y_train)\n",
        "X_test, y_test = np.array(X_test), np.array(y_test)\n",
        "\n",
        "X_train = np.reshape(X_train, (X_train.shape[0], 9, 3))\n",
        "X_test = np.reshape(X_test, (X_test.shape[0], 9, 3))"
      ],
      "execution_count": null,
      "outputs": []
    },
    {
      "cell_type": "code",
      "metadata": {
        "id": "zuL6s96DRtIM"
      },
      "source": [
        "import tensorflow as tf\n",
        "\n",
        "model = tf.keras.Sequential([\n",
        "    tf.keras.layers.LSTM(units = 8, dropout = 0.2, input_shape = (X_train.shape[1], 3)),                         \n",
        "    #tf.keras.layers.LSTM(units = 8, return_sequences = True, dropout = 0.2),                         \n",
        "    #tf.keras.layers.LSTM(units = 8, return_sequences = True, dropout = 0.2),\n",
        "    #tf.keras.layers.LSTM(units = 8, dropout = 0.2),\n",
        "    tf.keras.layers.Flatten(),  \n",
        "    tf.keras.layers.Dense(128, activation = \"relu\"),                     \n",
        "    tf.keras.layers.Dense(32, activation = \"softmax\")],\n",
        "    name = \"LSTM_Predict_Next_Payment\")\n",
        "\n",
        "model.compile(optimizer = \"adam\",\n",
        "              loss = \"categorical_crossentropy\",\n",
        "              metrics = [\"accuracy\"])\n",
        "\n",
        "model.summary()"
      ],
      "execution_count": null,
      "outputs": []
    },
    {
      "cell_type": "code",
      "metadata": {
        "id": "fpoxaKfARtIM"
      },
      "source": [
        "model.fit(X_train, y_train,\n",
        "          validation_data = (X_test, y_test),\n",
        "          epochs = 50,\n",
        "          batch_size = 32)"
      ],
      "execution_count": null,
      "outputs": []
    },
    {
      "cell_type": "code",
      "metadata": {
        "id": "9tuc54OARtIM"
      },
      "source": [
        "i = 0\n",
        "test = X_test[i]\n",
        "print(test)\n",
        "test = np.array(test)\n",
        "test = np.reshape(test, (1, 9, 3))\n",
        "\n",
        "print(\"Predict : {}\".format(np.argmax(model.predict(test)))) # Predict\n",
        "print(\"Actual : {}\".format(np.argmax(y_test[i]))) # Actual"
      ],
      "execution_count": null,
      "outputs": []
    },
    {
      "cell_type": "code",
      "metadata": {
        "id": "rN8-UeYBRtIN"
      },
      "source": [
        "df_temp[\"billing_3_paymentDate\"].unique()"
      ],
      "execution_count": null,
      "outputs": []
    },
    {
      "cell_type": "code",
      "metadata": {
        "id": "F-ugpQzURtIN"
      },
      "source": [
        "from sklearn.metrics import confusion_matrix\n",
        "\n",
        "dictionary = {}\n",
        "true = []\n",
        "pred = []\n",
        "for i in range(test_set.shape[0]):\n",
        "    test = X_test[i]\n",
        "    test = np.array(test)\n",
        "    test = np.reshape(test, (1, 9, 3))\n",
        "\n",
        "    x = abs(np.argmax(model.predict(test)) - np.argmax(y_test[i]))\n",
        "    true.append(np.argmax(y_test[i]))\n",
        "    pred.append(np.argmax(model.predict(test)))\n",
        "\n",
        "    if x in dictionary:\n",
        "        dictionary[x] = dictionary[x] + 1\n",
        "    else:\n",
        "        dictionary[x] = 1\n",
        "    clear_output(wait = True)\n",
        "    print(\"Progress : {:.2%}\".format(i/test_set.shape[0]))\n",
        "\n",
        "dictionary = dict(sorted(dictionary.items()))\n",
        "\n",
        "print(\"Confusion Matrix\")\n",
        "cm = confusion_matrix(true, pred)\n",
        "cm = pd.DataFrame(cm)\n",
        "cm"
      ],
      "execution_count": null,
      "outputs": []
    },
    {
      "cell_type": "code",
      "metadata": {
        "id": "0Rf8XlIzRtIN"
      },
      "source": [
        "plt.figure(figsize = (12, 6), dpi = 80)\n",
        "plt.bar(range(len(dictionary)), list(dictionary.values()), align = \"center\")\n",
        "plt.xticks(range(len(dictionary)), list(dictionary.keys()))\n",
        "plt.xlabel(\"Payment Date 3 Diff Prediction\", fontweight = \"bold\")\n",
        "plt.show()"
      ],
      "execution_count": null,
      "outputs": []
    }
  ]
}